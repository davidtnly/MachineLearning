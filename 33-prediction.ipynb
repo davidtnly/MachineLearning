{
 "cells": [
  {
   "cell_type": "markdown",
   "metadata": {},
   "source": [
    "test..."
   ]
  },
  {
   "cell_type": "code",
   "execution_count": null,
   "metadata": {},
   "outputs": [],
   "source": [
    "import pandas as pd\n",
    "import numpy as np\n",
    "from sklearn.preprocessing import Imputer\n",
    "from sklearn.externals import joblib\n",
    "from sklearn.metrics import accuracy_score\n",
    "\n",
    "def load_data(file_name, label_col_index=-1):\n",
    "    '''(string, int) -> array, array\n",
    "    \n",
    "    Given a file path and name to a csv file in the SAME FORMAT\n",
    "    as the test data set, this will laod the file and return two\n",
    "    arrays of values.  Label_col_index is the numerical index of the\n",
    "    label column, default is -1 (last column in data file).\n",
    "    '''\n",
    "    df = pd.read_csv(file_name, skipinitialspace=True, na_values=['?'])\n",
    "    #Get Features\n",
    "    x_df = df.drop(df.columns[label_col_index], axis=1)\n",
    "    X = x_df.values\n",
    "    \n",
    "    #Impute Missing x values\n",
    "    imp = Imputer(strategy=\"median\", axis=0)\n",
    "    X = imp.fit_transform(X)\n",
    "    \n",
    "    #Get Labels\n",
    "    df.iloc[:,label_col_index] = np.where(df.iloc[:,label_col_index]=='ad.', 1, 0)  \n",
    "    y_df = df.iloc[:,label_col_index]\n",
    "    y = y_df.values\n",
    "    \n",
    "    return X, y\n",
    "\n",
    "def load_model(file_name):\n",
    "    '''(string) -> sklearn classifier\n",
    "    \n",
    "    Given a file path and name to a joblib file, will return\n",
    "    the sklearn classifer as python object.\n",
    "    '''\n",
    "    clf = joblib.load(file_name)\n",
    "    return clf\n",
    "\n",
    "def run_model(data_file, model_file, label_col_index=-1):\n",
    "    '''(string, string, int) -> None\n",
    "    \n",
    "    Given a path to a data file in the same form as test data set,\n",
    "    and to a joblib file containing the final model, this function will\n",
    "    load the data and then run the model and score it.\n",
    "    \n",
    "    This function assumes that the labels will be included with the data\n",
    "    file.\n",
    "    '''\n",
    "    #Load data\n",
    "    X, y = load_data(data_file, label_col_index=label_col_index)\n",
    "    #Load model\n",
    "    try:\n",
    "        clf = load_model(model_file)\n",
    "    except:\n",
    "        print \"Error loading model file\"\n",
    "        print \"Did you unzip 'final_model.zip'?\"\n",
    "    #Make predictions\n",
    "    predictions = clf.predict(X)\n",
    "    #Calculate score\n",
    "    score = accuracy_score(predictions, y)\n",
    "    print \"Model Accuracy: \" + str(score) \n",
    "    \n",
    "if __name__ == \"__main__\":\n",
    "    run_model(\"data.csv\", \"final_model.pkl\")"
   ]
  }
 ],
 "metadata": {
  "kernelspec": {
   "display_name": "Python 3.6 (TensorFlow)",
   "language": "python",
   "name": "tf-test"
  },
  "language_info": {
   "codemirror_mode": {
    "name": "ipython",
    "version": 3
   },
   "file_extension": ".py",
   "mimetype": "text/x-python",
   "name": "python",
   "nbconvert_exporter": "python",
   "pygments_lexer": "ipython3",
   "version": "3.6.8"
  }
 },
 "nbformat": 4,
 "nbformat_minor": 2
}
