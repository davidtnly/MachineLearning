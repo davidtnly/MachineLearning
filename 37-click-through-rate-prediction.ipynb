{
 "cells": [
  {
   "cell_type": "markdown",
   "metadata": {},
   "source": [
    "## Avato\n",
    "\n",
    "# [Click-Through Rate Prediction](https://www.kaggle.com/c/avazu-ctr-prediction/overview)\n",
    "\n",
    "_**Machine Learning combined with sensitivity analysis to develop and optimize marketing business strategies**_\n",
    "\n",
    "---\n",
    "\n",
    "---"
   ]
  },
  {
   "cell_type": "markdown",
   "metadata": {},
   "source": [
    "## Project Overview\n",
    "---\n",
    "In online advertising, click-through rate (CTR) is a very important metric for evaluating ad performance. As a result, click prediction systems are essential and widely used for sponsored search and real-time bidding. Machine learning is routinely used to help make business decisions yet most often, ML is only used to make predictions while business decisions require some judgement and intuition from experts.\n",
    "\n",
    "\n",
    "## Data\n",
    "---\n",
    "For this competition, Avazu have provided 11 days worth of data to build and test prediction models. The train data covers 10 days of click streams data from 2014–10–21 to 2014–10–30, that is 240 hours and 1 day of ads for testing model predictions.\n",
    "\n",
    "### Files\n",
    "- train - Training set. 10 days of click-through data, ordered chronologically. Non-clicks and clicks are subsampled according to different strategies.\n",
    "- test - Test set. 1 day of ads to for testing your model predictions. \n",
    "- sampleSubmission.csv - Sample submission file in the correct format, corresponds to the All-0.5 Benchmark.\n",
    "\n",
    "### Characteristics\n",
    "\n",
    "- id: ad identifier\n",
    "- click: 0/1 for non-click/click\n",
    "- hour: format is YYMMDDHH, so 14091123 means 23:00 on Sept. 11, 2014 UTC.\n",
    "- C1 -- anonymized categorical variable\n",
    "- banner_pos\n",
    "- site_id\n",
    "- site_domain\n",
    "- site_category\n",
    "- app_id\n",
    "- app_domain\n",
    "- app_category\n",
    "- device_id\n",
    "- device_ip\n",
    "- device_model\n",
    "- device_type\n",
    "- device_conn_type\n",
    "- C14-C21\n",
    "\n",
    "\n",
    "__Target feature__: click\n",
    "\n",
    "__Site features__: site_id, site_domain, site_category\n",
    "\n",
    "__App features__: app_id, app_domain, app_category\n",
    "\n",
    "__Device feature__: device_id, device_ip, device_model, device_type, device_conn_type\n",
    "\n",
    "__Anonymized categorical features__: C14-C21\n",
    "\n",
    "\n",
    "\n",
    "## Evaluation\n",
    "---\n",
    "Click-through rate is a number, but we need to determine if the user is going to click or not so we will be predicting using classification models. Our evaluation metric will be logarithmic loss to determine how accurate the final model is. Log loss measures the performance of a classification model where the prediction input is a probability value between 0 and 1. The goal of the machine learning model is to minimize this value (error). Log loss takes into account the uncertainty of the prediction based on how much it varies from the actual label as it penalizes both types of errors especially those that are confident and wrong.\n",
    "\n",
    "#### Calculating log loss from scratch\n",
    "    def logloss(true_label, predicted, eps=1e-15):\n",
    "      p = np.clip(predicted, eps, 1 - eps)\n",
    "      if true_label == 1:\n",
    "        return -log(p)\n",
    "      else:\n",
    "        return -log(1 - p)\n",
    "        \n",
    "#### Sklearn\n",
    "    from sklearn.metrics import log_loss\n",
    "    log_loss(y_true, y_pred, eps=1e-15)\n",
    "\n",
    "#### Keras (Deep Learning)\n",
    "    model.compile(loss='categorical_cross_entropy', optimizer='sgd')\n",
    "\n",
    "## Modeling\n",
    "---\n",
    "\n",
    "### Benchmark Model\n",
    "TODO\n",
    "\n",
    "### Best Model\n",
    "TODO\n",
    "\n",
    "\n",
    "## Application\n",
    "---\n",
    "Apply machine learning models and analysis to design business strategy.\n",
    "\n",
    "\n",
    "## Overall Methodology\n",
    "----------\n",
    "I like to add this framework here so I can always go back to it and check if I need to work on a certain step or want to add more to it. I don't necessarily need to do every step.\n",
    "\n",
    "\n",
    "1. Framing the problem\n",
    "    - What are we trying to solve?\n",
    "    - Understand what's the problem here and ask questions\n",
    "    - What type of problem are we trying to solve?\n",
    "        - Classification, regression, etc.\n",
    "        - Types of algorithms specified for possible use         \n",
    "2. Collecting relevant information and data\n",
    "    - What type of data do we have?\n",
    "    - Can we use any complimentary data with that is public that will help our with our analysis/modeling?\n",
    "    - What other data requirements are there?\n",
    "    - What is considered a success for this problem?\n",
    "    - What libraries do we need?\n",
    "        - How do we know if our models are good?\n",
    "3. Process for analysis (preprocessing & cleaning)\n",
    "    - How does the data structure and distribution look like?\n",
    "    - Is the data usable right away?\n",
    "    - Can the data be plotted?\n",
    "    - What changes do we need in order to make the data usable if it's not already?\n",
    "    - This step is not really an isolated step as it can encompass exploratory, feature engineering + more\n",
    "4. Exploratory data analysis\n",
    "    - How does the data look like?\n",
    "    - Are there any patterns?\n",
    "        - Identify any summary statistics, plotting, counting, etc.\n",
    "    - Familiarize yourself with the data\n",
    "    - Basically the step to help you get to know the data better\n",
    "5. Feature engineering (applied machine learning)\n",
    "    - Can we create more data (features) that will be helpful for our models?\n",
    "    - \"... re-working of predictors is more of an art, requiring the right tools and experience to find better predictor representations\" - Max Kuhn\n",
    "6. Statistical analysis\n",
    "    - Univariate, bivariate, multivariate analysis\n",
    "        - Analysis of a single feature\n",
    "        - Analysis of two features and their relationships\n",
    "        - Analysis of data collected on more than one dependent variable and their relationships (PCA, PLS)\n",
    "7. Model development & scoring\n",
    "    - Splitting the data into train and test sets\n",
    "        - Always make sure you have a completely separate data to test your final model on after hyperparameter tuning and training has been done\n",
    "        - Think about your experimental design beforehand so that you minimize unrelated sources of variation and reduce as much data leakage (if any) as possible\n",
    "    - Normalizing the data to be on similar scales\n",
    "        - Normalization, standardization methods (Z-score, minmax, median)\n",
    "    - Create baseline, pre-tuned, and tuned models (includes cross-validation)\n",
    "        - Create easy to more complex models if needed (think about computational cost, complexity, explainability)\n",
    "    - Hyperparameter tuning\n",
    "    - Fit cross-validated tuned models using best hyperparameters\n",
    "    - Score model and get results\n",
    "8. Evaluation\n",
    "    - How accurate are the models?\n",
    "        - Are the models overfitting or underfitting?\n",
    "    - What evaluation metric are we using?\n",
    "    - Which features are important?\n",
    "    - Iterate steps if we are proceeding with specific features selected\n",
    "        - Dimensionality reduction methods (PCA, LDA) to see if we can reduce model complexity (this step can be before modeling as well)\n",
    "    - Is the final model good enough in terms of these questions:\n",
    "        - Accuracy: How many does it get right?\n",
    "        - Speed: How fast does it take for the model to deploy?\n",
    "        - Scalability: Can the model handle large datasets?\n",
    "        - Robustness: How well does the model handle outliers/missing values?\n",
    "        - Interpretability: Is the model easy to understand?\n",
    "9. Results\n",
    "    - What's our conclusion?\n",
    "    - What actions are we going to take?\n",
    "10. Ending notes\n",
    "    - Extra information that we may not go over like steps that we did not go into or missed\n",
    "        - Any other possible methods/solutions that we could look at in the future"
   ]
  },
  {
   "cell_type": "markdown",
   "metadata": {},
   "source": [
    "---\n",
    "---"
   ]
  },
  {
   "cell_type": "markdown",
   "metadata": {},
   "source": [
    "### Import libraries\n",
    "---"
   ]
  },
  {
   "cell_type": "code",
   "execution_count": 1,
   "metadata": {},
   "outputs": [
    {
     "data": {
      "image/png": "[encoded data removed]",
      "text/plain": [
       "<Figure size 432x72 with 1 Axes>"
      ]
     },
     "metadata": {
      "needs_background": "light"
     },
     "output_type": "display_data"
    }
   ],
   "source": [
    "# Toolbox 101\n",
    "from datetime import datetime, timedelta, date\n",
    "from tqdm import tqdm\n",
    "import pickle\n",
    "import gc\n",
    "import os\n",
    "import gzip\n",
    "import pandas as pd\n",
    "import pandas_profiling\n",
    "import numpy as np\n",
    "import random as rand\n",
    "import datetime as dt\n",
    "import time\n",
    "import seaborn as sns\n",
    "import matplotlib.pyplot as plt\n",
    "%matplotlib inline\n",
    "\n",
    "# import plotly.plotly as py\n",
    "import plotly.graph_objs as go # graph_objects in version 4 (currently have plotly v3 installed)\n",
    "import plotly.offline as pyoff\n",
    "import plotly.figure_factory as ff\n",
    "\n",
    "# Stats\n",
    "from scipy.stats import norm, skew\n",
    "from scipy.special import boxcox1p\n",
    "from scipy.stats import boxcox_normmax\n",
    "from scipy import stats\n",
    "import statsmodels.api as sm\n",
    "import statsmodels.formula.api as smf\n",
    "from statsmodels.stats.anova import anova_lm\n",
    "from statsmodels.stats import power\n",
    "\n",
    "# Models\n",
    "from sklearn.cluster import KMeans\n",
    "from sklearn.decomposition import PCA\n",
    "from sklearn.manifold import TSNE\n",
    "from sklearn.multioutput import MultiOutputClassifier\n",
    "from sklearn.ensemble import GradientBoostingClassifier\n",
    "from sklearn.tree import DecisionTreeClassifier\n",
    "from sklearn.neighbors import KNeighborsClassifier\n",
    "from sklearn.naive_bayes import GaussianNB\n",
    "from sklearn.ensemble import RandomForestClassifier\n",
    "from sklearn.linear_model import LogisticRegression\n",
    "from sklearn.svm import SVC, LinearSVC\n",
    "from catboost import CatBoostClassifier\n",
    "from xgboost import XGBRegressor, XGBClassifier, plot_importance, plot_tree\n",
    "import lightgbm as lgb\n",
    "\n",
    "# Evaluation\n",
    "from sklearn.utils import shuffle\n",
    "from sklearn.metrics import confusion_matrix, classification_report, make_scorer\n",
    "from sklearn.metrics import accuracy_score, recall_score, precision_recall_curve, auc\n",
    "from sklearn.metrics import roc_curve, roc_auc_score\n",
    "from sklearn.pipeline import make_pipeline\n",
    "from sklearn.pipeline import Pipeline\n",
    "from sklearn.preprocessing import OneHotEncoder\n",
    "from sklearn.preprocessing import LabelEncoder\n",
    "from sklearn.preprocessing import StandardScaler\n",
    "from sklearn.preprocessing import RobustScaler\n",
    "from sklearn.model_selection import train_test_split\n",
    "from sklearn.model_selection import GridSearchCV\n",
    "from sklearn.model_selection import RandomizedSearchCV\n",
    "from sklearn.model_selection import KFold, StratifiedKFold, RepeatedKFold\n",
    "from sklearn.model_selection import cross_val_score\n",
    "from sklearn.model_selection import learning_curve\n",
    "from sklearn.model_selection import cross_val_predict\n",
    "\n",
    "# Evaluation\n",
    "from sklearn.metrics import confusion_matrix, classification_report, make_scorer\n",
    "from sklearn.metrics import accuracy_score, recall_score, precision_recall_curve, roc_auc_score\n",
    "from sklearn.preprocessing import OneHotEncoder\n",
    "from sklearn.preprocessing import LabelEncoder\n",
    "from sklearn.preprocessing import StandardScaler\n",
    "from sklearn.model_selection import train_test_split, TimeSeriesSplit\n",
    "from sklearn.model_selection import GridSearchCV\n",
    "from sklearn.model_selection import RandomizedSearchCV\n",
    "from sklearn.model_selection import cross_val_score\n",
    "\n",
    "# Ignore useless warnings\n",
    "import warnings\n",
    "warnings.filterwarnings(action='ignore')\n",
    "\n",
    "# Preset data display\n",
    "pd.options.display.max_seq_items = 5000\n",
    "pd.options.display.max_rows = 5000\n",
    "\n",
    "# Set palette\n",
    "flatui = [\"#9b59b6\", \"#3498db\", \"#95a5a6\", \"#e74c3c\", \"#34495e\", \"#2ecc71\"]\n",
    "sns.set_palette(flatui)\n",
    "sns.palplot(sns.color_palette(flatui))\n",
    "# 34495e\n",
    "\n",
    "seed = 100"
   ]
  },
  {
   "cell_type": "markdown",
   "metadata": {},
   "source": [
    "### Helpers\n",
    "---"
   ]
  },
  {
   "cell_type": "code",
   "execution_count": 2,
   "metadata": {},
   "outputs": [],
   "source": [
    "def pct_bar_labels():\n",
    "    '''\n",
    "    Function used to label the relative frequency on top of each bars\n",
    "    '''\n",
    "    # Set font size\n",
    "    fs=15\n",
    "    \n",
    "    # Set plot label and ticks\n",
    "    plt.ylabel('Relative Frequency (%)', fontsize=fs)\n",
    "    plt.xticks(rotation=0, fontsize=fs)\n",
    "    plt.yticks([])\n",
    "    \n",
    "    # Set individual bar labels in proportional scale\n",
    "    for x in ax1.patches:\n",
    "        ax1.annotate(str(x.get_height()) + '%', \n",
    "        (x.get_x() + x.get_width()/2., x.get_height()), ha='center', va='center', xytext=(0, 7), \n",
    "        textcoords='offset points', fontsize=fs, color='black')\n",
    "\n",
    "def freq_table(var):\n",
    "    '''\n",
    "    Define plot global variables\n",
    "    Create a function that will populate a frequency table (%)\n",
    "    Get counts per feature then get the percentage over the total counts\n",
    "    '''\n",
    "    global ax, ax1\n",
    "    \n",
    "    # Get Values and pct and combine it into a dataframe\n",
    "    count_freq = var.value_counts()\n",
    "    pct_freq = round(var.value_counts(normalize=True)*100, 2)\n",
    "    \n",
    "    # Create a dataframe\n",
    "    df = pd.DataFrame({'Count': count_freq, 'Percentage': pct_freq})\n",
    "    \n",
    "    # Print variable name\n",
    "    print('Frequency of', var.name, ':')\n",
    "    display(df)\n",
    "    \n",
    "    # Create plot\n",
    "    ax1 = pct_freq.plot.bar(title='Percentage of {}'.format(var.name), figsize=(12,8))\n",
    "    ax1.title.set_size(15)\n",
    "    pct_bar_labels()\n",
    "    plt.show()\n",
    "    \n",
    "# Define a null function\n",
    "def get_nulls(df):\n",
    "    \n",
    "    # Get null pct and counts\n",
    "    null_cols = pd.DataFrame(df.isnull().sum().sort_values(ascending=False), columns=['Null Data Count'])\n",
    "    null_cols_pct = pd.DataFrame(round(df.isnull().sum().sort_values(ascending=False)/len(df),2), columns=['Null Data Pct'])\n",
    "\n",
    "    # Combine dataframes horizontally\n",
    "    null_cols_df = pd.DataFrame(pd.concat([null_cols, null_cols_pct], axis=1))\n",
    "\n",
    "    all_nulls = null_cols_df[null_cols_df['Null Data Pct']>0]\n",
    "\n",
    "    # Print\n",
    "    print('There are', len(all_nulls), 'columns with missing values.')\n",
    "    return all_nulls\n",
    "\n",
    "# Define plot_nulls function\n",
    "def plot_nulls(train):\n",
    "    # Get null pct and counts\n",
    "    null_cols = pd.DataFrame(train.isnull().sum().sort_values(ascending=False), columns=['Null Data Count'])\n",
    "    null_cols_pct = pd.DataFrame(round(train.isnull().sum().sort_values(ascending=False)/len(train),2)*100, columns=['Null Data %'])\n",
    "\n",
    "    # Combine horizontally (axis=1) into a dataframe with column names (keys=[]) then to a data frame\n",
    "    null_cols_df = pd.DataFrame(pd.concat([null_cols, null_cols_pct], axis=1))\n",
    "\n",
    "    all_nulls = null_cols_df[null_cols_df['Null Data %']>0]\n",
    "\n",
    "    # Create figure space\n",
    "    if len(all_nulls) > 8:\n",
    "        plt.figure(figsize=(12, 8))\n",
    "    elif len(all_nulls) > 5:\n",
    "        plt.figure(figsize=(6, 8))\n",
    "    else:\n",
    "        plt.figure(figsize=(4, 8))\n",
    "\n",
    "    # Create plot\n",
    "    sns.barplot(x=all_nulls.index,\n",
    "                y='Null Data %',\n",
    "                data=all_nulls)\n",
    "\n",
    "    # Set plot features\n",
    "    plt.ylim(0, 100)\n",
    "    plt.xticks(rotation='90')\n",
    "    plt.xlabel('Features', fontsize=15)\n",
    "    plt.ylabel('Percent of Missing Values', fontsize=15)\n",
    "    plt.title('Percent of Missing Data by Features', fontsize=15)\n",
    "    plt.show()\n",
    "    \n",
    "# Create a new function to capture feature importance for models\n",
    "def feature_importance(model):\n",
    "    \n",
    "    importance = pd.DataFrame({'Feature': headers,\n",
    "                               'Importance': np.round(model.feature_importances_,3)})\n",
    "    \n",
    "    importance = importance.sort_values(by = 'Importance', ascending = False).set_index('Feature')\n",
    "    \n",
    "    return importance\n",
    "\n",
    "# Reduce data size\n",
    "def reduce_mem_usage(df):\n",
    "    ''' \n",
    "    Iterate through all the columns of a dataframe and modify the data type\n",
    "    to reduce memory usage.        \n",
    "    '''\n",
    "    start_mem = df.memory_usage().sum() / 1024**2\n",
    "    print('Memory usage of dataframe is {:.2f} MB'.format(start_mem))\n",
    "    \n",
    "    # Loop through every column in the dataframe\n",
    "    for col in df.columns:\n",
    "        col_type = df[col].dtype\n",
    "        \n",
    "        # Objects\n",
    "        if col_type != object:\n",
    "            c_min = df[col].min()\n",
    "            c_max = df[col].max()\n",
    "            \n",
    "            # Numbers\n",
    "            if str(col_type)[:3] == 'int':\n",
    "                if c_min > np.iinfo(np.int8).min and c_max < np.iinfo(np.int8).max:\n",
    "                    df[col] = df[col].astype(np.int8)\n",
    "                elif c_min > np.iinfo(np.int16).min and c_max < np.iinfo(np.int16).max:\n",
    "                    df[col] = df[col].astype(np.int16)\n",
    "                elif c_min > np.iinfo(np.int32).min and c_max < np.iinfo(np.int32).max:\n",
    "                    df[col] = df[col].astype(np.int32)\n",
    "                elif c_min > np.iinfo(np.int64).min and c_max < np.iinfo(np.int64).max:\n",
    "                    df[col] = df[col].astype(np.int64)  \n",
    "            else:\n",
    "                if c_min > np.finfo(np.float16).min and c_max < np.finfo(np.float16).max:\n",
    "                    df[col] = df[col].astype(np.float16)\n",
    "                elif c_min > np.finfo(np.float32).min and c_max < np.finfo(np.float32).max:\n",
    "                    df[col] = df[col].astype(np.float32)\n",
    "                else:\n",
    "                    df[col] = df[col].astype(np.float64)\n",
    "        else:\n",
    "            df[col] = df[col].astype('category')\n",
    "\n",
    "    end_mem = df.memory_usage().sum() / 1024**2\n",
    "    print('Memory usage after optimization is: {:.2f} MB'.format(end_mem))\n",
    "    print('Decreased by {:.1f}%'.format(100 * (start_mem - end_mem) / start_mem))\n",
    "    \n",
    "    return df"
   ]
  },
  {
   "cell_type": "markdown",
   "metadata": {},
   "source": [
    "## Load data\n",
    "---"
   ]
  },
  {
   "cell_type": "code",
   "execution_count": 3,
   "metadata": {},
   "outputs": [
    {
     "data": {
      "text/plain": [
       "['18-online-retail.csv',\n",
       " '19-credit-card-defaults.csv',\n",
       " '28-test.csv',\n",
       " '28-train.csv',\n",
       " '29-data.csv',\n",
       " '37-ctr-train.gz']"
      ]
     },
     "execution_count": 3,
     "metadata": {},
     "output_type": "execute_result"
    }
   ],
   "source": [
    "os.listdir('LargeData')"
   ]
  },
  {
   "cell_type": "markdown",
   "metadata": {},
   "source": [
    "### Sample data\n",
    "Take a fraction of the data to explore versus the entire dataset for speed purposes.\n",
    "\n",
    "Method 1: Load the data to the specified amount of rows\n",
    "\n",
    "Method 2: Load the data and then take a fraction of the dataset."
   ]
  },
  {
   "cell_type": "code",
   "execution_count": 4,
   "metadata": {},
   "outputs": [
    {
     "name": "stdout",
     "output_type": "stream",
     "text": [
      "Total Entries: 40428967\n",
      "Sample Size: 500000\n"
     ]
    }
   ],
   "source": [
    "# Set number to sample\n",
    "n = 40428967\n",
    "sample_size = 500000\n",
    "skip_values = sorted(rand.sample(range(1, n), n-sample_size))\n",
    "\n",
    "print('Total Entries:', n)\n",
    "print('Sample Size:', sample_size)"
   ]
  },
  {
   "cell_type": "code",
   "execution_count": 5,
   "metadata": {},
   "outputs": [],
   "source": [
    "# Parse date\n",
    "parse_date = lambda x: pd.datetime.strptime(x, '%y%m%d%H')"
   ]
  },
  {
   "cell_type": "code",
   "execution_count": 6,
   "metadata": {},
   "outputs": [],
   "source": [
    "# Set data types\n",
    "types_train = {\n",
    "    'id': np.dtype(int),\n",
    "    'click': np.dtype(int),\n",
    "    'hour': np.dtype(int),\n",
    "    'C1': np.dtype(int),\n",
    "    'banner_pos': np.dtype(int),\n",
    "    'site_id': np.dtype(str),\n",
    "    'site_domain': np.dtype(str), \n",
    "    'site_category': np.dtype(str),\n",
    "    'app_id': np.dtype(str),\n",
    "    'app_domain': np.dtype(str),\n",
    "    'app_category': np.dtype(str),\n",
    "    'device_id': np.dtype(str),\n",
    "    'device_ip': np.dtype(str),\n",
    "    'device_model': np.dtype(str),\n",
    "    'device_type': np.dtype(int),\n",
    "    'device_conn_type': np.dtype(int),\n",
    "    'C14': np.dtype(int),\n",
    "    'C15': np.dtype(int),\n",
    "    'C16': np.dtype(int),\n",
    "    'C17': np.dtype(int),\n",
    "    'C18': np.dtype(int),\n",
    "    'C19': np.dtype(int),\n",
    "    'C20': np.dtype(int),\n",
    "    'C21': np.dtype(int)\n",
    "}\n",
    "\n",
    "types_test = {\n",
    "    'id': np.dtype(int),\n",
    "    'hour': np.dtype(int),\n",
    "    'C1': np.dtype(int),\n",
    "    'banner_pos': np.dtype(int),\n",
    "    'site_id': np.dtype(str),\n",
    "    'site_domain': np.dtype(str), \n",
    "    'site_category': np.dtype(str),\n",
    "    'app_id': np.dtype(str),\n",
    "    'app_domain': np.dtype(str),\n",
    "    'app_category': np.dtype(str),\n",
    "    'device_id': np.dtype(str),\n",
    "    'device_ip': np.dtype(str),\n",
    "    'device_model': np.dtype(str),\n",
    "    'device_type': np.dtype(int),\n",
    "    'device_conn_type': np.dtype(int),\n",
    "    'C14': np.dtype(int),\n",
    "    'C15': np.dtype(int),\n",
    "    'C16': np.dtype(int),\n",
    "    'C17': np.dtype(int),\n",
    "    'C18': np.dtype(int),\n",
    "    'C19': np.dtype(int),\n",
    "    'C20': np.dtype(int),\n",
    "    'C21': np.dtype(int)\n",
    "}"
   ]
  },
  {
   "cell_type": "code",
   "execution_count": 7,
   "metadata": {},
   "outputs": [],
   "source": [
    "# Load dataset (Method 1)\n",
    "with gzip.open('LargeData/37-ctr-train.gz') as f:\n",
    "    train = pd.read_csv(f, parse_dates=['hour'], date_parser=parse_date, dtype=types_train, skiprows=skip_values)"
   ]
  },
  {
   "cell_type": "code",
   "execution_count": 8,
   "metadata": {},
   "outputs": [
    {
     "data": {
      "text/html": [
       "<div>\n",
       "<style scoped>\n",
       "    .dataframe tbody tr th:only-of-type {\n",
       "        vertical-align: middle;\n",
       "    }\n",
       "\n",
       "    .dataframe tbody tr th {\n",
       "        vertical-align: top;\n",
       "    }\n",
       "\n",
       "    .dataframe thead th {\n",
       "        text-align: right;\n",
       "    }\n",
       "</style>\n",
       "<table border=\"1\" class=\"dataframe\">\n",
       "  <thead>\n",
       "    <tr style=\"text-align: right;\">\n",
       "      <th></th>\n",
       "      <th>id</th>\n",
       "      <th>click</th>\n",
       "      <th>hour</th>\n",
       "      <th>C1</th>\n",
       "      <th>banner_pos</th>\n",
       "      <th>site_id</th>\n",
       "      <th>site_domain</th>\n",
       "      <th>site_category</th>\n",
       "      <th>app_id</th>\n",
       "      <th>app_domain</th>\n",
       "      <th>...</th>\n",
       "      <th>device_type</th>\n",
       "      <th>device_conn_type</th>\n",
       "      <th>C14</th>\n",
       "      <th>C15</th>\n",
       "      <th>C16</th>\n",
       "      <th>C17</th>\n",
       "      <th>C18</th>\n",
       "      <th>C19</th>\n",
       "      <th>C20</th>\n",
       "      <th>C21</th>\n",
       "    </tr>\n",
       "  </thead>\n",
       "  <tbody>\n",
       "    <tr>\n",
       "      <th>0</th>\n",
       "      <td>1315039248</td>\n",
       "      <td>0</td>\n",
       "      <td>2014-10-21</td>\n",
       "      <td>1005</td>\n",
       "      <td>0</td>\n",
       "      <td>1fbe01fe</td>\n",
       "      <td>f3845767</td>\n",
       "      <td>28905ebd</td>\n",
       "      <td>ecad2386</td>\n",
       "      <td>7801e8d9</td>\n",
       "      <td>...</td>\n",
       "      <td>1</td>\n",
       "      <td>0</td>\n",
       "      <td>15705</td>\n",
       "      <td>320</td>\n",
       "      <td>50</td>\n",
       "      <td>1722</td>\n",
       "      <td>0</td>\n",
       "      <td>35</td>\n",
       "      <td>-1</td>\n",
       "      <td>79</td>\n",
       "    </tr>\n",
       "    <tr>\n",
       "      <th>1</th>\n",
       "      <td>554336934</td>\n",
       "      <td>0</td>\n",
       "      <td>2014-10-21</td>\n",
       "      <td>1005</td>\n",
       "      <td>0</td>\n",
       "      <td>1fbe01fe</td>\n",
       "      <td>f3845767</td>\n",
       "      <td>28905ebd</td>\n",
       "      <td>ecad2386</td>\n",
       "      <td>7801e8d9</td>\n",
       "      <td>...</td>\n",
       "      <td>1</td>\n",
       "      <td>0</td>\n",
       "      <td>15701</td>\n",
       "      <td>320</td>\n",
       "      <td>50</td>\n",
       "      <td>1722</td>\n",
       "      <td>0</td>\n",
       "      <td>35</td>\n",
       "      <td>100084</td>\n",
       "      <td>79</td>\n",
       "    </tr>\n",
       "    <tr>\n",
       "      <th>2</th>\n",
       "      <td>-1012311944</td>\n",
       "      <td>0</td>\n",
       "      <td>2014-10-21</td>\n",
       "      <td>1005</td>\n",
       "      <td>1</td>\n",
       "      <td>43d6df75</td>\n",
       "      <td>27e3c518</td>\n",
       "      <td>28905ebd</td>\n",
       "      <td>ecad2386</td>\n",
       "      <td>7801e8d9</td>\n",
       "      <td>...</td>\n",
       "      <td>1</td>\n",
       "      <td>0</td>\n",
       "      <td>15703</td>\n",
       "      <td>320</td>\n",
       "      <td>50</td>\n",
       "      <td>1722</td>\n",
       "      <td>0</td>\n",
       "      <td>35</td>\n",
       "      <td>-1</td>\n",
       "      <td>79</td>\n",
       "    </tr>\n",
       "    <tr>\n",
       "      <th>3</th>\n",
       "      <td>18267922</td>\n",
       "      <td>0</td>\n",
       "      <td>2014-10-21</td>\n",
       "      <td>1010</td>\n",
       "      <td>1</td>\n",
       "      <td>85f751fd</td>\n",
       "      <td>c4e18dd6</td>\n",
       "      <td>50e219e0</td>\n",
       "      <td>b7f64446</td>\n",
       "      <td>7801e8d9</td>\n",
       "      <td>...</td>\n",
       "      <td>4</td>\n",
       "      <td>0</td>\n",
       "      <td>20366</td>\n",
       "      <td>320</td>\n",
       "      <td>50</td>\n",
       "      <td>2333</td>\n",
       "      <td>0</td>\n",
       "      <td>39</td>\n",
       "      <td>-1</td>\n",
       "      <td>157</td>\n",
       "    </tr>\n",
       "    <tr>\n",
       "      <th>4</th>\n",
       "      <td>1979575667</td>\n",
       "      <td>1</td>\n",
       "      <td>2014-10-21</td>\n",
       "      <td>1005</td>\n",
       "      <td>0</td>\n",
       "      <td>1fbe01fe</td>\n",
       "      <td>f3845767</td>\n",
       "      <td>28905ebd</td>\n",
       "      <td>ecad2386</td>\n",
       "      <td>7801e8d9</td>\n",
       "      <td>...</td>\n",
       "      <td>1</td>\n",
       "      <td>0</td>\n",
       "      <td>15708</td>\n",
       "      <td>320</td>\n",
       "      <td>50</td>\n",
       "      <td>1722</td>\n",
       "      <td>0</td>\n",
       "      <td>35</td>\n",
       "      <td>100084</td>\n",
       "      <td>79</td>\n",
       "    </tr>\n",
       "  </tbody>\n",
       "</table>\n",
       "<p>5 rows × 24 columns</p>\n",
       "</div>"
      ],
      "text/plain": [
       "           id  click       hour    C1  banner_pos   site_id site_domain  \\\n",
       "0  1315039248      0 2014-10-21  1005           0  1fbe01fe    f3845767   \n",
       "1   554336934      0 2014-10-21  1005           0  1fbe01fe    f3845767   \n",
       "2 -1012311944      0 2014-10-21  1005           1  43d6df75    27e3c518   \n",
       "3    18267922      0 2014-10-21  1010           1  85f751fd    c4e18dd6   \n",
       "4  1979575667      1 2014-10-21  1005           0  1fbe01fe    f3845767   \n",
       "\n",
       "  site_category    app_id app_domain  ... device_type device_conn_type    C14  \\\n",
       "0      28905ebd  ecad2386   7801e8d9  ...           1                0  15705   \n",
       "1      28905ebd  ecad2386   7801e8d9  ...           1                0  15701   \n",
       "2      28905ebd  ecad2386   7801e8d9  ...           1                0  15703   \n",
       "3      50e219e0  b7f64446   7801e8d9  ...           4                0  20366   \n",
       "4      28905ebd  ecad2386   7801e8d9  ...           1                0  15708   \n",
       "\n",
       "   C15  C16   C17  C18  C19     C20  C21  \n",
       "0  320   50  1722    0   35      -1   79  \n",
       "1  320   50  1722    0   35  100084   79  \n",
       "2  320   50  1722    0   35      -1   79  \n",
       "3  320   50  2333    0   39      -1  157  \n",
       "4  320   50  1722    0   35  100084   79  \n",
       "\n",
       "[5 rows x 24 columns]"
      ]
     },
     "execution_count": 8,
     "metadata": {},
     "output_type": "execute_result"
    }
   ],
   "source": [
    "train.head()"
   ]
  },
  {
   "cell_type": "code",
   "execution_count": 9,
   "metadata": {},
   "outputs": [
    {
     "name": "stdout",
     "output_type": "stream",
     "text": [
      "Train dataset has 500000 rows and 24 columns.\n"
     ]
    }
   ],
   "source": [
    "print(f'Train dataset has {train.shape[0]} rows and {train.shape[1]} columns.')"
   ]
  },
  {
   "cell_type": "code",
   "execution_count": 10,
   "metadata": {},
   "outputs": [
    {
     "data": {
      "text/html": [
       "<div>\n",
       "<style scoped>\n",
       "    .dataframe tbody tr th:only-of-type {\n",
       "        vertical-align: middle;\n",
       "    }\n",
       "\n",
       "    .dataframe tbody tr th {\n",
       "        vertical-align: top;\n",
       "    }\n",
       "\n",
       "    .dataframe thead th {\n",
       "        text-align: right;\n",
       "    }\n",
       "</style>\n",
       "<table border=\"1\" class=\"dataframe\">\n",
       "  <thead>\n",
       "    <tr style=\"text-align: right;\">\n",
       "      <th></th>\n",
       "      <th>id</th>\n",
       "      <th>click</th>\n",
       "      <th>C1</th>\n",
       "      <th>banner_pos</th>\n",
       "      <th>device_type</th>\n",
       "      <th>device_conn_type</th>\n",
       "      <th>C14</th>\n",
       "      <th>C15</th>\n",
       "      <th>C16</th>\n",
       "      <th>C17</th>\n",
       "      <th>C18</th>\n",
       "      <th>C19</th>\n",
       "      <th>C20</th>\n",
       "      <th>C21</th>\n",
       "    </tr>\n",
       "  </thead>\n",
       "  <tbody>\n",
       "    <tr>\n",
       "      <th>count</th>\n",
       "      <td>5.000000e+05</td>\n",
       "      <td>500000.000000</td>\n",
       "      <td>500000.000000</td>\n",
       "      <td>500000.000000</td>\n",
       "      <td>500000.000000</td>\n",
       "      <td>500000.000000</td>\n",
       "      <td>500000.000000</td>\n",
       "      <td>500000.000000</td>\n",
       "      <td>500000.000000</td>\n",
       "      <td>500000.000000</td>\n",
       "      <td>500000.000000</td>\n",
       "      <td>500000.000000</td>\n",
       "      <td>500000.000000</td>\n",
       "      <td>500000.000000</td>\n",
       "    </tr>\n",
       "    <tr>\n",
       "      <th>mean</th>\n",
       "      <td>1.253014e+06</td>\n",
       "      <td>0.169916</td>\n",
       "      <td>1004.968682</td>\n",
       "      <td>0.289026</td>\n",
       "      <td>1.015820</td>\n",
       "      <td>0.332494</td>\n",
       "      <td>18833.605760</td>\n",
       "      <td>318.885904</td>\n",
       "      <td>60.083644</td>\n",
       "      <td>2111.605422</td>\n",
       "      <td>1.432658</td>\n",
       "      <td>227.771620</td>\n",
       "      <td>53274.143700</td>\n",
       "      <td>83.337762</td>\n",
       "    </tr>\n",
       "    <tr>\n",
       "      <th>std</th>\n",
       "      <td>1.239164e+09</td>\n",
       "      <td>0.375559</td>\n",
       "      <td>1.094574</td>\n",
       "      <td>0.510931</td>\n",
       "      <td>0.528252</td>\n",
       "      <td>0.855097</td>\n",
       "      <td>4962.599379</td>\n",
       "      <td>21.133593</td>\n",
       "      <td>47.347226</td>\n",
       "      <td>609.853455</td>\n",
       "      <td>1.327262</td>\n",
       "      <td>351.149598</td>\n",
       "      <td>49953.188248</td>\n",
       "      <td>70.283293</td>\n",
       "    </tr>\n",
       "    <tr>\n",
       "      <th>min</th>\n",
       "      <td>-2.147482e+09</td>\n",
       "      <td>0.000000</td>\n",
       "      <td>1001.000000</td>\n",
       "      <td>0.000000</td>\n",
       "      <td>0.000000</td>\n",
       "      <td>0.000000</td>\n",
       "      <td>375.000000</td>\n",
       "      <td>120.000000</td>\n",
       "      <td>20.000000</td>\n",
       "      <td>112.000000</td>\n",
       "      <td>0.000000</td>\n",
       "      <td>33.000000</td>\n",
       "      <td>-1.000000</td>\n",
       "      <td>1.000000</td>\n",
       "    </tr>\n",
       "    <tr>\n",
       "      <th>25%</th>\n",
       "      <td>-1.070630e+09</td>\n",
       "      <td>0.000000</td>\n",
       "      <td>1005.000000</td>\n",
       "      <td>0.000000</td>\n",
       "      <td>1.000000</td>\n",
       "      <td>0.000000</td>\n",
       "      <td>16920.000000</td>\n",
       "      <td>320.000000</td>\n",
       "      <td>50.000000</td>\n",
       "      <td>1863.000000</td>\n",
       "      <td>0.000000</td>\n",
       "      <td>35.000000</td>\n",
       "      <td>-1.000000</td>\n",
       "      <td>23.000000</td>\n",
       "    </tr>\n",
       "    <tr>\n",
       "      <th>50%</th>\n",
       "      <td>8.735530e+05</td>\n",
       "      <td>0.000000</td>\n",
       "      <td>1005.000000</td>\n",
       "      <td>0.000000</td>\n",
       "      <td>1.000000</td>\n",
       "      <td>0.000000</td>\n",
       "      <td>20346.000000</td>\n",
       "      <td>320.000000</td>\n",
       "      <td>50.000000</td>\n",
       "      <td>2323.000000</td>\n",
       "      <td>2.000000</td>\n",
       "      <td>39.000000</td>\n",
       "      <td>100050.000000</td>\n",
       "      <td>61.000000</td>\n",
       "    </tr>\n",
       "    <tr>\n",
       "      <th>75%</th>\n",
       "      <td>1.073984e+09</td>\n",
       "      <td>0.000000</td>\n",
       "      <td>1005.000000</td>\n",
       "      <td>1.000000</td>\n",
       "      <td>1.000000</td>\n",
       "      <td>0.000000</td>\n",
       "      <td>21894.000000</td>\n",
       "      <td>320.000000</td>\n",
       "      <td>50.000000</td>\n",
       "      <td>2526.000000</td>\n",
       "      <td>3.000000</td>\n",
       "      <td>175.000000</td>\n",
       "      <td>100094.000000</td>\n",
       "      <td>101.000000</td>\n",
       "    </tr>\n",
       "    <tr>\n",
       "      <th>max</th>\n",
       "      <td>2.147483e+09</td>\n",
       "      <td>1.000000</td>\n",
       "      <td>1012.000000</td>\n",
       "      <td>7.000000</td>\n",
       "      <td>5.000000</td>\n",
       "      <td>5.000000</td>\n",
       "      <td>24043.000000</td>\n",
       "      <td>1024.000000</td>\n",
       "      <td>1024.000000</td>\n",
       "      <td>2757.000000</td>\n",
       "      <td>3.000000</td>\n",
       "      <td>1839.000000</td>\n",
       "      <td>100248.000000</td>\n",
       "      <td>255.000000</td>\n",
       "    </tr>\n",
       "  </tbody>\n",
       "</table>\n",
       "</div>"
      ],
      "text/plain": [
       "                 id          click             C1     banner_pos  \\\n",
       "count  5.000000e+05  500000.000000  500000.000000  500000.000000   \n",
       "mean   1.253014e+06       0.169916    1004.968682       0.289026   \n",
       "std    1.239164e+09       0.375559       1.094574       0.510931   \n",
       "min   -2.147482e+09       0.000000    1001.000000       0.000000   \n",
       "25%   -1.070630e+09       0.000000    1005.000000       0.000000   \n",
       "50%    8.735530e+05       0.000000    1005.000000       0.000000   \n",
       "75%    1.073984e+09       0.000000    1005.000000       1.000000   \n",
       "max    2.147483e+09       1.000000    1012.000000       7.000000   \n",
       "\n",
       "         device_type  device_conn_type            C14            C15  \\\n",
       "count  500000.000000     500000.000000  500000.000000  500000.000000   \n",
       "mean        1.015820          0.332494   18833.605760     318.885904   \n",
       "std         0.528252          0.855097    4962.599379      21.133593   \n",
       "min         0.000000          0.000000     375.000000     120.000000   \n",
       "25%         1.000000          0.000000   16920.000000     320.000000   \n",
       "50%         1.000000          0.000000   20346.000000     320.000000   \n",
       "75%         1.000000          0.000000   21894.000000     320.000000   \n",
       "max         5.000000          5.000000   24043.000000    1024.000000   \n",
       "\n",
       "                 C16            C17            C18            C19  \\\n",
       "count  500000.000000  500000.000000  500000.000000  500000.000000   \n",
       "mean       60.083644    2111.605422       1.432658     227.771620   \n",
       "std        47.347226     609.853455       1.327262     351.149598   \n",
       "min        20.000000     112.000000       0.000000      33.000000   \n",
       "25%        50.000000    1863.000000       0.000000      35.000000   \n",
       "50%        50.000000    2323.000000       2.000000      39.000000   \n",
       "75%        50.000000    2526.000000       3.000000     175.000000   \n",
       "max      1024.000000    2757.000000       3.000000    1839.000000   \n",
       "\n",
       "                 C20            C21  \n",
       "count  500000.000000  500000.000000  \n",
       "mean    53274.143700      83.337762  \n",
       "std     49953.188248      70.283293  \n",
       "min        -1.000000       1.000000  \n",
       "25%        -1.000000      23.000000  \n",
       "50%    100050.000000      61.000000  \n",
       "75%    100094.000000     101.000000  \n",
       "max    100248.000000     255.000000  "
      ]
     },
     "execution_count": 10,
     "metadata": {},
     "output_type": "execute_result"
    }
   ],
   "source": [
    "train.describe()"
   ]
  },
  {
   "cell_type": "code",
   "execution_count": 11,
   "metadata": {},
   "outputs": [
    {
     "name": "stdout",
     "output_type": "stream",
     "text": [
      "<class 'pandas.core.frame.DataFrame'>\n",
      "RangeIndex: 500000 entries, 0 to 499999\n",
      "Data columns (total 24 columns):\n",
      "id                  500000 non-null int32\n",
      "click               500000 non-null int32\n",
      "hour                500000 non-null datetime64[ns]\n",
      "C1                  500000 non-null int32\n",
      "banner_pos          500000 non-null int32\n",
      "site_id             500000 non-null object\n",
      "site_domain         500000 non-null object\n",
      "site_category       500000 non-null object\n",
      "app_id              500000 non-null object\n",
      "app_domain          500000 non-null object\n",
      "app_category        500000 non-null object\n",
      "device_id           500000 non-null object\n",
      "device_ip           500000 non-null object\n",
      "device_model        500000 non-null object\n",
      "device_type         500000 non-null int32\n",
      "device_conn_type    500000 non-null int32\n",
      "C14                 500000 non-null int32\n",
      "C15                 500000 non-null int32\n",
      "C16                 500000 non-null int32\n",
      "C17                 500000 non-null int32\n",
      "C18                 500000 non-null int32\n",
      "C19                 500000 non-null int32\n",
      "C20                 500000 non-null int32\n",
      "C21                 500000 non-null int32\n",
      "dtypes: datetime64[ns](1), int32(14), object(9)\n",
      "memory usage: 64.8+ MB\n"
     ]
    }
   ],
   "source": [
    "train.info()"
   ]
  },
  {
   "cell_type": "markdown",
   "metadata": {},
   "source": [
    "### Target"
   ]
  },
  {
   "cell_type": "code",
   "execution_count": 12,
   "metadata": {},
   "outputs": [
    {
     "data": {
      "image/png": "[encoded data removed]",
      "text/plain": [
       "<Figure size 432x288 with 1 Axes>"
      ]
     },
     "metadata": {
      "needs_background": "light"
     },
     "output_type": "display_data"
    }
   ],
   "source": [
    "sns.countplot(x='click',\n",
    "              data=train,\n",
    "              palette='hls'\n",
    "            )\n",
    "plt.show()"
   ]
  },
  {
   "cell_type": "code",
   "execution_count": 13,
   "metadata": {},
   "outputs": [
    {
     "name": "stdout",
     "output_type": "stream",
     "text": [
      "Frequency of click :\n"
     ]
    },
    {
     "data": {
      "text/html": [
       "<div>\n",
       "<style scoped>\n",
       "    .dataframe tbody tr th:only-of-type {\n",
       "        vertical-align: middle;\n",
       "    }\n",
       "\n",
       "    .dataframe tbody tr th {\n",
       "        vertical-align: top;\n",
       "    }\n",
       "\n",
       "    .dataframe thead th {\n",
       "        text-align: right;\n",
       "    }\n",
       "</style>\n",
       "<table border=\"1\" class=\"dataframe\">\n",
       "  <thead>\n",
       "    <tr style=\"text-align: right;\">\n",
       "      <th></th>\n",
       "      <th>Count</th>\n",
       "      <th>Percentage</th>\n",
       "    </tr>\n",
       "  </thead>\n",
       "  <tbody>\n",
       "    <tr>\n",
       "      <th>0</th>\n",
       "      <td>415042</td>\n",
       "      <td>83.01</td>\n",
       "    </tr>\n",
       "    <tr>\n",
       "      <th>1</th>\n",
       "      <td>84958</td>\n",
       "      <td>16.99</td>\n",
       "    </tr>\n",
       "  </tbody>\n",
       "</table>\n",
       "</div>"
      ],
      "text/plain": [
       "    Count  Percentage\n",
       "0  415042       83.01\n",
       "1   84958       16.99"
      ]
     },
     "metadata": {},
     "output_type": "display_data"
    },
    {
     "data": {
      "image/png": "[encoded data removed]",
      "text/plain": [
       "<Figure size 864x576 with 1 Axes>"
      ]
     },
     "metadata": {
      "needs_background": "light"
     },
     "output_type": "display_data"
    }
   ],
   "source": [
    "freq_table(train.click) # train.click.value_counts(normalize=True)"
   ]
  },
  {
   "cell_type": "markdown",
   "metadata": {},
   "source": [
    "### What are popular click hours?"
   ]
  },
  {
   "cell_type": "code",
   "execution_count": 14,
   "metadata": {},
   "outputs": [
    {
     "data": {
      "image/png": "[encoded data removed]",
      "text/plain": [
       "<Figure size 1080x360 with 1 Axes>"
      ]
     },
     "metadata": {
      "needs_background": "light"
     },
     "output_type": "display_data"
    }
   ],
   "source": [
    "# Group by\n",
    "train.groupby('hour').agg({'click': 'sum'}).plot(figsize=(15, 5))\n",
    "\n",
    "# Set plot features\n",
    "plt.ylabel('# of Clicks')\n",
    "plt.title('# of Clicks by Hour')\n",
    "plt.show()"
   ]
  },
  {
   "cell_type": "markdown",
   "metadata": {},
   "source": [
    "There looks to be a cyclical pattern with peaks and lows during certain hours. From the plot above, the peaks seem to be in the middle of each hour indicating 12PM and with extreme lows around midnight.\n",
    "- Users are most active around noon\n",
    "- Users are not active around midnight\n",
    "    - Are there any Ads being shown during this time?\n",
    "- If Ads are evenly shown throughout the day, reduce costs by showing them more often during 9AM to 9PM (guessing the timeframe)."
   ]
  },
  {
   "cell_type": "markdown",
   "metadata": {},
   "source": [
    "### Hour feature"
   ]
  },
  {
   "cell_type": "code",
   "execution_count": 15,
   "metadata": {},
   "outputs": [
    {
     "data": {
      "image/png": "[encoded data removed]",
      "text/plain": [
       "<Figure size 1080x360 with 1 Axes>"
      ]
     },
     "metadata": {
      "needs_background": "light"
     },
     "output_type": "display_data"
    }
   ],
   "source": [
    "train['hour_of_day'] = train.hour.apply(lambda x: x.hour)\n",
    "train.groupby('hour_of_day').agg({'click': 'sum'}).plot(figsize=(15, 5), marker='o') # linestyle='--', color='r'\n",
    "\n",
    "# Set plot features\n",
    "plt.xlim(0, 24)\n",
    "plt.ylabel('# of Clicks')\n",
    "plt.title('# of Clicks by Hour')\n",
    "# plt.tight_layout()\n",
    "plt.show()"
   ]
  },
  {
   "cell_type": "markdown",
   "metadata": {},
   "source": [
    "My initial observations earlier looks to be just about right.The highest number of clicks is at hour 13 and 14 (1PM and 2PM), and the lowest number of clicks is at hour 0 (midnight). This can be a useful feature for rough estimation.\n",
    "\n",
    "Instead of 9AM through 9PM, change the Ads to show more often between 4AM through 7PM."
   ]
  },
  {
   "cell_type": "markdown",
   "metadata": {},
   "source": [
    "### Impressions"
   ]
  },
  {
   "cell_type": "code",
   "execution_count": 16,
   "metadata": {},
   "outputs": [
    {
     "data": {
      "text/html": [
       "<div>\n",
       "<style scoped>\n",
       "    .dataframe tbody tr th:only-of-type {\n",
       "        vertical-align: middle;\n",
       "    }\n",
       "\n",
       "    .dataframe tbody tr th {\n",
       "        vertical-align: top;\n",
       "    }\n",
       "\n",
       "    .dataframe thead th {\n",
       "        text-align: right;\n",
       "    }\n",
       "</style>\n",
       "<table border=\"1\" class=\"dataframe\">\n",
       "  <thead>\n",
       "    <tr style=\"text-align: right;\">\n",
       "      <th>click</th>\n",
       "      <th>0</th>\n",
       "      <th>1</th>\n",
       "    </tr>\n",
       "    <tr>\n",
       "      <th>hour_of_day</th>\n",
       "      <th></th>\n",
       "      <th></th>\n",
       "    </tr>\n",
       "  </thead>\n",
       "  <tbody>\n",
       "    <tr>\n",
       "      <th>0</th>\n",
       "      <td>8535</td>\n",
       "      <td>1908</td>\n",
       "    </tr>\n",
       "    <tr>\n",
       "      <th>1</th>\n",
       "      <td>10028</td>\n",
       "      <td>2261</td>\n",
       "    </tr>\n",
       "    <tr>\n",
       "      <th>2</th>\n",
       "      <td>12514</td>\n",
       "      <td>2733</td>\n",
       "    </tr>\n",
       "    <tr>\n",
       "      <th>3</th>\n",
       "      <td>14237</td>\n",
       "      <td>3007</td>\n",
       "    </tr>\n",
       "    <tr>\n",
       "      <th>4</th>\n",
       "      <td>20022</td>\n",
       "      <td>3775</td>\n",
       "    </tr>\n",
       "    <tr>\n",
       "      <th>5</th>\n",
       "      <td>20549</td>\n",
       "      <td>3952</td>\n",
       "    </tr>\n",
       "    <tr>\n",
       "      <th>6</th>\n",
       "      <td>18346</td>\n",
       "      <td>3641</td>\n",
       "    </tr>\n",
       "    <tr>\n",
       "      <th>7</th>\n",
       "      <td>18655</td>\n",
       "      <td>4080</td>\n",
       "    </tr>\n",
       "    <tr>\n",
       "      <th>8</th>\n",
       "      <td>21506</td>\n",
       "      <td>4204</td>\n",
       "    </tr>\n",
       "    <tr>\n",
       "      <th>9</th>\n",
       "      <td>23843</td>\n",
       "      <td>4522</td>\n",
       "    </tr>\n",
       "    <tr>\n",
       "      <th>10</th>\n",
       "      <td>22163</td>\n",
       "      <td>4136</td>\n",
       "    </tr>\n",
       "    <tr>\n",
       "      <th>11</th>\n",
       "      <td>20991</td>\n",
       "      <td>4343</td>\n",
       "    </tr>\n",
       "    <tr>\n",
       "      <th>12</th>\n",
       "      <td>22787</td>\n",
       "      <td>4741</td>\n",
       "    </tr>\n",
       "    <tr>\n",
       "      <th>13</th>\n",
       "      <td>24460</td>\n",
       "      <td>4969</td>\n",
       "    </tr>\n",
       "    <tr>\n",
       "      <th>14</th>\n",
       "      <td>22265</td>\n",
       "      <td>4959</td>\n",
       "    </tr>\n",
       "    <tr>\n",
       "      <th>15</th>\n",
       "      <td>21204</td>\n",
       "      <td>4721</td>\n",
       "    </tr>\n",
       "    <tr>\n",
       "      <th>16</th>\n",
       "      <td>21004</td>\n",
       "      <td>4500</td>\n",
       "    </tr>\n",
       "    <tr>\n",
       "      <th>17</th>\n",
       "      <td>20620</td>\n",
       "      <td>4306</td>\n",
       "    </tr>\n",
       "    <tr>\n",
       "      <th>18</th>\n",
       "      <td>18327</td>\n",
       "      <td>3583</td>\n",
       "    </tr>\n",
       "    <tr>\n",
       "      <th>19</th>\n",
       "      <td>13730</td>\n",
       "      <td>2733</td>\n",
       "    </tr>\n",
       "    <tr>\n",
       "      <th>20</th>\n",
       "      <td>11381</td>\n",
       "      <td>2303</td>\n",
       "    </tr>\n",
       "    <tr>\n",
       "      <th>21</th>\n",
       "      <td>10114</td>\n",
       "      <td>1945</td>\n",
       "    </tr>\n",
       "    <tr>\n",
       "      <th>22</th>\n",
       "      <td>9378</td>\n",
       "      <td>1876</td>\n",
       "    </tr>\n",
       "    <tr>\n",
       "      <th>23</th>\n",
       "      <td>8383</td>\n",
       "      <td>1760</td>\n",
       "    </tr>\n",
       "  </tbody>\n",
       "</table>\n",
       "</div>"
      ],
      "text/plain": [
       "click            0     1\n",
       "hour_of_day             \n",
       "0             8535  1908\n",
       "1            10028  2261\n",
       "2            12514  2733\n",
       "3            14237  3007\n",
       "4            20022  3775\n",
       "5            20549  3952\n",
       "6            18346  3641\n",
       "7            18655  4080\n",
       "8            21506  4204\n",
       "9            23843  4522\n",
       "10           22163  4136\n",
       "11           20991  4343\n",
       "12           22787  4741\n",
       "13           24460  4969\n",
       "14           22265  4959\n",
       "15           21204  4721\n",
       "16           21004  4500\n",
       "17           20620  4306\n",
       "18           18327  3583\n",
       "19           13730  2733\n",
       "20           11381  2303\n",
       "21           10114  1945\n",
       "22            9378  1876\n",
       "23            8383  1760"
      ]
     },
     "execution_count": 16,
     "metadata": {},
     "output_type": "execute_result"
    }
   ],
   "source": [
    "train.groupby(['hour_of_day', 'click']).size().unstack()"
   ]
  },
  {
   "cell_type": "code",
   "execution_count": 17,
   "metadata": {},
   "outputs": [
    {
     "data": {
      "image/png": "[encoded data removed]",
      "text/plain": [
       "<Figure size 1080x360 with 1 Axes>"
      ]
     },
     "metadata": {
      "needs_background": "light"
     },
     "output_type": "display_data"
    }
   ],
   "source": [
    "train.groupby(['hour_of_day', 'click']).size().unstack().plot(kind='bar', figsize=(15,5))\n",
    "\n",
    "# Set plot features\n",
    "plt.title('Hourly Impressions')\n",
    "plt.ylabel('Count')\n",
    "plt.xlabel('Hour')\n",
    "plt.show()"
   ]
  },
  {
   "cell_type": "markdown",
   "metadata": {},
   "source": [
    "### Click through rate"
   ]
  },
  {
   "cell_type": "code",
   "execution_count": 18,
   "metadata": {},
   "outputs": [],
   "source": [
    "# Get click data\n",
    "ctr_df = train[train['click']==1]\n",
    "\n",
    "# Create new df to store clicks\n",
    "hour_df = train[['hour_of_day', 'click']].groupby(['hour_of_day']).count().reset_index()\n",
    "hour_df = hour_df.rename(columns={'click': 'Impressions'})\n",
    "hour_df['clicks'] = ctr_df[['hour_of_day', 'click']].groupby(['hour_of_day']).count().reset_index()['click']\n",
    "\n",
    "# Calculate CTR \n",
    "hour_df['CTR'] = (hour_df['clicks'] / hour_df['Impressions']) * 100"
   ]
  },
  {
   "cell_type": "code",
   "execution_count": 19,
   "metadata": {},
   "outputs": [
    {
     "data": {
      "image/png": "[encoded data removed]",
      "text/plain": [
       "<Figure size 1080x504 with 1 Axes>"
      ]
     },
     "metadata": {
      "needs_background": "light"
     },
     "output_type": "display_data"
    }
   ],
   "source": [
    "# Set figure size\n",
    "plt.figure(figsize=(15,7))\n",
    "\n",
    "# Barplot\n",
    "sns.barplot(y='CTR',\n",
    "            x='hour_of_day',\n",
    "            data=hour_df)\n",
    "\n",
    "# Set plot features\n",
    "plt.title('Hourly CTR')\n",
    "plt.show()"
   ]
  },
  {
   "cell_type": "markdown",
   "metadata": {},
   "source": [
    "Although it's indicated that clicks were lowest around midnight and highest around noon, an interesting observation here is that the high CTR (> 17%) happened at hours 0, 1, 2, 7, 14, 15, and 16. We should make an effort to figure out why there are discrepancies between the clicks and impressions.\n",
    "\n",
    "We want to figure out the what are user affinities per hour to better segment and optimize marketing resources.\n",
    "- Are higher valued users around those higher CTR times? \n",
    "- Are we showing Ads inefficiently?\n",
    "- What's ROI of the current marketing initiative?"
   ]
  },
  {
   "cell_type": "markdown",
   "metadata": {},
   "source": [
    "### Clicks by Day"
   ]
  },
  {
   "cell_type": "code",
   "execution_count": 20,
   "metadata": {},
   "outputs": [
    {
     "data": {
      "image/png": "[encoded data removed]",
      "text/plain": [
       "<Figure size 1296x432 with 1 Axes>"
      ]
     },
     "metadata": {
      "needs_background": "light"
     },
     "output_type": "display_data"
    }
   ],
   "source": [
    "# Get day of week feature\n",
    "train['day_of_week'] = train['hour'].apply(lambda x: x.weekday_name)\n",
    "\n",
    "# Names\n",
    "day_names = ['Monday', 'Tuesday', 'Wednesday', 'Thursday', 'Friday', 'Saturday', 'Sunday']\n",
    "\n",
    "# Group\n",
    "train.groupby('day_of_week').agg({'click': 'sum'}).reindex(day_names).plot(figsize=(18,6))\n",
    "\n",
    "# Set plot features\n",
    "ticks = list(range(0, 7 ,1))\n",
    "labels = ['Mon', 'Tue', 'Wed', 'Thu', 'Fri', 'Sat', 'Sun']\n",
    "plt.xticks(ticks, labels)\n",
    "plt.xlabel('')\n",
    "plt.title('Click Trend by Day of Week')\n",
    "plt.show()\n"
   ]
  },
  {
   "cell_type": "code",
   "execution_count": 21,
   "metadata": {},
   "outputs": [
    {
     "data": {
      "image/png": "[encoded data removed]",
      "text/plain": [
       "<Figure size 1080x360 with 1 Axes>"
      ]
     },
     "metadata": {
      "needs_background": "light"
     },
     "output_type": "display_data"
    }
   ],
   "source": [
    "train.groupby(['day_of_week','click']).size().unstack().reindex(day_names).plot(kind='bar', figsize=(15,5))\n",
    "\n",
    "# Set plot features\n",
    "ticks = list(range(0, 7 ,1))\n",
    "labels = ['Mon', 'Tue', 'Wed', 'Thu', 'Fri', 'Sat', 'Sun']\n",
    "plt.xticks(ticks, labels)\n",
    "plt.xlabel('')\n",
    "plt.title('Impressions vs. Clicks by Day of Week')\n",
    "plt.show()"
   ]
  },
  {
   "cell_type": "markdown",
   "metadata": {},
   "source": [
    "Tuesday and Wednesdays have the most number of impressions and clicks. I am surprised that the weekend and Monday is so low. The types of advertisements attract users during the working days not including the days that are around the weekend so this can be an indicator on the type of advertisements shown and when it's shown. Let's check CTR."
   ]
  },
  {
   "cell_type": "code",
   "execution_count": 22,
   "metadata": {},
   "outputs": [],
   "source": [
    "# Get click data by day\n",
    "ctr_df = train[train['click']==1]\n",
    "\n",
    "# Create new df to store clicks\n",
    "day_df = train[['day_of_week', 'click']].groupby(['day_of_week']).count().reset_index()\n",
    "day_df = day_df.rename(columns={'click': 'Impressions'})\n",
    "day_df['clicks'] = ctr_df[['day_of_week', 'click']].groupby(['day_of_week']).count().reset_index()['click']\n",
    "\n",
    "# Calculate CTR \n",
    "day_df['CTR'] = (day_df['clicks'] / day_df['Impressions']) * 100"
   ]
  },
  {
   "cell_type": "code",
   "execution_count": 24,
   "metadata": {},
   "outputs": [
    {
     "data": {
      "image/png": "[encoded data removed]",
      "text/plain": [
       "<Figure size 1080x504 with 1 Axes>"
      ]
     },
     "metadata": {
      "needs_background": "light"
     },
     "output_type": "display_data"
    }
   ],
   "source": [
    "# Set figure size\n",
    "plt.figure(figsize=(15,7))\n",
    "\n",
    "# Barplot\n",
    "sns.barplot(y='CTR',\n",
    "            x='day_of_week',\n",
    "            data=day_df)\n",
    "\n",
    "# Set plot features\n",
    "ticks = list(range(0, 7 ,1))\n",
    "labels = ['Mon', 'Tue', 'Wed', 'Thu', 'Fri', 'Sat', 'Sun']\n",
    "plt.xticks(ticks, labels)\n",
    "plt.xlabel('')\n",
    "plt.title('Day CTR')\n",
    "plt.show()"
   ]
  },
  {
   "cell_type": "markdown",
   "metadata": {},
   "source": [
    "Although the numbers are a lot higher from Tuesday through Thursday, CTR is roughly similar from Monday through Friday with a drop during the weekend since real-time bidding does not occur occur as much for this company. Types of advertisements should vary on what's being advertised so we are able to capture relevant consumers inside the population. My assumption is that if the ads are more business related then the work week may be better than the weekend versus ads on clothing sales during the weekend."
   ]
  },
  {
   "cell_type": "markdown",
   "metadata": {},
   "source": [
    "### C1"
   ]
  },
  {
   "cell_type": "code",
   "execution_count": 30,
   "metadata": {
    "scrolled": true
   },
   "outputs": [
    {
     "data": {
      "text/plain": [
       "1005    0.918698\n",
       "1002    0.054796\n",
       "1010    0.022484\n",
       "1012    0.002764\n",
       "1007    0.000904\n",
       "1001    0.000224\n",
       "1008    0.000130\n",
       "Name: C1, dtype: float64"
      ]
     },
     "execution_count": 30,
     "metadata": {},
     "output_type": "execute_result"
    }
   ],
   "source": [
    "train.C1.value_counts(normalize=True)"
   ]
  },
  {
   "cell_type": "code",
   "execution_count": 33,
   "metadata": {},
   "outputs": [
    {
     "data": {
      "text/plain": [
       "1005    459349\n",
       "1002     27398\n",
       "1010     11242\n",
       "1012      1382\n",
       "1007       452\n",
       "1001       112\n",
       "1008        65\n",
       "Name: C1, dtype: int64"
      ]
     },
     "execution_count": 33,
     "metadata": {},
     "output_type": "execute_result"
    }
   ],
   "source": [
    "train.C1.value_counts()"
   ]
  },
  {
   "cell_type": "markdown",
   "metadata": {},
   "source": [
    "C1 is an anonymized feature so we don't know what it is. Majority of the values are 1005 with only 2 more that are above 1% in this dataset. We can bin or group the values together that are below 1% as an engineering technique, but we should explore the data more."
   ]
  },
  {
   "cell_type": "code",
   "execution_count": 32,
   "metadata": {},
   "outputs": [
    {
     "data": {
      "text/plain": [
       "C1\n",
       "1002    0.206329\n",
       "1005    0.169703\n",
       "1008    0.169231\n",
       "1012    0.168596\n",
       "1010    0.096780\n",
       "1001    0.044643\n",
       "1007    0.033186\n",
       "Name: click, dtype: float64"
      ]
     },
     "execution_count": 32,
     "metadata": {},
     "output_type": "execute_result"
    }
   ],
   "source": [
    "train.groupby('C1').mean()['click'].sort_values(ascending=False)"
   ]
  },
  {
   "cell_type": "markdown",
   "metadata": {},
   "source": [
    "1002 and 1005 seem to have two of the highest click percentage with 1008 trailing not too far behind but this dataset only has 65 values."
   ]
  },
  {
   "cell_type": "code",
   "execution_count": 35,
   "metadata": {},
   "outputs": [],
   "source": [
    "# C1 data\n",
    "c1_df = train[['C1', 'click']].groupby('C1').count().reset_index()\n",
    "c1_df = c1_df.rename(columns={'click': 'Impressions'})\n",
    "c1_df['clicks'] = ctr_df[['C1', 'click']].groupby('C1').count().reset_index()['click']\n",
    "\n",
    "# Calculate CTR\n",
    "c1_df['CTR'] = c1_df['clicks'] / c1_df['Impressions'] * 100"
   ]
  },
  {
   "cell_type": "code",
   "execution_count": 36,
   "metadata": {},
   "outputs": [
    {
     "data": {
      "image/png": "[encoded data removed]",
      "text/plain": [
       "<Figure size 1080x504 with 1 Axes>"
      ]
     },
     "metadata": {
      "needs_background": "light"
     },
     "output_type": "display_data"
    }
   ],
   "source": [
    "# Set figure size\n",
    "plt.figure(figsize=(15,7))\n",
    "\n",
    "# Barplot\n",
    "sns.barplot(y='CTR',\n",
    "            x='C1',\n",
    "            data=c1_df)\n",
    "\n",
    "# Set plot features\n",
    "plt.title('C1 CTR')\n",
    "plt.show()"
   ]
  },
  {
   "cell_type": "code",
   "execution_count": 38,
   "metadata": {},
   "outputs": [
    {
     "data": {
      "text/plain": [
       "C1              1006.428571\n",
       "Impressions    71428.571429\n",
       "clicks         12136.857143\n",
       "CTR               12.692397\n",
       "dtype: float64"
      ]
     },
     "execution_count": 38,
     "metadata": {},
     "output_type": "execute_result"
    }
   ],
   "source": [
    "c1_df.mean()"
   ]
  },
  {
   "cell_type": "code",
   "execution_count": 40,
   "metadata": {},
   "outputs": [
    {
     "data": {
      "text/plain": [
       "count     7.000000\n",
       "mean     12.692397\n",
       "std       6.846816\n",
       "min       3.318584\n",
       "25%       7.071139\n",
       "50%      16.859624\n",
       "75%      16.946699\n",
       "max      20.632893\n",
       "Name: CTR, dtype: float64"
      ]
     },
     "execution_count": 40,
     "metadata": {},
     "output_type": "execute_result"
    }
   ],
   "source": [
    "c1_df.CTR.describe()"
   ]
  },
  {
   "cell_type": "markdown",
   "metadata": {},
   "source": [
    "### Banner Position"
   ]
  },
  {
   "cell_type": "code",
   "execution_count": 44,
   "metadata": {},
   "outputs": [
    {
     "data": {
      "text/plain": [
       "0    0.719636\n",
       "1    0.278454\n",
       "7    0.001176\n",
       "2    0.000338\n",
       "4    0.000216\n",
       "5    0.000130\n",
       "3    0.000050\n",
       "Name: banner_pos, dtype: float64"
      ]
     },
     "execution_count": 44,
     "metadata": {},
     "output_type": "execute_result"
    }
   ],
   "source": [
    "train.banner_pos.value_counts(normalize=True)"
   ]
  },
  {
   "cell_type": "code",
   "execution_count": 46,
   "metadata": {},
   "outputs": [
    {
     "data": {
      "text/plain": [
       "0    359818\n",
       "1    139227\n",
       "7       588\n",
       "2       169\n",
       "4       108\n",
       "5        65\n",
       "3        25\n",
       "Name: banner_pos, dtype: int64"
      ]
     },
     "execution_count": 46,
     "metadata": {},
     "output_type": "execute_result"
    }
   ],
   "source": [
    "train.banner_pos.value_counts()"
   ]
  },
  {
   "cell_type": "code",
   "execution_count": 48,
   "metadata": {},
   "outputs": [
    {
     "data": {
      "image/png": "[encoded data removed]",
      "text/plain": [
       "<Figure size 1080x360 with 1 Axes>"
      ]
     },
     "metadata": {
      "needs_background": "light"
     },
     "output_type": "display_data"
    }
   ],
   "source": [
    "train.groupby(['banner_pos', 'click']).size().unstack().plot(kind='bar', figsize=(15,5))\n",
    "                                                             \n",
    "# Set plot features\n",
    "plt.title('Banner Position Histogram')\n",
    "plt.show()"
   ]
  },
  {
   "cell_type": "code",
   "execution_count": 50,
   "metadata": {},
   "outputs": [],
   "source": [
    "# Banner data\n",
    "banner_df = train[['banner_pos', 'click']].groupby('banner_pos').count().reset_index()\n",
    "banner_df = banner_df.rename(columns={'click': 'Impressions'})\n",
    "banner_df['clicks'] = ctr_df[['banner_pos', 'click']].groupby('banner_pos').count().reset_index()['click']\n",
    "\n",
    "# Calculate CTR\n",
    "banner_df['CTR'] = banner_df['clicks'] / banner_df['Impressions'] * 100"
   ]
  },
  {
   "cell_type": "code",
   "execution_count": 53,
   "metadata": {},
   "outputs": [
    {
     "data": {
      "text/plain": [
       "[7, 3, 4, 1, 5, 0, 2]"
      ]
     },
     "execution_count": 53,
     "metadata": {},
     "output_type": "execute_result"
    }
   ],
   "source": [
    "sort_banners = banner_df.sort_values(by='CTR', ascending=False)['banner_pos'].tolist()\n",
    "sort_banners"
   ]
  },
  {
   "cell_type": "code",
   "execution_count": 54,
   "metadata": {},
   "outputs": [
    {
     "data": {
      "image/png": "[encoded data removed]",
      "text/plain": [
       "<Figure size 1080x504 with 1 Axes>"
      ]
     },
     "metadata": {
      "needs_background": "light"
     },
     "output_type": "display_data"
    }
   ],
   "source": [
    "# Set figure size\n",
    "plt.figure(figsize=(15,7))\n",
    "\n",
    "# Barplot\n",
    "sns.barplot(y='CTR',\n",
    "            x='banner_pos',\n",
    "            data=banner_df,\n",
    "            order=sort_banners\n",
    "           )\n",
    "\n",
    "# Set plot features\n",
    "plt.title('Banner Position CTR')\n",
    "plt.show()"
   ]
  },
  {
   "cell_type": "code",
   "execution_count": 55,
   "metadata": {},
   "outputs": [
    {
     "data": {
      "text/plain": [
       "count     7.000000\n",
       "mean     21.249449\n",
       "std       6.791290\n",
       "min      15.976331\n",
       "25%      16.645537\n",
       "50%      18.530888\n",
       "75%      23.722222\n",
       "max      33.503401\n",
       "Name: CTR, dtype: float64"
      ]
     },
     "execution_count": 55,
     "metadata": {},
     "output_type": "execute_result"
    }
   ],
   "source": [
    "banner_df.CTR.describe()"
   ]
  },
  {
   "cell_type": "markdown",
   "metadata": {},
   "source": [
    "### Site ID"
   ]
  },
  {
   "cell_type": "code",
   "execution_count": 58,
   "metadata": {},
   "outputs": [
    {
     "data": {
      "text/plain": [
       "85f751fd    0.362004\n",
       "1fbe01fe    0.160678\n",
       "e151e245    0.064912\n",
       "d9750ee7    0.023524\n",
       "5b08c53b    0.022410\n",
       "856e6d3f    0.019178\n",
       "5b4d2eda    0.018968\n",
       "a7853007    0.011536\n",
       "b7e9786d    0.009170\n",
       "5ee41ff2    0.008764\n",
       "Name: site_id, dtype: float64"
      ]
     },
     "execution_count": 58,
     "metadata": {},
     "output_type": "execute_result"
    }
   ],
   "source": [
    "train.site_id.value_counts(normalize=True).head(10)"
   ]
  },
  {
   "cell_type": "code",
   "execution_count": 64,
   "metadata": {},
   "outputs": [
    {
     "data": {
      "image/png": "[encoded data removed]",
      "text/plain": [
       "<Figure size 1080x360 with 1 Axes>"
      ]
     },
     "metadata": {
      "needs_background": "light"
     },
     "output_type": "display_data"
    }
   ],
   "source": [
    "# Top 10\n",
    "top_10_sites = train[(train.site_id.isin((train.site_id.value_counts()/len(train))[0:10].index))]\n",
    "top_10_sites_click = top_10_sites[top_10_sites['click']==1]\n",
    "top_10_sites.groupby(['site_id', 'click']).size().unstack().plot(kind='bar',\n",
    "                                                                 figsize=(15,5),\n",
    "                                                                 title='Top 10 Site IDs')\n",
    "plt.show()"
   ]
  },
  {
   "cell_type": "code",
   "execution_count": 62,
   "metadata": {},
   "outputs": [
    {
     "data": {
      "image/png": "[encoded data removed]",
      "text/plain": [
       "<Figure size 1080x360 with 1 Axes>"
      ]
     },
     "metadata": {
      "needs_background": "light"
     },
     "output_type": "display_data"
    }
   ],
   "source": [
    "# Site data\n",
    "site_df = top_10_sites[['site_id','click']].groupby(['site_id']).count().reset_index()\n",
    "site_df = site_df.rename(columns={'click': 'impressions'})\n",
    "site_df['clicks'] = ctr_df[['site_id','click']].groupby(['site_id']).count().reset_index()['click']\n",
    "site_df['CTR'] = site_df['clicks'] / site_df['impressions'] * 100\n",
    "\n",
    "# Sort\n",
    "sort_site = site_df.sort_values(by='CTR',ascending=False)['site_id'].tolist()\n",
    "\n",
    "# Set plot features\n",
    "plt.figure(figsize=(15,5))\n",
    "sns.barplot(y='CTR', x='site_id', data=site_df, order=sort_site)\n",
    "plt.title('CTR by Top 10 Site IDs by Volume')\n",
    "plt.show()"
   ]
  },
  {
   "cell_type": "markdown",
   "metadata": {},
   "source": [
    "### Site Domain"
   ]
  },
  {
   "cell_type": "code",
   "execution_count": 66,
   "metadata": {},
   "outputs": [
    {
     "data": {
      "text/plain": [
       "c4e18dd6    0.375214\n",
       "f3845767    0.160678\n",
       "7e091613    0.082042\n",
       "7687a86e    0.031814\n",
       "98572c79    0.024272\n",
       "16a36ef3    0.021080\n",
       "58a89a43    0.019178\n",
       "9d54950b    0.009326\n",
       "b12b9f85    0.009280\n",
       "17d996e6    0.008890\n",
       "Name: site_domain, dtype: float64"
      ]
     },
     "execution_count": 66,
     "metadata": {},
     "output_type": "execute_result"
    }
   ],
   "source": [
    "train.site_domain.value_counts(normalize=True).head(10)"
   ]
  },
  {
   "cell_type": "code",
   "execution_count": 68,
   "metadata": {},
   "outputs": [
    {
     "data": {
      "image/png": "[encoded data removed]",
      "text/plain": [
       "<Figure size 1080x360 with 1 Axes>"
      ]
     },
     "metadata": {
      "needs_background": "light"
     },
     "output_type": "display_data"
    }
   ],
   "source": [
    "# Top 10\n",
    "top_10_domains = train[(train.site_domain.isin((train.site_domain.value_counts()/len(train))[0:10].index))]\n",
    "top_10_domains_click = top_10_domains[top_10_domains['click']==1]\n",
    "top_10_domains.groupby(['site_domain', 'click']).size().unstack().plot(kind='bar',\n",
    "                                                                 figsize=(15,5),\n",
    "                                                                 title='Top 10 Site IDs')\n",
    "plt.show()"
   ]
  },
  {
   "cell_type": "code",
   "execution_count": 72,
   "metadata": {},
   "outputs": [
    {
     "data": {
      "image/png": "[encoded data removed]",
      "text/plain": [
       "<Figure size 1080x360 with 1 Axes>"
      ]
     },
     "metadata": {
      "needs_background": "light"
     },
     "output_type": "display_data"
    }
   ],
   "source": [
    "# Site data\n",
    "domain_df = top_10_domains[['site_domain','click']].groupby(['site_domain']).count().reset_index()\n",
    "domain_df = domain_df.rename(columns={'click': 'Impressions'})\n",
    "domain_df['clicks'] = ctr_df[['site_domain', 'click']].groupby(['site_domain']).count().reset_index()['click']\n",
    "domain_df['CTR'] = domain_df['clicks'] / domain_df['Impressions'] * 100\n",
    "\n",
    "# Sort\n",
    "sort_domain = domain_df.sort_values(by='CTR',ascending=False)['site_domain'].tolist()\n",
    "\n",
    "# Set plot features\n",
    "plt.figure(figsize=(15,5))\n",
    "sns.barplot(y='CTR', x='site_domain', data=domain_df, order=sort_domain)\n",
    "plt.title('CTR by Top 10 Site Domains by Volume')\n",
    "plt.show()"
   ]
  },
  {
   "cell_type": "markdown",
   "metadata": {},
   "source": [
    "### Site Category"
   ]
  },
  {
   "cell_type": "code",
   "execution_count": 77,
   "metadata": {},
   "outputs": [
    {
     "data": {
      "text/plain": [
       "50e219e0    0.409840\n",
       "f028772b    0.312820\n",
       "28905ebd    0.182642\n",
       "3e814130    0.075106\n",
       "f66779e6    0.006098\n",
       "75fa27f6    0.003864\n",
       "335d28a8    0.003482\n",
       "76b2941d    0.002390\n",
       "c0dd3be3    0.001028\n",
       "72722551    0.000680\n",
       "dedf689d    0.000634\n",
       "70fb0e29    0.000584\n",
       "0569f928    0.000460\n",
       "8fd0aea4    0.000164\n",
       "42a36e14    0.000068\n",
       "a818d37a    0.000052\n",
       "e787de0e    0.000034\n",
       "bcf865d9    0.000026\n",
       "5378d028    0.000014\n",
       "9ccfa2ea    0.000010\n",
       "c706e647    0.000002\n",
       "74073276    0.000002\n",
       "Name: site_category, dtype: float64"
      ]
     },
     "execution_count": 77,
     "metadata": {},
     "output_type": "execute_result"
    }
   ],
   "source": [
    "train.site_category.value_counts(normalize=True)"
   ]
  },
  {
   "cell_type": "code",
   "execution_count": 84,
   "metadata": {},
   "outputs": [
    {
     "data": {
      "image/png": "[encoded data removed]",
      "text/plain": [
       "<Figure size 1080x360 with 1 Axes>"
      ]
     },
     "metadata": {
      "needs_background": "light"
     },
     "output_type": "display_data"
    }
   ],
   "source": [
    "# Top 10\n",
    "top_10_category = train[(train.site_category.isin((train.site_category.value_counts()/len(train))[0:10].index))]\n",
    "top_10_category_click = top_10_category[top_10_category['click']==1]\n",
    "top_10_category.groupby(['site_category', 'click']).size().unstack().plot(kind='bar',\n",
    "                                                                          figsize=(15,5),\n",
    "                                                                          title='Top 10 Site Categories')\n",
    "plt.show()"
   ]
  },
  {
   "cell_type": "code",
   "execution_count": 117,
   "metadata": {},
   "outputs": [
    {
     "data": {
      "text/html": [
       "<div>\n",
       "<style scoped>\n",
       "    .dataframe tbody tr th:only-of-type {\n",
       "        vertical-align: middle;\n",
       "    }\n",
       "\n",
       "    .dataframe tbody tr th {\n",
       "        vertical-align: top;\n",
       "    }\n",
       "\n",
       "    .dataframe thead th {\n",
       "        text-align: right;\n",
       "    }\n",
       "</style>\n",
       "<table border=\"1\" class=\"dataframe\">\n",
       "  <thead>\n",
       "    <tr style=\"text-align: right;\">\n",
       "      <th>click</th>\n",
       "      <th>site_category</th>\n",
       "      <th>Impressions</th>\n",
       "      <th>Clicks</th>\n",
       "      <th>CTR</th>\n",
       "    </tr>\n",
       "  </thead>\n",
       "  <tbody>\n",
       "    <tr>\n",
       "      <th>0</th>\n",
       "      <td>28905ebd</td>\n",
       "      <td>72500</td>\n",
       "      <td>18821</td>\n",
       "      <td>0.206097</td>\n",
       "    </tr>\n",
       "    <tr>\n",
       "      <th>1</th>\n",
       "      <td>335d28a8</td>\n",
       "      <td>1582</td>\n",
       "      <td>159</td>\n",
       "      <td>0.091327</td>\n",
       "    </tr>\n",
       "    <tr>\n",
       "      <th>2</th>\n",
       "      <td>3e814130</td>\n",
       "      <td>26901</td>\n",
       "      <td>10652</td>\n",
       "      <td>0.283652</td>\n",
       "    </tr>\n",
       "    <tr>\n",
       "      <th>3</th>\n",
       "      <td>50e219e0</td>\n",
       "      <td>178590</td>\n",
       "      <td>26330</td>\n",
       "      <td>0.128489</td>\n",
       "    </tr>\n",
       "    <tr>\n",
       "      <th>4</th>\n",
       "      <td>72722551</td>\n",
       "      <td>326</td>\n",
       "      <td>14</td>\n",
       "      <td>0.041176</td>\n",
       "    </tr>\n",
       "    <tr>\n",
       "      <th>5</th>\n",
       "      <td>75fa27f6</td>\n",
       "      <td>1697</td>\n",
       "      <td>235</td>\n",
       "      <td>0.121636</td>\n",
       "    </tr>\n",
       "    <tr>\n",
       "      <th>6</th>\n",
       "      <td>76b2941d</td>\n",
       "      <td>1155</td>\n",
       "      <td>40</td>\n",
       "      <td>0.033473</td>\n",
       "    </tr>\n",
       "    <tr>\n",
       "      <th>7</th>\n",
       "      <td>c0dd3be3</td>\n",
       "      <td>461</td>\n",
       "      <td>53</td>\n",
       "      <td>0.103113</td>\n",
       "    </tr>\n",
       "    <tr>\n",
       "      <th>8</th>\n",
       "      <td>f028772b</td>\n",
       "      <td>128100</td>\n",
       "      <td>28310</td>\n",
       "      <td>0.180999</td>\n",
       "    </tr>\n",
       "    <tr>\n",
       "      <th>9</th>\n",
       "      <td>f66779e6</td>\n",
       "      <td>2921</td>\n",
       "      <td>128</td>\n",
       "      <td>0.041981</td>\n",
       "    </tr>\n",
       "  </tbody>\n",
       "</table>\n",
       "</div>"
      ],
      "text/plain": [
       "click site_category  Impressions  Clicks       CTR\n",
       "0          28905ebd        72500   18821  0.206097\n",
       "1          335d28a8         1582     159  0.091327\n",
       "2          3e814130        26901   10652  0.283652\n",
       "3          50e219e0       178590   26330  0.128489\n",
       "4          72722551          326      14  0.041176\n",
       "5          75fa27f6         1697     235  0.121636\n",
       "6          76b2941d         1155      40  0.033473\n",
       "7          c0dd3be3          461      53  0.103113\n",
       "8          f028772b       128100   28310  0.180999\n",
       "9          f66779e6         2921     128  0.041981"
      ]
     },
     "execution_count": 117,
     "metadata": {},
     "output_type": "execute_result"
    }
   ],
   "source": [
    "top_10_cat = top_10_category.groupby(['site_category', 'click']).size().unstack().reset_index()\n",
    "top_10_cat = top_10_cat.rename(columns={0: 'Impressions', 1: 'Clicks'})\n",
    "top_10_cat['CTR'] = top_10_cat['Clicks'] / (top_10_cat['Clicks'] + top_10_cat['Impressions'])\n",
    "top_10_cat"
   ]
  },
  {
   "cell_type": "code",
   "execution_count": 118,
   "metadata": {},
   "outputs": [
    {
     "data": {
      "image/png": "[encoded data removed]",
      "text/plain": [
       "<Figure size 1080x360 with 1 Axes>"
      ]
     },
     "metadata": {
      "needs_background": "light"
     },
     "output_type": "display_data"
    }
   ],
   "source": [
    "# Sort\n",
    "sort_category = top_10_cat.sort_values(by='CTR',ascending=False)['site_category'].tolist()\n",
    "\n",
    "# Set plot features\n",
    "plt.figure(figsize=(15,5))\n",
    "sns.barplot(y='CTR', x='site_category', data=top_10_cat, order=sort_category)\n",
    "plt.title('CTR by Top 10 Site Categories by Volume')\n",
    "plt.show()"
   ]
  },
  {
   "cell_type": "markdown",
   "metadata": {},
   "source": [
    "### App ID"
   ]
  },
  {
   "cell_type": "code",
   "execution_count": 121,
   "metadata": {},
   "outputs": [
    {
     "data": {
      "text/plain": [
       "ecad2386    0.637996\n",
       "92f5800b    0.038358\n",
       "e2fcccd2    0.028050\n",
       "9c13b419    0.018834\n",
       "febd1138    0.018658\n",
       "7358e05e    0.015342\n",
       "a5184c22    0.012076\n",
       "d36838b1    0.011278\n",
       "685d1c4c    0.010278\n",
       "54c5d545    0.009952\n",
       "Name: app_id, dtype: float64"
      ]
     },
     "execution_count": 121,
     "metadata": {},
     "output_type": "execute_result"
    }
   ],
   "source": [
    "train.app_id.value_counts(normalize=True).head(10)"
   ]
  },
  {
   "cell_type": "code",
   "execution_count": 125,
   "metadata": {},
   "outputs": [
    {
     "data": {
      "image/png": "[encoded data removed]",
      "text/plain": [
       "<Figure size 1080x360 with 1 Axes>"
      ]
     },
     "metadata": {
      "needs_background": "light"
     },
     "output_type": "display_data"
    }
   ],
   "source": [
    "# Top 10\n",
    "top_10_appid = train[(train.app_id.isin((train.app_id.value_counts()/len(train))[0:10].index))]\n",
    "top_10_appid_click = top_10_appid[top_10_appid['click']==1]\n",
    "top_10_appid.groupby(['app_id', 'click']).size().unstack().plot(kind='bar',\n",
    "                                                                figsize=(15,5),\n",
    "                                                                title='Top 10 App IDs')\n",
    "plt.show()"
   ]
  },
  {
   "cell_type": "code",
   "execution_count": 126,
   "metadata": {},
   "outputs": [
    {
     "data": {
      "text/html": [
       "<div>\n",
       "<style scoped>\n",
       "    .dataframe tbody tr th:only-of-type {\n",
       "        vertical-align: middle;\n",
       "    }\n",
       "\n",
       "    .dataframe tbody tr th {\n",
       "        vertical-align: top;\n",
       "    }\n",
       "\n",
       "    .dataframe thead th {\n",
       "        text-align: right;\n",
       "    }\n",
       "</style>\n",
       "<table border=\"1\" class=\"dataframe\">\n",
       "  <thead>\n",
       "    <tr style=\"text-align: right;\">\n",
       "      <th>click</th>\n",
       "      <th>app_id</th>\n",
       "      <th>Impressions</th>\n",
       "      <th>Clicks</th>\n",
       "      <th>CTR</th>\n",
       "    </tr>\n",
       "  </thead>\n",
       "  <tbody>\n",
       "    <tr>\n",
       "      <th>0</th>\n",
       "      <td>54c5d545</td>\n",
       "      <td>4359</td>\n",
       "      <td>617</td>\n",
       "      <td>0.123995</td>\n",
       "    </tr>\n",
       "    <tr>\n",
       "      <th>1</th>\n",
       "      <td>685d1c4c</td>\n",
       "      <td>4776</td>\n",
       "      <td>363</td>\n",
       "      <td>0.070636</td>\n",
       "    </tr>\n",
       "    <tr>\n",
       "      <th>2</th>\n",
       "      <td>7358e05e</td>\n",
       "      <td>6202</td>\n",
       "      <td>1469</td>\n",
       "      <td>0.191500</td>\n",
       "    </tr>\n",
       "    <tr>\n",
       "      <th>3</th>\n",
       "      <td>92f5800b</td>\n",
       "      <td>18808</td>\n",
       "      <td>371</td>\n",
       "      <td>0.019344</td>\n",
       "    </tr>\n",
       "    <tr>\n",
       "      <th>4</th>\n",
       "      <td>9c13b419</td>\n",
       "      <td>6577</td>\n",
       "      <td>2840</td>\n",
       "      <td>0.301582</td>\n",
       "    </tr>\n",
       "    <tr>\n",
       "      <th>5</th>\n",
       "      <td>a5184c22</td>\n",
       "      <td>4532</td>\n",
       "      <td>1506</td>\n",
       "      <td>0.249420</td>\n",
       "    </tr>\n",
       "    <tr>\n",
       "      <th>6</th>\n",
       "      <td>d36838b1</td>\n",
       "      <td>5233</td>\n",
       "      <td>406</td>\n",
       "      <td>0.071999</td>\n",
       "    </tr>\n",
       "    <tr>\n",
       "      <th>7</th>\n",
       "      <td>e2fcccd2</td>\n",
       "      <td>11279</td>\n",
       "      <td>2746</td>\n",
       "      <td>0.195793</td>\n",
       "    </tr>\n",
       "    <tr>\n",
       "      <th>8</th>\n",
       "      <td>ecad2386</td>\n",
       "      <td>255633</td>\n",
       "      <td>63365</td>\n",
       "      <td>0.198638</td>\n",
       "    </tr>\n",
       "    <tr>\n",
       "      <th>9</th>\n",
       "      <td>febd1138</td>\n",
       "      <td>8871</td>\n",
       "      <td>458</td>\n",
       "      <td>0.049094</td>\n",
       "    </tr>\n",
       "  </tbody>\n",
       "</table>\n",
       "</div>"
      ],
      "text/plain": [
       "click    app_id  Impressions  Clicks       CTR\n",
       "0      54c5d545         4359     617  0.123995\n",
       "1      685d1c4c         4776     363  0.070636\n",
       "2      7358e05e         6202    1469  0.191500\n",
       "3      92f5800b        18808     371  0.019344\n",
       "4      9c13b419         6577    2840  0.301582\n",
       "5      a5184c22         4532    1506  0.249420\n",
       "6      d36838b1         5233     406  0.071999\n",
       "7      e2fcccd2        11279    2746  0.195793\n",
       "8      ecad2386       255633   63365  0.198638\n",
       "9      febd1138         8871     458  0.049094"
      ]
     },
     "execution_count": 126,
     "metadata": {},
     "output_type": "execute_result"
    }
   ],
   "source": [
    "top_10_appid = top_10_appid.groupby(['app_id', 'click']).size().unstack().reset_index()\n",
    "top_10_appid = top_10_appid.rename(columns={0: 'Impressions', 1: 'Clicks'})\n",
    "top_10_appid['CTR'] = top_10_appid['Clicks'] / (top_10_appid['Clicks'] + top_10_appid['Impressions'])\n",
    "top_10_appid"
   ]
  },
  {
   "cell_type": "code",
   "execution_count": 128,
   "metadata": {},
   "outputs": [
    {
     "data": {
      "image/png": "[encoded data removed]",
      "text/plain": [
       "<Figure size 1080x360 with 1 Axes>"
      ]
     },
     "metadata": {
      "needs_background": "light"
     },
     "output_type": "display_data"
    }
   ],
   "source": [
    "# Sort\n",
    "sort_appid = top_10_appid.sort_values(by='CTR',ascending=False)['app_id'].tolist()\n",
    "\n",
    "# Set plot features\n",
    "plt.figure(figsize=(15,5))\n",
    "sns.barplot(y='CTR', x='app_id', data=top_10_appid, order=sort_appid)\n",
    "plt.title('CTR by Top 10 App IDs by Volume')\n",
    "plt.show()"
   ]
  },
  {
   "cell_type": "markdown",
   "metadata": {},
   "source": [
    "### Device Features"
   ]
  },
  {
   "cell_type": "code",
   "execution_count": 131,
   "metadata": {},
   "outputs": [
    {
     "name": "stdout",
     "output_type": "stream",
     "text": [
      "There are 79594 unique device IDs in the data set.\n",
      "There are 314185 unique device IPs in the data set.\n",
      "There are 4 unique device types in the data set.\n",
      "There are 4613 unique device models in the data set.\n",
      "There are 4 unique device connection types in the data set.\n"
     ]
    }
   ],
   "source": [
    "print('There are {} unique device IDs in the data set.'.format(train.device_id.nunique()))\n",
    "print('There are {} unique device IPs in the data set.'.format(train.device_ip.nunique()))\n",
    "print('There are {} unique device types in the data set.'.format(train.device_type.nunique()))\n",
    "print('There are {} unique device models in the data set.'.format(train.device_model.nunique()))\n",
    "print('There are {} unique device connection types in the data set.'.format(train.device_conn_type.nunique()))"
   ]
  },
  {
   "cell_type": "markdown",
   "metadata": {},
   "source": [
    "### Device ID"
   ]
  },
  {
   "cell_type": "code",
   "execution_count": 132,
   "metadata": {},
   "outputs": [
    {
     "name": "stdout",
     "output_type": "stream",
     "text": [
      "The top 10 devices that have the most impressions.\n",
      "--------------------------------------------------\n",
      "a99f214a    0.824656\n",
      "0f7c61dc    0.000518\n",
      "c357dbff    0.000462\n",
      "936e92fb    0.000370\n",
      "afeffc18    0.000252\n",
      "987552d1    0.000108\n",
      "b09da1c4    0.000096\n",
      "28dc8687    0.000084\n",
      "cef4c8cc    0.000074\n",
      "d857ffbb    0.000072\n",
      "Name: device_id, dtype: float64\n"
     ]
    }
   ],
   "source": [
    "print('The top 10 devices that have the most impressions.')\n",
    "print('-'*50)\n",
    "print((train.device_id.value_counts()/len(train))[0:10])"
   ]
  },
  {
   "cell_type": "code",
   "execution_count": 149,
   "metadata": {},
   "outputs": [
    {
     "data": {
      "image/png": "[encoded data removed]",
      "text/plain": [
       "<Figure size 1080x360 with 1 Axes>"
      ]
     },
     "metadata": {
      "needs_background": "light"
     },
     "output_type": "display_data"
    }
   ],
   "source": [
    "# Top 10\n",
    "top_10_device = train[(train.device_id.isin((train.device_id.value_counts()/len(train))[0:10].index))]\n",
    "top_10_device_click = top_10_device[top_10_device['click']==1]\n",
    "top_10_device.groupby(['device_id', 'click']).size().unstack().plot(kind='bar',\n",
    "                                                                    figsize=(15,5),\n",
    "                                                                    title='Top 10 Devices')\n",
    "plt.show()"
   ]
  },
  {
   "cell_type": "code",
   "execution_count": 150,
   "metadata": {},
   "outputs": [
    {
     "data": {
      "text/html": [
       "<div>\n",
       "<style scoped>\n",
       "    .dataframe tbody tr th:only-of-type {\n",
       "        vertical-align: middle;\n",
       "    }\n",
       "\n",
       "    .dataframe tbody tr th {\n",
       "        vertical-align: top;\n",
       "    }\n",
       "\n",
       "    .dataframe thead th {\n",
       "        text-align: right;\n",
       "    }\n",
       "</style>\n",
       "<table border=\"1\" class=\"dataframe\">\n",
       "  <thead>\n",
       "    <tr style=\"text-align: right;\">\n",
       "      <th>click</th>\n",
       "      <th>device_id</th>\n",
       "      <th>Impressions</th>\n",
       "      <th>Clicks</th>\n",
       "      <th>CTR</th>\n",
       "    </tr>\n",
       "  </thead>\n",
       "  <tbody>\n",
       "    <tr>\n",
       "      <th>0</th>\n",
       "      <td>0f7c61dc</td>\n",
       "      <td>259.0</td>\n",
       "      <td>190.0</td>\n",
       "      <td>0.423163</td>\n",
       "    </tr>\n",
       "    <tr>\n",
       "      <th>1</th>\n",
       "      <td>28dc8687</td>\n",
       "      <td>NaN</td>\n",
       "      <td>NaN</td>\n",
       "      <td>NaN</td>\n",
       "    </tr>\n",
       "    <tr>\n",
       "      <th>2</th>\n",
       "      <td>936e92fb</td>\n",
       "      <td>185.0</td>\n",
       "      <td>11.0</td>\n",
       "      <td>0.056122</td>\n",
       "    </tr>\n",
       "    <tr>\n",
       "      <th>3</th>\n",
       "      <td>987552d1</td>\n",
       "      <td>NaN</td>\n",
       "      <td>NaN</td>\n",
       "      <td>NaN</td>\n",
       "    </tr>\n",
       "    <tr>\n",
       "      <th>4</th>\n",
       "      <td>a99f214a</td>\n",
       "      <td>412328.0</td>\n",
       "      <td>71955.0</td>\n",
       "      <td>0.148580</td>\n",
       "    </tr>\n",
       "    <tr>\n",
       "      <th>5</th>\n",
       "      <td>afeffc18</td>\n",
       "      <td>126.0</td>\n",
       "      <td>24.0</td>\n",
       "      <td>0.160000</td>\n",
       "    </tr>\n",
       "    <tr>\n",
       "      <th>6</th>\n",
       "      <td>b09da1c4</td>\n",
       "      <td>48.0</td>\n",
       "      <td>1.0</td>\n",
       "      <td>0.020408</td>\n",
       "    </tr>\n",
       "    <tr>\n",
       "      <th>7</th>\n",
       "      <td>c357dbff</td>\n",
       "      <td>231.0</td>\n",
       "      <td>146.0</td>\n",
       "      <td>0.387268</td>\n",
       "    </tr>\n",
       "    <tr>\n",
       "      <th>8</th>\n",
       "      <td>cef4c8cc</td>\n",
       "      <td>37.0</td>\n",
       "      <td>4.0</td>\n",
       "      <td>0.097561</td>\n",
       "    </tr>\n",
       "    <tr>\n",
       "      <th>9</th>\n",
       "      <td>d857ffbb</td>\n",
       "      <td>36.0</td>\n",
       "      <td>10.0</td>\n",
       "      <td>0.217391</td>\n",
       "    </tr>\n",
       "  </tbody>\n",
       "</table>\n",
       "</div>"
      ],
      "text/plain": [
       "click device_id  Impressions   Clicks       CTR\n",
       "0      0f7c61dc        259.0    190.0  0.423163\n",
       "1      28dc8687          NaN      NaN       NaN\n",
       "2      936e92fb        185.0     11.0  0.056122\n",
       "3      987552d1          NaN      NaN       NaN\n",
       "4      a99f214a     412328.0  71955.0  0.148580\n",
       "5      afeffc18        126.0     24.0  0.160000\n",
       "6      b09da1c4         48.0      1.0  0.020408\n",
       "7      c357dbff        231.0    146.0  0.387268\n",
       "8      cef4c8cc         37.0      4.0  0.097561\n",
       "9      d857ffbb         36.0     10.0  0.217391"
      ]
     },
     "execution_count": 150,
     "metadata": {},
     "output_type": "execute_result"
    }
   ],
   "source": [
    "top_10_device = top_10_device.groupby(['device_id', 'click']).size().unstack().reset_index()\n",
    "top_10_device = top_10_device.rename(columns={0: 'Impressions', 1: 'Clicks'})\n",
    "top_10_device['Impressions'] = (top_10_device['Clicks'] + top_10_device['Impressions'])\n",
    "top_10_device['CTR'] = top_10_device['Clicks'] / (top_10_device['Clicks'] + top_10_device['Impressions'])\n",
    "top_10_device"
   ]
  },
  {
   "cell_type": "code",
   "execution_count": 138,
   "metadata": {},
   "outputs": [
    {
     "data": {
      "image/png": "[encoded data removed]",
      "text/plain": [
       "<Figure size 1080x360 with 1 Axes>"
      ]
     },
     "metadata": {
      "needs_background": "light"
     },
     "output_type": "display_data"
    }
   ],
   "source": [
    "# Sort\n",
    "sort_deviceid = top_10_device.sort_values(by='CTR',ascending=False)['device_id'].tolist()\n",
    "\n",
    "# Set plot features\n",
    "plt.figure(figsize=(15,5))\n",
    "sns.barplot(y='CTR', x='device_id', data=top_10_device, order=sort_deviceid)\n",
    "plt.title('CTR by Top 10 Device IDs by Volume')\n",
    "plt.show()"
   ]
  },
  {
   "cell_type": "code",
   "execution_count": 147,
   "metadata": {
    "scrolled": true
   },
   "outputs": [
    {
     "data": {
      "text/plain": [
       "28dc8687    42\n",
       "Name: device_id, dtype: int64"
      ]
     },
     "execution_count": 147,
     "metadata": {},
     "output_type": "execute_result"
    }
   ],
   "source": [
    "train[train.device_id=='28dc8687'].device_id.value_counts()"
   ]
  },
  {
   "cell_type": "markdown",
   "metadata": {},
   "source": [
    "### Device Type"
   ]
  },
  {
   "cell_type": "code",
   "execution_count": 155,
   "metadata": {},
   "outputs": [
    {
     "name": "stdout",
     "output_type": "stream",
     "text": [
      "Impressions by Device Types\n",
      "----------------------------------------\n",
      "1    0.922720\n",
      "0    0.054796\n",
      "4    0.019320\n",
      "5    0.003164\n",
      "Name: device_type, dtype: float64\n"
     ]
    }
   ],
   "source": [
    "print('Impressions by Device Types')\n",
    "print('-'*40)\n",
    "print((train.device_type.value_counts()/len(train)))"
   ]
  },
  {
   "cell_type": "code",
   "execution_count": 159,
   "metadata": {},
   "outputs": [
    {
     "data": {
      "image/png": "[encoded data removed]",
      "text/plain": [
       "<Figure size 1080x360 with 1 Axes>"
      ]
     },
     "metadata": {
      "needs_background": "light"
     },
     "output_type": "display_data"
    },
    {
     "name": "stdout",
     "output_type": "stream",
     "text": [
      "--------------------------------------------------\n",
      "click  device_type  Impressions  Clicks       CTR\n",
      "0                0        27398    5653  0.171039\n",
      "1                1       461360   78217  0.144960\n",
      "2                4         9660     931  0.087905\n",
      "3                5         1582     157  0.090282\n",
      "--------------------------------------------------\n"
     ]
    },
    {
     "data": {
      "image/png": "[encoded data removed]",
      "text/plain": [
       "<Figure size 1080x360 with 1 Axes>"
      ]
     },
     "metadata": {
      "needs_background": "light"
     },
     "output_type": "display_data"
    }
   ],
   "source": [
    "# Top 10\n",
    "top_10_dev_type = train[(train.device_type.isin((train.device_type.value_counts()/len(train))[0:10].index))]\n",
    "top_10_dev_type_click = top_10_dev_type[top_10_dev_type['click']==1]\n",
    "top_10_dev_type.groupby(['device_type', 'click']).size().unstack().plot(kind='bar',\n",
    "                                                                        figsize=(15,5),\n",
    "                                                                        title='Top 10 Device Types')\n",
    "plt.show()\n",
    "\n",
    "# CTR\n",
    "top_10_dev_type = top_10_dev_type.groupby(['device_type', 'click']).size().unstack().reset_index()\n",
    "top_10_dev_type = top_10_dev_type.rename(columns={0: 'Impressions', 1: 'Clicks'})\n",
    "top_10_dev_type['Impressions'] = (top_10_dev_type['Clicks'] + top_10_dev_type['Impressions'])\n",
    "top_10_dev_type['CTR'] = top_10_dev_type['Clicks'] / (top_10_dev_type['Clicks'] + top_10_dev_type['Impressions'])\n",
    "\n",
    "print('-'*50)\n",
    "print(top_10_dev_type)\n",
    "print('-'*50)\n",
    "\n",
    "# Sort and plot CTR\n",
    "sort_devicetype = top_10_dev_type.sort_values(by='CTR',ascending=False)['device_type'].tolist()\n",
    "\n",
    "# Set plot features\n",
    "plt.figure(figsize=(15,5))\n",
    "sns.barplot(y='CTR', x='device_type', data=top_10_dev_type, order=sort_devicetype)\n",
    "plt.title('CTR by Top 10 Device Types')\n",
    "plt.show()"
   ]
  },
  {
   "cell_type": "markdown",
   "metadata": {},
   "source": [
    "### App Features"
   ]
  },
  {
   "cell_type": "code",
   "execution_count": null,
   "metadata": {},
   "outputs": [],
   "source": []
  },
  {
   "cell_type": "code",
   "execution_count": null,
   "metadata": {},
   "outputs": [],
   "source": []
  },
  {
   "cell_type": "code",
   "execution_count": null,
   "metadata": {},
   "outputs": [],
   "source": []
  },
  {
   "cell_type": "code",
   "execution_count": null,
   "metadata": {},
   "outputs": [],
   "source": []
  },
  {
   "cell_type": "code",
   "execution_count": null,
   "metadata": {},
   "outputs": [],
   "source": []
  },
  {
   "cell_type": "code",
   "execution_count": null,
   "metadata": {},
   "outputs": [],
   "source": []
  },
  {
   "cell_type": "code",
   "execution_count": null,
   "metadata": {},
   "outputs": [],
   "source": [
    "['id', 'click', 'hour', 'C1', 'banner_pos', 'site_id', 'site_domain',\n",
    "       'site_category', 'app_id', 'app_domain', 'app_category', 'device_id',\n",
    "       'device_ip', 'device_model', 'device_type', 'device_conn_type', 'C14',\n",
    "       'C15', 'C16', 'C17', 'C18', 'C19', 'C20', 'C21', 'hour_of_day',\n",
    "       'day_of_week']"
   ]
  }
 ],
 "metadata": {
  "kernelspec": {
   "display_name": "Python 3.6 (TensorFlow)",
   "language": "python",
   "name": "tf-test"
  },
  "language_info": {
   "codemirror_mode": {
    "name": "ipython",
    "version": 3
   },
   "file_extension": ".py",
   "mimetype": "text/x-python",
   "name": "python",
   "nbconvert_exporter": "python",
   "pygments_lexer": "ipython3",
   "version": "3.6.8"
  }
 },
 "nbformat": 4,
 "nbformat_minor": 2
}
