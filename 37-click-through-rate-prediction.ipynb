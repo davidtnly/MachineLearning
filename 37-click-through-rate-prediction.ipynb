{
 "cells": [
  {
   "cell_type": "markdown",
   "metadata": {},
   "source": [
    "## Avato\n",
    "\n",
    "# [Click-Through Rate Prediction](https://www.kaggle.com/c/avazu-ctr-prediction/overview)\n",
    "\n",
    "_**Machine Learning combined with sensitivity analysis to develop and optimize marketing business strategies**_\n",
    "\n",
    "---\n",
    "\n",
    "---"
   ]
  },
  {
   "cell_type": "markdown",
   "metadata": {},
   "source": [
    "## Project Overview\n",
    "---\n",
    "In online advertising, click-through rate (CTR) is a very important metric for evaluating ad performance. As a result, click prediction systems are essential and widely used for sponsored search and real-time bidding. Machine learning is routinely used to help make business decisions yet most often, ML is only used to make predictions while business decisions require some judgement and intuition from experts.\n",
    "\n",
    "\n",
    "## Data\n",
    "---\n",
    "For this competition, Avazu have provided 11 days worth of data to build and test prediction models. The train data covers 10 days of click streams data from 2014–10–21 to 2014–10–30, that is 240 hours and 1 day of ads for testing model predictions.\n",
    "\n",
    "### Files\n",
    "- train - Training set. 10 days of click-through data, ordered chronologically. Non-clicks and clicks are subsampled according to different strategies.\n",
    "- test - Test set. 1 day of ads to for testing your model predictions. \n",
    "- sampleSubmission.csv - Sample submission file in the correct format, corresponds to the All-0.5 Benchmark.\n",
    "\n",
    "### Characteristics\n",
    "\n",
    "- id: ad identifier\n",
    "- click: 0/1 for non-click/click\n",
    "- hour: format is YYMMDDHH, so 14091123 means 23:00 on Sept. 11, 2014 UTC.\n",
    "- C1 -- anonymized categorical variable\n",
    "- banner_pos\n",
    "- site_id\n",
    "- site_domain\n",
    "- site_category\n",
    "- app_id\n",
    "- app_domain\n",
    "- app_category\n",
    "- device_id\n",
    "- device_ip\n",
    "- device_model\n",
    "- device_type\n",
    "- device_conn_type\n",
    "- C14-C21\n",
    "\n",
    "\n",
    "__Target feature__: click\n",
    "\n",
    "__Site features__: site_id, site_domain, site_category\n",
    "\n",
    "__App features__: app_id, app_domain, app_category\n",
    "\n",
    "__Device feature__: device_id, device_ip, device_model, device_type, device_conn_type\n",
    "\n",
    "__Anonymized categorical features__: C14-C21\n",
    "\n",
    "\n",
    "\n",
    "## Evaluation\n",
    "---\n",
    "Click-through rate is a number, but we need to determine if the user is going to click or not so we will be predicting using classification models. Our evaluation metric will be logarithmic loss to determine how accurate the final model is. Log loss measures the performance of a classification model where the prediction input is a probability value between 0 and 1. The goal of the machine learning model is to minimize this value (error). Log loss takes into account the uncertainty of the prediction based on how much it varies from the actual label as it penalizes both types of errors especially those that are confident and wrong.\n",
    "\n",
    "#### Calculating log loss from scratch\n",
    "    def logloss(true_label, predicted, eps=1e-15):\n",
    "      p = np.clip(predicted, eps, 1 - eps)\n",
    "      if true_label == 1:\n",
    "        return -log(p)\n",
    "      else:\n",
    "        return -log(1 - p)\n",
    "        \n",
    "#### Sklearn\n",
    "    from sklearn.metrics import log_loss\n",
    "    log_loss(y_true, y_pred, eps=1e-15)\n",
    "\n",
    "#### Keras (Deep Learning)\n",
    "    model.compile(loss='categorical_cross_entropy', optimizer='sgd')\n",
    "\n",
    "## Modeling\n",
    "---\n",
    "\n",
    "### Benchmark Model\n",
    "TODO\n",
    "\n",
    "### Best Model\n",
    "TODO\n",
    "\n",
    "\n",
    "## Application\n",
    "---\n",
    "Apply machine learning models and analysis to design business strategy.\n",
    "\n",
    "\n",
    "## Overall Methodology\n",
    "----------\n",
    "I like to add this framework here so I can always go back to it and check if I need to work on a certain step or want to add more to it. I don't necessarily need to do every step.\n",
    "\n",
    "\n",
    "1. Framing the problem\n",
    "    - What are we trying to solve?\n",
    "    - Understand what's the problem here and ask questions\n",
    "    - What type of problem are we trying to solve?\n",
    "        - Classification, regression, etc.\n",
    "        - Types of algorithms specified for possible use         \n",
    "2. Collecting relevant information and data\n",
    "    - What type of data do we have?\n",
    "    - Can we use any complimentary data with that is public that will help our with our analysis/modeling?\n",
    "    - What other data requirements are there?\n",
    "    - What is considered a success for this problem?\n",
    "    - What libraries do we need?\n",
    "        - How do we know if our models are good?\n",
    "3. Process for analysis (preprocessing & cleaning)\n",
    "    - How does the data structure and distribution look like?\n",
    "    - Is the data usable right away?\n",
    "    - Can the data be plotted?\n",
    "    - What changes do we need in order to make the data usable if it's not already?\n",
    "    - This step is not really an isolated step as it can encompass exploratory, feature engineering + more\n",
    "4. Exploratory data analysis\n",
    "    - How does the data look like?\n",
    "    - Are there any patterns?\n",
    "        - Identify any summary statistics, plotting, counting, etc.\n",
    "    - Familiarize yourself with the data\n",
    "    - Basically the step to help you get to know the data better\n",
    "5. Feature engineering (applied machine learning)\n",
    "    - Can we create more data (features) that will be helpful for our models?\n",
    "    - \"... re-working of predictors is more of an art, requiring the right tools and experience to find better predictor representations\" - Max Kuhn\n",
    "6. Statistical analysis\n",
    "    - Univariate, bivariate, multivariate analysis\n",
    "        - Analysis of a single feature\n",
    "        - Analysis of two features and their relationships\n",
    "        - Analysis of data collected on more than one dependent variable and their relationships (PCA, PLS)\n",
    "7. Model development & scoring\n",
    "    - Splitting the data into train and test sets\n",
    "        - Always make sure you have a completely separate data to test your final model on after hyperparameter tuning and training has been done\n",
    "        - Think about your experimental design beforehand so that you minimize unrelated sources of variation and reduce as much data leakage (if any) as possible\n",
    "    - Normalizing the data to be on similar scales\n",
    "        - Normalization, standardization methods (Z-score, minmax, median)\n",
    "    - Create baseline, pre-tuned, and tuned models (includes cross-validation)\n",
    "        - Create easy to more complex models if needed (think about computational cost, complexity, explainability)\n",
    "    - Hyperparameter tuning\n",
    "    - Fit cross-validated tuned models using best hyperparameters\n",
    "    - Score model and get results\n",
    "8. Evaluation\n",
    "    - How accurate are the models?\n",
    "        - Are the models overfitting or underfitting?\n",
    "    - What evaluation metric are we using?\n",
    "    - Which features are important?\n",
    "    - Iterate steps if we are proceeding with specific features selected\n",
    "        - Dimensionality reduction methods (PCA, LDA) to see if we can reduce model complexity (this step can be before modeling as well)\n",
    "    - Is the final model good enough in terms of these questions:\n",
    "        - Accuracy: How many does it get right?\n",
    "        - Speed: How fast does it take for the model to deploy?\n",
    "        - Scalability: Can the model handle large datasets?\n",
    "        - Robustness: How well does the model handle outliers/missing values?\n",
    "        - Interpretability: Is the model easy to understand?\n",
    "9. Results\n",
    "    - What's our conclusion?\n",
    "    - What actions are we going to take?\n",
    "10. Ending notes\n",
    "    - Extra information that we may not go over like steps that we did not go into or missed\n",
    "        - Any other possible methods/solutions that we could look at in the future"
   ]
  },
  {
   "cell_type": "markdown",
   "metadata": {},
   "source": [
    "---\n",
    "---"
   ]
  },
  {
   "cell_type": "markdown",
   "metadata": {},
   "source": [
    "### Import libraries\n",
    "---"
   ]
  },
  {
   "cell_type": "code",
   "execution_count": 1,
   "metadata": {},
   "outputs": [
    {
     "data": {
      "image/png": "[encoded data removed]",
      "text/plain": [
       "<Figure size 432x72 with 1 Axes>"
      ]
     },
     "metadata": {
      "needs_background": "light"
     },
     "output_type": "display_data"
    }
   ],
   "source": [
    "# Toolbox 101\n",
    "from datetime import datetime, timedelta, date\n",
    "from tqdm import tqdm\n",
    "import pickle\n",
    "import gc\n",
    "import os\n",
    "import gzip\n",
    "import pandas as pd\n",
    "import pandas_profiling\n",
    "import numpy as np\n",
    "import random as rand\n",
    "import datetime as dt\n",
    "import time\n",
    "import seaborn as sns\n",
    "import matplotlib.pyplot as plt\n",
    "%matplotlib inline\n",
    "\n",
    "# import plotly.plotly as py\n",
    "import plotly.graph_objs as go # graph_objects in version 4 (currently have plotly v3 installed)\n",
    "import plotly.offline as pyoff\n",
    "import plotly.figure_factory as ff\n",
    "\n",
    "# Stats\n",
    "from scipy.stats import norm, skew\n",
    "from scipy.special import boxcox1p\n",
    "from scipy.stats import boxcox_normmax\n",
    "from scipy import stats\n",
    "import statsmodels.api as sm\n",
    "import statsmodels.formula.api as smf\n",
    "from statsmodels.stats.anova import anova_lm\n",
    "from statsmodels.stats import power\n",
    "\n",
    "# Models\n",
    "from sklearn.cluster import KMeans\n",
    "from sklearn.decomposition import PCA\n",
    "from sklearn.manifold import TSNE\n",
    "from sklearn.multioutput import MultiOutputClassifier\n",
    "from sklearn.ensemble import GradientBoostingClassifier\n",
    "from sklearn.tree import DecisionTreeClassifier\n",
    "from sklearn.neighbors import KNeighborsClassifier\n",
    "from sklearn.naive_bayes import GaussianNB\n",
    "from sklearn.ensemble import RandomForestClassifier\n",
    "from sklearn.linear_model import LogisticRegression\n",
    "from sklearn.svm import SVC, LinearSVC\n",
    "from catboost import CatBoostClassifier\n",
    "from xgboost import XGBRegressor, XGBClassifier, plot_importance, plot_tree\n",
    "import lightgbm as lgb\n",
    "\n",
    "# Evaluation\n",
    "from sklearn.utils import shuffle\n",
    "from sklearn.metrics import confusion_matrix, classification_report, make_scorer\n",
    "from sklearn.metrics import accuracy_score, recall_score, precision_recall_curve, auc\n",
    "from sklearn.metrics import roc_curve, roc_auc_score\n",
    "from sklearn.pipeline import make_pipeline\n",
    "from sklearn.pipeline import Pipeline\n",
    "from sklearn.preprocessing import OneHotEncoder\n",
    "from sklearn.preprocessing import LabelEncoder\n",
    "from sklearn.preprocessing import StandardScaler\n",
    "from sklearn.preprocessing import RobustScaler\n",
    "from sklearn.model_selection import train_test_split\n",
    "from sklearn.model_selection import GridSearchCV\n",
    "from sklearn.model_selection import RandomizedSearchCV\n",
    "from sklearn.model_selection import KFold, StratifiedKFold, RepeatedKFold\n",
    "from sklearn.model_selection import cross_val_score\n",
    "from sklearn.model_selection import learning_curve\n",
    "from sklearn.model_selection import cross_val_predict\n",
    "\n",
    "# Evaluation\n",
    "from sklearn.metrics import confusion_matrix, classification_report, make_scorer\n",
    "from sklearn.metrics import accuracy_score, recall_score, precision_recall_curve, roc_auc_score\n",
    "from sklearn.preprocessing import OneHotEncoder\n",
    "from sklearn.preprocessing import LabelEncoder\n",
    "from sklearn.preprocessing import StandardScaler\n",
    "from sklearn.model_selection import train_test_split, TimeSeriesSplit\n",
    "from sklearn.model_selection import GridSearchCV\n",
    "from sklearn.model_selection import RandomizedSearchCV\n",
    "from sklearn.model_selection import cross_val_score\n",
    "\n",
    "# Ignore useless warnings\n",
    "import warnings\n",
    "warnings.filterwarnings(action='ignore')\n",
    "\n",
    "# Preset data display\n",
    "pd.options.display.max_seq_items = 5000\n",
    "pd.options.display.max_rows = 5000\n",
    "\n",
    "# Set palette\n",
    "flatui = [\"#9b59b6\", \"#3498db\", \"#95a5a6\", \"#e74c3c\", \"#34495e\", \"#2ecc71\"]\n",
    "sns.set_palette(flatui)\n",
    "sns.palplot(sns.color_palette(flatui))\n",
    "# 34495e\n",
    "\n",
    "seed = 100"
   ]
  },
  {
   "cell_type": "markdown",
   "metadata": {},
   "source": [
    "### Helpers\n",
    "---"
   ]
  },
  {
   "cell_type": "code",
   "execution_count": 2,
   "metadata": {},
   "outputs": [],
   "source": [
    "def pct_bar_labels():\n",
    "    '''\n",
    "    Function used to label the relative frequency on top of each bars\n",
    "    '''\n",
    "    # Set font size\n",
    "    fs=15\n",
    "    \n",
    "    # Set plot label and ticks\n",
    "    plt.ylabel('Relative Frequency (%)', fontsize=fs)\n",
    "    plt.xticks(rotation=0, fontsize=fs)\n",
    "    plt.yticks([])\n",
    "    \n",
    "    # Set individual bar labels in proportional scale\n",
    "    for x in ax1.patches:\n",
    "        ax1.annotate(str(x.get_height()) + '%', \n",
    "        (x.get_x() + x.get_width()/2., x.get_height()), ha='center', va='center', xytext=(0, 7), \n",
    "        textcoords='offset points', fontsize=fs, color='black')\n",
    "\n",
    "def freq_table(var):\n",
    "    '''\n",
    "    Define plot global variables\n",
    "    Create a function that will populate a frequency table (%)\n",
    "    Get counts per feature then get the percentage over the total counts\n",
    "    '''\n",
    "    global ax, ax1\n",
    "    \n",
    "    # Get Values and pct and combine it into a dataframe\n",
    "    count_freq = var.value_counts()\n",
    "    pct_freq = round(var.value_counts(normalize=True)*100, 2)\n",
    "    \n",
    "    # Create a dataframe\n",
    "    df = pd.DataFrame({'Count': count_freq, 'Percentage': pct_freq})\n",
    "    \n",
    "    # Print variable name\n",
    "    print('Frequency of', var.name, ':')\n",
    "    display(df)\n",
    "    \n",
    "    # Create plot\n",
    "    ax1 = pct_freq.plot.bar(title='Percentage of {}'.format(var.name), figsize=(12,8))\n",
    "    ax1.title.set_size(15)\n",
    "    pct_bar_labels()\n",
    "    plt.show()\n",
    "    \n",
    "# Define a null function\n",
    "def get_nulls(df):\n",
    "    \n",
    "    # Get null pct and counts\n",
    "    null_cols = pd.DataFrame(df.isnull().sum().sort_values(ascending=False), columns=['Null Data Count'])\n",
    "    null_cols_pct = pd.DataFrame(round(df.isnull().sum().sort_values(ascending=False)/len(df),2), columns=['Null Data Pct'])\n",
    "\n",
    "    # Combine dataframes horizontally\n",
    "    null_cols_df = pd.DataFrame(pd.concat([null_cols, null_cols_pct], axis=1))\n",
    "\n",
    "    all_nulls = null_cols_df[null_cols_df['Null Data Pct']>0]\n",
    "\n",
    "    # Print\n",
    "    print('There are', len(all_nulls), 'columns with missing values.')\n",
    "    return all_nulls\n",
    "\n",
    "# Define plot_nulls function\n",
    "def plot_nulls(train):\n",
    "    # Get null pct and counts\n",
    "    null_cols = pd.DataFrame(train.isnull().sum().sort_values(ascending=False), columns=['Null Data Count'])\n",
    "    null_cols_pct = pd.DataFrame(round(train.isnull().sum().sort_values(ascending=False)/len(train),2)*100, columns=['Null Data %'])\n",
    "\n",
    "    # Combine horizontally (axis=1) into a dataframe with column names (keys=[]) then to a data frame\n",
    "    null_cols_df = pd.DataFrame(pd.concat([null_cols, null_cols_pct], axis=1))\n",
    "\n",
    "    all_nulls = null_cols_df[null_cols_df['Null Data %']>0]\n",
    "\n",
    "    # Create figure space\n",
    "    if len(all_nulls) > 8:\n",
    "        plt.figure(figsize=(12, 8))\n",
    "    elif len(all_nulls) > 5:\n",
    "        plt.figure(figsize=(6, 8))\n",
    "    else:\n",
    "        plt.figure(figsize=(4, 8))\n",
    "\n",
    "    # Create plot\n",
    "    sns.barplot(x=all_nulls.index,\n",
    "                y='Null Data %',\n",
    "                data=all_nulls)\n",
    "\n",
    "    # Set plot features\n",
    "    plt.ylim(0, 100)\n",
    "    plt.xticks(rotation='90')\n",
    "    plt.xlabel('Features', fontsize=15)\n",
    "    plt.ylabel('Percent of Missing Values', fontsize=15)\n",
    "    plt.title('Percent of Missing Data by Features', fontsize=15)\n",
    "    plt.show()\n",
    "    \n",
    "# Create a new function to capture feature importance for models\n",
    "def feature_importance(model):\n",
    "    \n",
    "    importance = pd.DataFrame({'Feature': headers,\n",
    "                               'Importance': np.round(model.feature_importances_,3)})\n",
    "    \n",
    "    importance = importance.sort_values(by = 'Importance', ascending = False).set_index('Feature')\n",
    "    \n",
    "    return importance\n",
    "\n",
    "# Reduce data size\n",
    "def reduce_mem_usage(df):\n",
    "    ''' \n",
    "    Iterate through all the columns of a dataframe and modify the data type\n",
    "    to reduce memory usage.        \n",
    "    '''\n",
    "    start_mem = df.memory_usage().sum() / 1024**2\n",
    "    print('Memory usage of dataframe is {:.2f} MB'.format(start_mem))\n",
    "    \n",
    "    # Loop through every column in the dataframe\n",
    "    for col in df.columns:\n",
    "        col_type = df[col].dtype\n",
    "        \n",
    "        # Objects\n",
    "        if col_type != object:\n",
    "            c_min = df[col].min()\n",
    "            c_max = df[col].max()\n",
    "            \n",
    "            # Numbers\n",
    "            if str(col_type)[:3] == 'int':\n",
    "                if c_min > np.iinfo(np.int8).min and c_max < np.iinfo(np.int8).max:\n",
    "                    df[col] = df[col].astype(np.int8)\n",
    "                elif c_min > np.iinfo(np.int16).min and c_max < np.iinfo(np.int16).max:\n",
    "                    df[col] = df[col].astype(np.int16)\n",
    "                elif c_min > np.iinfo(np.int32).min and c_max < np.iinfo(np.int32).max:\n",
    "                    df[col] = df[col].astype(np.int32)\n",
    "                elif c_min > np.iinfo(np.int64).min and c_max < np.iinfo(np.int64).max:\n",
    "                    df[col] = df[col].astype(np.int64)  \n",
    "            else:\n",
    "                if c_min > np.finfo(np.float16).min and c_max < np.finfo(np.float16).max:\n",
    "                    df[col] = df[col].astype(np.float16)\n",
    "                elif c_min > np.finfo(np.float32).min and c_max < np.finfo(np.float32).max:\n",
    "                    df[col] = df[col].astype(np.float32)\n",
    "                else:\n",
    "                    df[col] = df[col].astype(np.float64)\n",
    "        else:\n",
    "            df[col] = df[col].astype('category')\n",
    "\n",
    "    end_mem = df.memory_usage().sum() / 1024**2\n",
    "    print('Memory usage after optimization is: {:.2f} MB'.format(end_mem))\n",
    "    print('Decreased by {:.1f}%'.format(100 * (start_mem - end_mem) / start_mem))\n",
    "    \n",
    "    return df"
   ]
  },
  {
   "cell_type": "markdown",
   "metadata": {},
   "source": [
    "## Load data\n",
    "---"
   ]
  },
  {
   "cell_type": "code",
   "execution_count": 3,
   "metadata": {},
   "outputs": [
    {
     "data": {
      "text/plain": [
       "['18-online-retail.csv',\n",
       " '19-credit-card-defaults.csv',\n",
       " '28-test.csv',\n",
       " '28-train.csv',\n",
       " '29-data.csv',\n",
       " '37-ctr-train.gz']"
      ]
     },
     "execution_count": 3,
     "metadata": {},
     "output_type": "execute_result"
    }
   ],
   "source": [
    "os.listdir('LargeData')"
   ]
  },
  {
   "cell_type": "markdown",
   "metadata": {},
   "source": [
    "### Sample data\n",
    "Take a fraction of the data to explore versus the entire dataset for speed purposes.\n",
    "\n",
    "Method 1: Load the data to the specified amount of rows\n",
    "\n",
    "Method 2: Load the data and then take a fraction of the dataset."
   ]
  },
  {
   "cell_type": "code",
   "execution_count": 4,
   "metadata": {},
   "outputs": [
    {
     "name": "stdout",
     "output_type": "stream",
     "text": [
      "Total Entries: 40428967\n",
      "Sample Size: 500000\n"
     ]
    }
   ],
   "source": [
    "# Set number to sample\n",
    "n = 40428967\n",
    "sample_size = 500000\n",
    "skip_values = sorted(rand.sample(range(1, n), n-sample_size))\n",
    "\n",
    "print('Total Entries:', n)\n",
    "print('Sample Size:', sample_size)"
   ]
  },
  {
   "cell_type": "code",
   "execution_count": 5,
   "metadata": {},
   "outputs": [],
   "source": [
    "# Parse date\n",
    "parse_date = lambda x: pd.datetime.strptime(x, '%y%m%d%H')"
   ]
  },
  {
   "cell_type": "code",
   "execution_count": 6,
   "metadata": {},
   "outputs": [],
   "source": [
    "# Set data types\n",
    "types_train = {\n",
    "    'id': np.dtype(int),\n",
    "    'click': np.dtype(int),\n",
    "    'hour': np.dtype(int),\n",
    "    'C1': np.dtype(int),\n",
    "    'banner_pos': np.dtype(int),\n",
    "    'site_id': np.dtype(str),\n",
    "    'site_domain': np.dtype(str), \n",
    "    'site_category': np.dtype(str),\n",
    "    'app_id': np.dtype(str),\n",
    "    'app_domain': np.dtype(str),\n",
    "    'app_category': np.dtype(str),\n",
    "    'device_id': np.dtype(str),\n",
    "    'device_ip': np.dtype(str),\n",
    "    'device_model': np.dtype(str),\n",
    "    'device_type': np.dtype(int),\n",
    "    'device_conn_type': np.dtype(int),\n",
    "    'C14': np.dtype(int),\n",
    "    'C15': np.dtype(int),\n",
    "    'C16': np.dtype(int),\n",
    "    'C17': np.dtype(int),\n",
    "    'C18': np.dtype(int),\n",
    "    'C19': np.dtype(int),\n",
    "    'C20': np.dtype(int),\n",
    "    'C21': np.dtype(int)\n",
    "}\n",
    "\n",
    "types_test = {\n",
    "    'id': np.dtype(int),\n",
    "    'hour': np.dtype(int),\n",
    "    'C1': np.dtype(int),\n",
    "    'banner_pos': np.dtype(int),\n",
    "    'site_id': np.dtype(str),\n",
    "    'site_domain': np.dtype(str), \n",
    "    'site_category': np.dtype(str),\n",
    "    'app_id': np.dtype(str),\n",
    "    'app_domain': np.dtype(str),\n",
    "    'app_category': np.dtype(str),\n",
    "    'device_id': np.dtype(str),\n",
    "    'device_ip': np.dtype(str),\n",
    "    'device_model': np.dtype(str),\n",
    "    'device_type': np.dtype(int),\n",
    "    'device_conn_type': np.dtype(int),\n",
    "    'C14': np.dtype(int),\n",
    "    'C15': np.dtype(int),\n",
    "    'C16': np.dtype(int),\n",
    "    'C17': np.dtype(int),\n",
    "    'C18': np.dtype(int),\n",
    "    'C19': np.dtype(int),\n",
    "    'C20': np.dtype(int),\n",
    "    'C21': np.dtype(int)\n",
    "}"
   ]
  },
  {
   "cell_type": "code",
   "execution_count": 7,
   "metadata": {},
   "outputs": [],
   "source": [
    "# Load dataset (Method 1)\n",
    "with gzip.open('LargeData/37-ctr-train.gz') as f:\n",
    "    train = pd.read_csv(f, parse_dates=['hour'], date_parser=parse_date, dtype=types_train, skiprows=skip_values)"
   ]
  },
  {
   "cell_type": "code",
   "execution_count": 8,
   "metadata": {},
   "outputs": [
    {
     "data": {
      "text/html": [
       "<div>\n",
       "<style scoped>\n",
       "    .dataframe tbody tr th:only-of-type {\n",
       "        vertical-align: middle;\n",
       "    }\n",
       "\n",
       "    .dataframe tbody tr th {\n",
       "        vertical-align: top;\n",
       "    }\n",
       "\n",
       "    .dataframe thead th {\n",
       "        text-align: right;\n",
       "    }\n",
       "</style>\n",
       "<table border=\"1\" class=\"dataframe\">\n",
       "  <thead>\n",
       "    <tr style=\"text-align: right;\">\n",
       "      <th></th>\n",
       "      <th>id</th>\n",
       "      <th>click</th>\n",
       "      <th>hour</th>\n",
       "      <th>C1</th>\n",
       "      <th>banner_pos</th>\n",
       "      <th>site_id</th>\n",
       "      <th>site_domain</th>\n",
       "      <th>site_category</th>\n",
       "      <th>app_id</th>\n",
       "      <th>app_domain</th>\n",
       "      <th>...</th>\n",
       "      <th>device_type</th>\n",
       "      <th>device_conn_type</th>\n",
       "      <th>C14</th>\n",
       "      <th>C15</th>\n",
       "      <th>C16</th>\n",
       "      <th>C17</th>\n",
       "      <th>C18</th>\n",
       "      <th>C19</th>\n",
       "      <th>C20</th>\n",
       "      <th>C21</th>\n",
       "    </tr>\n",
       "  </thead>\n",
       "  <tbody>\n",
       "    <tr>\n",
       "      <th>0</th>\n",
       "      <td>1275849718</td>\n",
       "      <td>0</td>\n",
       "      <td>2014-10-21</td>\n",
       "      <td>1005</td>\n",
       "      <td>0</td>\n",
       "      <td>5b08c53b</td>\n",
       "      <td>7687a86e</td>\n",
       "      <td>3e814130</td>\n",
       "      <td>ecad2386</td>\n",
       "      <td>7801e8d9</td>\n",
       "      <td>...</td>\n",
       "      <td>1</td>\n",
       "      <td>0</td>\n",
       "      <td>17654</td>\n",
       "      <td>300</td>\n",
       "      <td>250</td>\n",
       "      <td>1994</td>\n",
       "      <td>2</td>\n",
       "      <td>39</td>\n",
       "      <td>-1</td>\n",
       "      <td>33</td>\n",
       "    </tr>\n",
       "    <tr>\n",
       "      <th>1</th>\n",
       "      <td>586388666</td>\n",
       "      <td>0</td>\n",
       "      <td>2014-10-21</td>\n",
       "      <td>1005</td>\n",
       "      <td>0</td>\n",
       "      <td>85f751fd</td>\n",
       "      <td>c4e18dd6</td>\n",
       "      <td>50e219e0</td>\n",
       "      <td>e2fcccd2</td>\n",
       "      <td>5c5a694b</td>\n",
       "      <td>...</td>\n",
       "      <td>1</td>\n",
       "      <td>0</td>\n",
       "      <td>4687</td>\n",
       "      <td>320</td>\n",
       "      <td>50</td>\n",
       "      <td>423</td>\n",
       "      <td>2</td>\n",
       "      <td>39</td>\n",
       "      <td>100148</td>\n",
       "      <td>32</td>\n",
       "    </tr>\n",
       "    <tr>\n",
       "      <th>2</th>\n",
       "      <td>762526870</td>\n",
       "      <td>0</td>\n",
       "      <td>2014-10-21</td>\n",
       "      <td>1010</td>\n",
       "      <td>1</td>\n",
       "      <td>85f751fd</td>\n",
       "      <td>c4e18dd6</td>\n",
       "      <td>50e219e0</td>\n",
       "      <td>ffc6ffd0</td>\n",
       "      <td>7801e8d9</td>\n",
       "      <td>...</td>\n",
       "      <td>4</td>\n",
       "      <td>0</td>\n",
       "      <td>21665</td>\n",
       "      <td>320</td>\n",
       "      <td>50</td>\n",
       "      <td>2493</td>\n",
       "      <td>3</td>\n",
       "      <td>35</td>\n",
       "      <td>100050</td>\n",
       "      <td>117</td>\n",
       "    </tr>\n",
       "    <tr>\n",
       "      <th>3</th>\n",
       "      <td>-1928484824</td>\n",
       "      <td>0</td>\n",
       "      <td>2014-10-21</td>\n",
       "      <td>1005</td>\n",
       "      <td>0</td>\n",
       "      <td>1fbe01fe</td>\n",
       "      <td>f3845767</td>\n",
       "      <td>28905ebd</td>\n",
       "      <td>ecad2386</td>\n",
       "      <td>7801e8d9</td>\n",
       "      <td>...</td>\n",
       "      <td>1</td>\n",
       "      <td>0</td>\n",
       "      <td>15704</td>\n",
       "      <td>320</td>\n",
       "      <td>50</td>\n",
       "      <td>1722</td>\n",
       "      <td>0</td>\n",
       "      <td>35</td>\n",
       "      <td>-1</td>\n",
       "      <td>79</td>\n",
       "    </tr>\n",
       "    <tr>\n",
       "      <th>4</th>\n",
       "      <td>-1368186722</td>\n",
       "      <td>1</td>\n",
       "      <td>2014-10-21</td>\n",
       "      <td>1005</td>\n",
       "      <td>0</td>\n",
       "      <td>1fbe01fe</td>\n",
       "      <td>f3845767</td>\n",
       "      <td>28905ebd</td>\n",
       "      <td>ecad2386</td>\n",
       "      <td>7801e8d9</td>\n",
       "      <td>...</td>\n",
       "      <td>1</td>\n",
       "      <td>0</td>\n",
       "      <td>15708</td>\n",
       "      <td>320</td>\n",
       "      <td>50</td>\n",
       "      <td>1722</td>\n",
       "      <td>0</td>\n",
       "      <td>35</td>\n",
       "      <td>100084</td>\n",
       "      <td>79</td>\n",
       "    </tr>\n",
       "  </tbody>\n",
       "</table>\n",
       "<p>5 rows × 24 columns</p>\n",
       "</div>"
      ],
      "text/plain": [
       "           id  click       hour    C1  banner_pos   site_id site_domain  \\\n",
       "0  1275849718      0 2014-10-21  1005           0  5b08c53b    7687a86e   \n",
       "1   586388666      0 2014-10-21  1005           0  85f751fd    c4e18dd6   \n",
       "2   762526870      0 2014-10-21  1010           1  85f751fd    c4e18dd6   \n",
       "3 -1928484824      0 2014-10-21  1005           0  1fbe01fe    f3845767   \n",
       "4 -1368186722      1 2014-10-21  1005           0  1fbe01fe    f3845767   \n",
       "\n",
       "  site_category    app_id app_domain  ... device_type device_conn_type    C14  \\\n",
       "0      3e814130  ecad2386   7801e8d9  ...           1                0  17654   \n",
       "1      50e219e0  e2fcccd2   5c5a694b  ...           1                0   4687   \n",
       "2      50e219e0  ffc6ffd0   7801e8d9  ...           4                0  21665   \n",
       "3      28905ebd  ecad2386   7801e8d9  ...           1                0  15704   \n",
       "4      28905ebd  ecad2386   7801e8d9  ...           1                0  15708   \n",
       "\n",
       "   C15  C16   C17  C18  C19     C20  C21  \n",
       "0  300  250  1994    2   39      -1   33  \n",
       "1  320   50   423    2   39  100148   32  \n",
       "2  320   50  2493    3   35  100050  117  \n",
       "3  320   50  1722    0   35      -1   79  \n",
       "4  320   50  1722    0   35  100084   79  \n",
       "\n",
       "[5 rows x 24 columns]"
      ]
     },
     "execution_count": 8,
     "metadata": {},
     "output_type": "execute_result"
    }
   ],
   "source": [
    "train.head()"
   ]
  },
  {
   "cell_type": "code",
   "execution_count": 9,
   "metadata": {},
   "outputs": [
    {
     "name": "stdout",
     "output_type": "stream",
     "text": [
      "Train dataset has 500000 rows and 24 columns.\n"
     ]
    }
   ],
   "source": [
    "print(f'Train dataset has {train.shape[0]} rows and {train.shape[1]} columns.')"
   ]
  },
  {
   "cell_type": "code",
   "execution_count": 10,
   "metadata": {},
   "outputs": [
    {
     "data": {
      "text/html": [
       "<div>\n",
       "<style scoped>\n",
       "    .dataframe tbody tr th:only-of-type {\n",
       "        vertical-align: middle;\n",
       "    }\n",
       "\n",
       "    .dataframe tbody tr th {\n",
       "        vertical-align: top;\n",
       "    }\n",
       "\n",
       "    .dataframe thead th {\n",
       "        text-align: right;\n",
       "    }\n",
       "</style>\n",
       "<table border=\"1\" class=\"dataframe\">\n",
       "  <thead>\n",
       "    <tr style=\"text-align: right;\">\n",
       "      <th></th>\n",
       "      <th>id</th>\n",
       "      <th>click</th>\n",
       "      <th>C1</th>\n",
       "      <th>banner_pos</th>\n",
       "      <th>device_type</th>\n",
       "      <th>device_conn_type</th>\n",
       "      <th>C14</th>\n",
       "      <th>C15</th>\n",
       "      <th>C16</th>\n",
       "      <th>C17</th>\n",
       "      <th>C18</th>\n",
       "      <th>C19</th>\n",
       "      <th>C20</th>\n",
       "      <th>C21</th>\n",
       "    </tr>\n",
       "  </thead>\n",
       "  <tbody>\n",
       "    <tr>\n",
       "      <th>count</th>\n",
       "      <td>5.000000e+05</td>\n",
       "      <td>500000.000000</td>\n",
       "      <td>500000.000000</td>\n",
       "      <td>500000.000000</td>\n",
       "      <td>500000.000000</td>\n",
       "      <td>500000.000000</td>\n",
       "      <td>500000.000000</td>\n",
       "      <td>500000.000000</td>\n",
       "      <td>500000.000000</td>\n",
       "      <td>500000.000000</td>\n",
       "      <td>500000.000000</td>\n",
       "      <td>500000.000000</td>\n",
       "      <td>500000.000000</td>\n",
       "      <td>500000.000000</td>\n",
       "    </tr>\n",
       "    <tr>\n",
       "      <th>mean</th>\n",
       "      <td>3.852425e+06</td>\n",
       "      <td>0.169438</td>\n",
       "      <td>1004.970958</td>\n",
       "      <td>0.289144</td>\n",
       "      <td>1.017072</td>\n",
       "      <td>0.331382</td>\n",
       "      <td>18840.588318</td>\n",
       "      <td>318.896648</td>\n",
       "      <td>60.188640</td>\n",
       "      <td>2112.421310</td>\n",
       "      <td>1.434198</td>\n",
       "      <td>227.039438</td>\n",
       "      <td>53335.411704</td>\n",
       "      <td>83.241698</td>\n",
       "    </tr>\n",
       "    <tr>\n",
       "      <th>std</th>\n",
       "      <td>1.238994e+09</td>\n",
       "      <td>0.375139</td>\n",
       "      <td>1.097171</td>\n",
       "      <td>0.509741</td>\n",
       "      <td>0.531226</td>\n",
       "      <td>0.854523</td>\n",
       "      <td>4967.234784</td>\n",
       "      <td>21.374683</td>\n",
       "      <td>47.682536</td>\n",
       "      <td>610.143239</td>\n",
       "      <td>1.325823</td>\n",
       "      <td>351.057948</td>\n",
       "      <td>49949.201708</td>\n",
       "      <td>70.257315</td>\n",
       "    </tr>\n",
       "    <tr>\n",
       "      <th>min</th>\n",
       "      <td>-2.147471e+09</td>\n",
       "      <td>0.000000</td>\n",
       "      <td>1001.000000</td>\n",
       "      <td>0.000000</td>\n",
       "      <td>0.000000</td>\n",
       "      <td>0.000000</td>\n",
       "      <td>375.000000</td>\n",
       "      <td>120.000000</td>\n",
       "      <td>20.000000</td>\n",
       "      <td>112.000000</td>\n",
       "      <td>0.000000</td>\n",
       "      <td>33.000000</td>\n",
       "      <td>-1.000000</td>\n",
       "      <td>1.000000</td>\n",
       "    </tr>\n",
       "    <tr>\n",
       "      <th>25%</th>\n",
       "      <td>-1.067373e+09</td>\n",
       "      <td>0.000000</td>\n",
       "      <td>1005.000000</td>\n",
       "      <td>0.000000</td>\n",
       "      <td>1.000000</td>\n",
       "      <td>0.000000</td>\n",
       "      <td>16920.000000</td>\n",
       "      <td>320.000000</td>\n",
       "      <td>50.000000</td>\n",
       "      <td>1863.000000</td>\n",
       "      <td>0.000000</td>\n",
       "      <td>35.000000</td>\n",
       "      <td>-1.000000</td>\n",
       "      <td>23.000000</td>\n",
       "    </tr>\n",
       "    <tr>\n",
       "      <th>50%</th>\n",
       "      <td>3.649651e+06</td>\n",
       "      <td>0.000000</td>\n",
       "      <td>1005.000000</td>\n",
       "      <td>0.000000</td>\n",
       "      <td>1.000000</td>\n",
       "      <td>0.000000</td>\n",
       "      <td>20346.000000</td>\n",
       "      <td>320.000000</td>\n",
       "      <td>50.000000</td>\n",
       "      <td>2323.000000</td>\n",
       "      <td>2.000000</td>\n",
       "      <td>39.000000</td>\n",
       "      <td>100050.000000</td>\n",
       "      <td>61.000000</td>\n",
       "    </tr>\n",
       "    <tr>\n",
       "      <th>75%</th>\n",
       "      <td>1.077748e+09</td>\n",
       "      <td>0.000000</td>\n",
       "      <td>1005.000000</td>\n",
       "      <td>1.000000</td>\n",
       "      <td>1.000000</td>\n",
       "      <td>0.000000</td>\n",
       "      <td>21894.000000</td>\n",
       "      <td>320.000000</td>\n",
       "      <td>50.000000</td>\n",
       "      <td>2526.000000</td>\n",
       "      <td>3.000000</td>\n",
       "      <td>171.000000</td>\n",
       "      <td>100094.000000</td>\n",
       "      <td>101.000000</td>\n",
       "    </tr>\n",
       "    <tr>\n",
       "      <th>max</th>\n",
       "      <td>2.147477e+09</td>\n",
       "      <td>1.000000</td>\n",
       "      <td>1012.000000</td>\n",
       "      <td>7.000000</td>\n",
       "      <td>5.000000</td>\n",
       "      <td>5.000000</td>\n",
       "      <td>24043.000000</td>\n",
       "      <td>1024.000000</td>\n",
       "      <td>1024.000000</td>\n",
       "      <td>2757.000000</td>\n",
       "      <td>3.000000</td>\n",
       "      <td>1839.000000</td>\n",
       "      <td>100248.000000</td>\n",
       "      <td>255.000000</td>\n",
       "    </tr>\n",
       "  </tbody>\n",
       "</table>\n",
       "</div>"
      ],
      "text/plain": [
       "                 id          click             C1     banner_pos  \\\n",
       "count  5.000000e+05  500000.000000  500000.000000  500000.000000   \n",
       "mean   3.852425e+06       0.169438    1004.970958       0.289144   \n",
       "std    1.238994e+09       0.375139       1.097171       0.509741   \n",
       "min   -2.147471e+09       0.000000    1001.000000       0.000000   \n",
       "25%   -1.067373e+09       0.000000    1005.000000       0.000000   \n",
       "50%    3.649651e+06       0.000000    1005.000000       0.000000   \n",
       "75%    1.077748e+09       0.000000    1005.000000       1.000000   \n",
       "max    2.147477e+09       1.000000    1012.000000       7.000000   \n",
       "\n",
       "         device_type  device_conn_type            C14            C15  \\\n",
       "count  500000.000000     500000.000000  500000.000000  500000.000000   \n",
       "mean        1.017072          0.331382   18840.588318     318.896648   \n",
       "std         0.531226          0.854523    4967.234784      21.374683   \n",
       "min         0.000000          0.000000     375.000000     120.000000   \n",
       "25%         1.000000          0.000000   16920.000000     320.000000   \n",
       "50%         1.000000          0.000000   20346.000000     320.000000   \n",
       "75%         1.000000          0.000000   21894.000000     320.000000   \n",
       "max         5.000000          5.000000   24043.000000    1024.000000   \n",
       "\n",
       "                 C16            C17            C18            C19  \\\n",
       "count  500000.000000  500000.000000  500000.000000  500000.000000   \n",
       "mean       60.188640    2112.421310       1.434198     227.039438   \n",
       "std        47.682536     610.143239       1.325823     351.057948   \n",
       "min        20.000000     112.000000       0.000000      33.000000   \n",
       "25%        50.000000    1863.000000       0.000000      35.000000   \n",
       "50%        50.000000    2323.000000       2.000000      39.000000   \n",
       "75%        50.000000    2526.000000       3.000000     171.000000   \n",
       "max      1024.000000    2757.000000       3.000000    1839.000000   \n",
       "\n",
       "                 C20            C21  \n",
       "count  500000.000000  500000.000000  \n",
       "mean    53335.411704      83.241698  \n",
       "std     49949.201708      70.257315  \n",
       "min        -1.000000       1.000000  \n",
       "25%        -1.000000      23.000000  \n",
       "50%    100050.000000      61.000000  \n",
       "75%    100094.000000     101.000000  \n",
       "max    100248.000000     255.000000  "
      ]
     },
     "execution_count": 10,
     "metadata": {},
     "output_type": "execute_result"
    }
   ],
   "source": [
    "train.describe()"
   ]
  },
  {
   "cell_type": "code",
   "execution_count": 11,
   "metadata": {},
   "outputs": [
    {
     "name": "stdout",
     "output_type": "stream",
     "text": [
      "<class 'pandas.core.frame.DataFrame'>\n",
      "RangeIndex: 500000 entries, 0 to 499999\n",
      "Data columns (total 24 columns):\n",
      "id                  500000 non-null int32\n",
      "click               500000 non-null int32\n",
      "hour                500000 non-null datetime64[ns]\n",
      "C1                  500000 non-null int32\n",
      "banner_pos          500000 non-null int32\n",
      "site_id             500000 non-null object\n",
      "site_domain         500000 non-null object\n",
      "site_category       500000 non-null object\n",
      "app_id              500000 non-null object\n",
      "app_domain          500000 non-null object\n",
      "app_category        500000 non-null object\n",
      "device_id           500000 non-null object\n",
      "device_ip           500000 non-null object\n",
      "device_model        500000 non-null object\n",
      "device_type         500000 non-null int32\n",
      "device_conn_type    500000 non-null int32\n",
      "C14                 500000 non-null int32\n",
      "C15                 500000 non-null int32\n",
      "C16                 500000 non-null int32\n",
      "C17                 500000 non-null int32\n",
      "C18                 500000 non-null int32\n",
      "C19                 500000 non-null int32\n",
      "C20                 500000 non-null int32\n",
      "C21                 500000 non-null int32\n",
      "dtypes: datetime64[ns](1), int32(14), object(9)\n",
      "memory usage: 64.8+ MB\n"
     ]
    }
   ],
   "source": [
    "train.info()"
   ]
  },
  {
   "cell_type": "markdown",
   "metadata": {},
   "source": [
    "### Target"
   ]
  },
  {
   "cell_type": "code",
   "execution_count": 12,
   "metadata": {},
   "outputs": [
    {
     "data": {
      "image/png": "[encoded data removed]",
      "text/plain": [
       "<Figure size 432x288 with 1 Axes>"
      ]
     },
     "metadata": {
      "needs_background": "light"
     },
     "output_type": "display_data"
    }
   ],
   "source": [
    "sns.countplot(x='click',\n",
    "              data=train,\n",
    "              palette='hls'\n",
    "            )\n",
    "plt.show()"
   ]
  },
  {
   "cell_type": "code",
   "execution_count": 13,
   "metadata": {},
   "outputs": [
    {
     "name": "stdout",
     "output_type": "stream",
     "text": [
      "Frequency of click :\n"
     ]
    },
    {
     "data": {
      "text/html": [
       "<div>\n",
       "<style scoped>\n",
       "    .dataframe tbody tr th:only-of-type {\n",
       "        vertical-align: middle;\n",
       "    }\n",
       "\n",
       "    .dataframe tbody tr th {\n",
       "        vertical-align: top;\n",
       "    }\n",
       "\n",
       "    .dataframe thead th {\n",
       "        text-align: right;\n",
       "    }\n",
       "</style>\n",
       "<table border=\"1\" class=\"dataframe\">\n",
       "  <thead>\n",
       "    <tr style=\"text-align: right;\">\n",
       "      <th></th>\n",
       "      <th>Count</th>\n",
       "      <th>Percentage</th>\n",
       "    </tr>\n",
       "  </thead>\n",
       "  <tbody>\n",
       "    <tr>\n",
       "      <th>0</th>\n",
       "      <td>415281</td>\n",
       "      <td>83.06</td>\n",
       "    </tr>\n",
       "    <tr>\n",
       "      <th>1</th>\n",
       "      <td>84719</td>\n",
       "      <td>16.94</td>\n",
       "    </tr>\n",
       "  </tbody>\n",
       "</table>\n",
       "</div>"
      ],
      "text/plain": [
       "    Count  Percentage\n",
       "0  415281       83.06\n",
       "1   84719       16.94"
      ]
     },
     "metadata": {},
     "output_type": "display_data"
    },
    {
     "data": {
      "image/png": "[encoded data removed]",
      "text/plain": [
       "<Figure size 864x576 with 1 Axes>"
      ]
     },
     "metadata": {
      "needs_background": "light"
     },
     "output_type": "display_data"
    }
   ],
   "source": [
    "freq_table(train.click) # train.click.value_counts(normalize=True)"
   ]
  },
  {
   "cell_type": "markdown",
   "metadata": {},
   "source": [
    "### What are popular click hours?"
   ]
  },
  {
   "cell_type": "code",
   "execution_count": 14,
   "metadata": {},
   "outputs": [
    {
     "data": {
      "image/png": "[encoded data removed]",
      "text/plain": [
       "<Figure size 1080x360 with 1 Axes>"
      ]
     },
     "metadata": {
      "needs_background": "light"
     },
     "output_type": "display_data"
    }
   ],
   "source": [
    "# Group by\n",
    "train.groupby('hour').agg({'click': 'sum'}).plot(figsize=(15, 5))\n",
    "\n",
    "# Set plot features\n",
    "plt.ylabel('# of Clicks')\n",
    "plt.title('# of Clicks by Hour')\n",
    "plt.show()"
   ]
  },
  {
   "cell_type": "markdown",
   "metadata": {},
   "source": [
    "There looks to be a cyclical pattern with peaks and lows during certain hours. From the plot above, the peaks seem to be in the middle of each hour indicating 12PM and with extreme lows around midnight.\n",
    "- Users are most active around noon\n",
    "- Users are not active around midnight\n",
    "    - Are there any Ads being shown during this time?\n",
    "- If Ads are evenly shown throughout the day, reduce costs by showing them more often during 9AM to 9PM (guessing the timeframe)."
   ]
  },
  {
   "cell_type": "markdown",
   "metadata": {},
   "source": [
    "### Hour feature"
   ]
  },
  {
   "cell_type": "code",
   "execution_count": 15,
   "metadata": {},
   "outputs": [
    {
     "data": {
      "image/png": "[encoded data removed]",
      "text/plain": [
       "<Figure size 1080x360 with 1 Axes>"
      ]
     },
     "metadata": {
      "needs_background": "light"
     },
     "output_type": "display_data"
    }
   ],
   "source": [
    "train['hour_of_day'] = train.hour.apply(lambda x: x.hour)\n",
    "train.groupby('hour_of_day').agg({'click': 'sum'}).plot(figsize=(15, 5), marker='o') # linestyle='--', color='r'\n",
    "\n",
    "# Set plot features\n",
    "plt.xlim(0, 24)\n",
    "plt.ylabel('# of Clicks')\n",
    "plt.title('# of Clicks by Hour')\n",
    "# plt.tight_layout()\n",
    "plt.show()"
   ]
  },
  {
   "cell_type": "markdown",
   "metadata": {},
   "source": [
    "My initial observations earlier looks to be just about right.The highest number of clicks is at hour 13 and 14 (1PM and 2PM), and the lowest number of clicks is at hour 0 (midnight). This can be a useful feature for rough estimation.\n",
    "\n",
    "Instead of 9AM through 9PM, change the Ads to show more often between 4AM through 7PM."
   ]
  },
  {
   "cell_type": "markdown",
   "metadata": {},
   "source": [
    "### Impressions"
   ]
  },
  {
   "cell_type": "code",
   "execution_count": 16,
   "metadata": {},
   "outputs": [
    {
     "data": {
      "text/html": [
       "<div>\n",
       "<style scoped>\n",
       "    .dataframe tbody tr th:only-of-type {\n",
       "        vertical-align: middle;\n",
       "    }\n",
       "\n",
       "    .dataframe tbody tr th {\n",
       "        vertical-align: top;\n",
       "    }\n",
       "\n",
       "    .dataframe thead th {\n",
       "        text-align: right;\n",
       "    }\n",
       "</style>\n",
       "<table border=\"1\" class=\"dataframe\">\n",
       "  <thead>\n",
       "    <tr style=\"text-align: right;\">\n",
       "      <th>click</th>\n",
       "      <th>0</th>\n",
       "      <th>1</th>\n",
       "    </tr>\n",
       "    <tr>\n",
       "      <th>hour_of_day</th>\n",
       "      <th></th>\n",
       "      <th></th>\n",
       "    </tr>\n",
       "  </thead>\n",
       "  <tbody>\n",
       "    <tr>\n",
       "      <th>0</th>\n",
       "      <td>8665</td>\n",
       "      <td>1846</td>\n",
       "    </tr>\n",
       "    <tr>\n",
       "      <th>1</th>\n",
       "      <td>9826</td>\n",
       "      <td>2313</td>\n",
       "    </tr>\n",
       "    <tr>\n",
       "      <th>2</th>\n",
       "      <td>12532</td>\n",
       "      <td>2559</td>\n",
       "    </tr>\n",
       "    <tr>\n",
       "      <th>3</th>\n",
       "      <td>14654</td>\n",
       "      <td>2977</td>\n",
       "    </tr>\n",
       "    <tr>\n",
       "      <th>4</th>\n",
       "      <td>19791</td>\n",
       "      <td>3723</td>\n",
       "    </tr>\n",
       "    <tr>\n",
       "      <th>5</th>\n",
       "      <td>20261</td>\n",
       "      <td>3985</td>\n",
       "    </tr>\n",
       "    <tr>\n",
       "      <th>6</th>\n",
       "      <td>17960</td>\n",
       "      <td>3682</td>\n",
       "    </tr>\n",
       "    <tr>\n",
       "      <th>7</th>\n",
       "      <td>18908</td>\n",
       "      <td>4085</td>\n",
       "    </tr>\n",
       "    <tr>\n",
       "      <th>8</th>\n",
       "      <td>21883</td>\n",
       "      <td>4245</td>\n",
       "    </tr>\n",
       "    <tr>\n",
       "      <th>9</th>\n",
       "      <td>23674</td>\n",
       "      <td>4463</td>\n",
       "    </tr>\n",
       "    <tr>\n",
       "      <th>10</th>\n",
       "      <td>22390</td>\n",
       "      <td>4334</td>\n",
       "    </tr>\n",
       "    <tr>\n",
       "      <th>11</th>\n",
       "      <td>21126</td>\n",
       "      <td>4297</td>\n",
       "    </tr>\n",
       "    <tr>\n",
       "      <th>12</th>\n",
       "      <td>22710</td>\n",
       "      <td>4622</td>\n",
       "    </tr>\n",
       "    <tr>\n",
       "      <th>13</th>\n",
       "      <td>24462</td>\n",
       "      <td>4991</td>\n",
       "    </tr>\n",
       "    <tr>\n",
       "      <th>14</th>\n",
       "      <td>22607</td>\n",
       "      <td>4901</td>\n",
       "    </tr>\n",
       "    <tr>\n",
       "      <th>15</th>\n",
       "      <td>20750</td>\n",
       "      <td>4740</td>\n",
       "    </tr>\n",
       "    <tr>\n",
       "      <th>16</th>\n",
       "      <td>20997</td>\n",
       "      <td>4504</td>\n",
       "    </tr>\n",
       "    <tr>\n",
       "      <th>17</th>\n",
       "      <td>20652</td>\n",
       "      <td>4315</td>\n",
       "    </tr>\n",
       "    <tr>\n",
       "      <th>18</th>\n",
       "      <td>18191</td>\n",
       "      <td>3613</td>\n",
       "    </tr>\n",
       "    <tr>\n",
       "      <th>19</th>\n",
       "      <td>13678</td>\n",
       "      <td>2633</td>\n",
       "    </tr>\n",
       "    <tr>\n",
       "      <th>20</th>\n",
       "      <td>11556</td>\n",
       "      <td>2332</td>\n",
       "    </tr>\n",
       "    <tr>\n",
       "      <th>21</th>\n",
       "      <td>10263</td>\n",
       "      <td>1998</td>\n",
       "    </tr>\n",
       "    <tr>\n",
       "      <th>22</th>\n",
       "      <td>9398</td>\n",
       "      <td>1816</td>\n",
       "    </tr>\n",
       "    <tr>\n",
       "      <th>23</th>\n",
       "      <td>8347</td>\n",
       "      <td>1745</td>\n",
       "    </tr>\n",
       "  </tbody>\n",
       "</table>\n",
       "</div>"
      ],
      "text/plain": [
       "click            0     1\n",
       "hour_of_day             \n",
       "0             8665  1846\n",
       "1             9826  2313\n",
       "2            12532  2559\n",
       "3            14654  2977\n",
       "4            19791  3723\n",
       "5            20261  3985\n",
       "6            17960  3682\n",
       "7            18908  4085\n",
       "8            21883  4245\n",
       "9            23674  4463\n",
       "10           22390  4334\n",
       "11           21126  4297\n",
       "12           22710  4622\n",
       "13           24462  4991\n",
       "14           22607  4901\n",
       "15           20750  4740\n",
       "16           20997  4504\n",
       "17           20652  4315\n",
       "18           18191  3613\n",
       "19           13678  2633\n",
       "20           11556  2332\n",
       "21           10263  1998\n",
       "22            9398  1816\n",
       "23            8347  1745"
      ]
     },
     "execution_count": 16,
     "metadata": {},
     "output_type": "execute_result"
    }
   ],
   "source": [
    "train.groupby(['hour_of_day', 'click']).size().unstack()"
   ]
  },
  {
   "cell_type": "code",
   "execution_count": 17,
   "metadata": {},
   "outputs": [
    {
     "data": {
      "image/png": "[encoded data removed]",
      "text/plain": [
       "<Figure size 1080x360 with 1 Axes>"
      ]
     },
     "metadata": {
      "needs_background": "light"
     },
     "output_type": "display_data"
    }
   ],
   "source": [
    "train.groupby(['hour_of_day', 'click']).size().unstack().plot(kind='bar', figsize=(15,5))\n",
    "\n",
    "# Set plot features\n",
    "plt.title('Hourly Impressions')\n",
    "plt.ylabel('Count')\n",
    "plt.xlabel('Hour')\n",
    "plt.show()"
   ]
  },
  {
   "cell_type": "markdown",
   "metadata": {},
   "source": [
    "### Click through rate"
   ]
  },
  {
   "cell_type": "code",
   "execution_count": 18,
   "metadata": {},
   "outputs": [],
   "source": [
    "# Get click data\n",
    "ctr_df = train[train['click']==1]\n",
    "\n",
    "# Create new df to store clicks\n",
    "hour_df = train[['hour_of_day', 'click']].groupby(['hour_of_day']).count().reset_index()\n",
    "hour_df = hour_df.rename(columns={'click': 'Impressions'})\n",
    "hour_df['clicks'] = ctr_df[['hour_of_day', 'click']].groupby(['hour_of_day']).count().reset_index()['click']\n",
    "\n",
    "# Calculate CTR \n",
    "hour_df['CTR'] = (hour_df['clicks'] / hour_df['Impressions']) * 100"
   ]
  },
  {
   "cell_type": "code",
   "execution_count": 19,
   "metadata": {},
   "outputs": [
    {
     "data": {
      "image/png": "[encoded data removed]",
      "text/plain": [
       "<Figure size 1080x504 with 1 Axes>"
      ]
     },
     "metadata": {
      "needs_background": "light"
     },
     "output_type": "display_data"
    }
   ],
   "source": [
    "# Set figure size\n",
    "plt.figure(figsize=(15,7))\n",
    "\n",
    "# Barplot\n",
    "sns.barplot(y='CTR',\n",
    "            x='hour_of_day',\n",
    "            data=hour_df)\n",
    "\n",
    "# Set plot features\n",
    "plt.title('Hourly CTR')\n",
    "plt.show()"
   ]
  },
  {
   "cell_type": "markdown",
   "metadata": {},
   "source": [
    "Although it's indicated that clicks were lowest around midnight and highest around noon, an interesting observation here is that the high CTR (> 17%) happened at hours 0, 1, 2, 7, 14, 15, and 16. We should make an effort to figure out why there are discrepancies between the clicks and impressions.\n",
    "\n",
    "We want to figure out the what are user affinities per hour to better segment and optimize marketing resources.\n",
    "- Are higher valued users around those higher CTR times? \n",
    "- Are we showing Ads inefficiently?\n",
    "- What's ROI of the current marketing initiative?"
   ]
  },
  {
   "cell_type": "markdown",
   "metadata": {},
   "source": [
    "### Clicks by Day"
   ]
  },
  {
   "cell_type": "code",
   "execution_count": 20,
   "metadata": {},
   "outputs": [
    {
     "data": {
      "image/png": "[encoded data removed]",
      "text/plain": [
       "<Figure size 1296x432 with 1 Axes>"
      ]
     },
     "metadata": {
      "needs_background": "light"
     },
     "output_type": "display_data"
    }
   ],
   "source": [
    "# Get day of week feature\n",
    "train['day_of_week'] = train['hour'].apply(lambda x: x.weekday_name)\n",
    "\n",
    "# Names\n",
    "day_names = ['Monday', 'Tuesday', 'Wednesday', 'Thursday', 'Friday', 'Saturday', 'Sunday']\n",
    "\n",
    "# Group\n",
    "train.groupby('day_of_week').agg({'click': 'sum'}).reindex(day_names).plot(figsize=(18,6))\n",
    "\n",
    "# Set plot features\n",
    "ticks = list(range(0, 7 ,1))\n",
    "labels = ['Mon', 'Tue', 'Wed', 'Thu', 'Fri', 'Sat', 'Sun']\n",
    "plt.xticks(ticks, labels)\n",
    "plt.xlabel('')\n",
    "plt.title('Click Trend by Day of Week')\n",
    "plt.show()\n"
   ]
  },
  {
   "cell_type": "code",
   "execution_count": 21,
   "metadata": {},
   "outputs": [
    {
     "data": {
      "image/png": "[encoded data removed]",
      "text/plain": [
       "<Figure size 1080x360 with 1 Axes>"
      ]
     },
     "metadata": {
      "needs_background": "light"
     },
     "output_type": "display_data"
    }
   ],
   "source": [
    "train.groupby(['day_of_week','click']).size().unstack().reindex(day_names).plot(kind='bar', figsize=(15,5))\n",
    "\n",
    "# Set plot features\n",
    "ticks = list(range(0, 7 ,1))\n",
    "labels = ['Mon', 'Tue', 'Wed', 'Thu', 'Fri', 'Sat', 'Sun']\n",
    "plt.xticks(ticks, labels)\n",
    "plt.xlabel('')\n",
    "plt.title('Impressions vs. Clicks by Day of Week')\n",
    "plt.show()"
   ]
  },
  {
   "cell_type": "markdown",
   "metadata": {},
   "source": [
    "Tuesday and Wednesdays have the most number of impressions and clicks. I am surprised that the weekend and Monday is so low. The types of advertisements attract users during the working days not including the days that are around the weekend so this can be an indicator on the type of advertisements shown and when it's shown. Let's check CTR."
   ]
  },
  {
   "cell_type": "code",
   "execution_count": 22,
   "metadata": {},
   "outputs": [],
   "source": [
    "# Get click data by day\n",
    "ctr_df = train[train['click']==1]\n",
    "\n",
    "# Create new df to store clicks\n",
    "day_df = train[['day_of_week', 'click']].groupby(['day_of_week']).count().reset_index()\n",
    "day_df = day_df.rename(columns={'click': 'Impressions'})\n",
    "day_df['clicks'] = ctr_df[['day_of_week', 'click']].groupby(['day_of_week']).count().reset_index()['click']\n",
    "\n",
    "# Calculate CTR \n",
    "day_df['CTR'] = (day_df['clicks'] / day_df['Impressions']) * 100"
   ]
  },
  {
   "cell_type": "code",
   "execution_count": 23,
   "metadata": {},
   "outputs": [
    {
     "data": {
      "image/png": "[encoded data removed]",
      "text/plain": [
       "<Figure size 1080x504 with 1 Axes>"
      ]
     },
     "metadata": {
      "needs_background": "light"
     },
     "output_type": "display_data"
    }
   ],
   "source": [
    "# Set figure size\n",
    "plt.figure(figsize=(15,7))\n",
    "\n",
    "# Barplot\n",
    "sns.barplot(y='CTR',\n",
    "            x='day_of_week',\n",
    "            data=day_df)\n",
    "\n",
    "# Set plot features\n",
    "ticks = list(range(0, 7 ,1))\n",
    "labels = ['Mon', 'Tue', 'Wed', 'Thu', 'Fri', 'Sat', 'Sun']\n",
    "plt.xticks(ticks, labels)\n",
    "plt.xlabel('')\n",
    "plt.title('Day CTR')\n",
    "plt.show()"
   ]
  },
  {
   "cell_type": "markdown",
   "metadata": {},
   "source": [
    "Although the numbers are a lot higher from Tuesday through Thursday, CTR is roughly similar from Monday through Friday with a drop during the weekend since real-time bidding does not occur occur as much for this company. Types of advertisements should vary on what's being advertised so we are able to capture relevant consumers inside the population. My assumption is that if the ads are more business related then the work week may be better than the weekend versus ads on clothing sales during the weekend."
   ]
  },
  {
   "cell_type": "markdown",
   "metadata": {},
   "source": [
    "### C1"
   ]
  },
  {
   "cell_type": "code",
   "execution_count": 24,
   "metadata": {
    "scrolled": true
   },
   "outputs": [
    {
     "data": {
      "text/plain": [
       "1005    0.918714\n",
       "1002    0.054488\n",
       "1010    0.022742\n",
       "1012    0.002798\n",
       "1007    0.000898\n",
       "1001    0.000250\n",
       "1008    0.000110\n",
       "Name: C1, dtype: float64"
      ]
     },
     "execution_count": 24,
     "metadata": {},
     "output_type": "execute_result"
    }
   ],
   "source": [
    "train.C1.value_counts(normalize=True)"
   ]
  },
  {
   "cell_type": "code",
   "execution_count": 25,
   "metadata": {},
   "outputs": [
    {
     "data": {
      "text/plain": [
       "1005    459357\n",
       "1002     27244\n",
       "1010     11371\n",
       "1012      1399\n",
       "1007       449\n",
       "1001       125\n",
       "1008        55\n",
       "Name: C1, dtype: int64"
      ]
     },
     "execution_count": 25,
     "metadata": {},
     "output_type": "execute_result"
    }
   ],
   "source": [
    "train.C1.value_counts()"
   ]
  },
  {
   "cell_type": "markdown",
   "metadata": {},
   "source": [
    "C1 is an anonymized feature so we don't know what it is. Majority of the values are 1005 with only 2 more that are above 1% in this dataset. We can bin or group the values together that are below 1% as an engineering technique, but we should explore the data more."
   ]
  },
  {
   "cell_type": "code",
   "execution_count": 26,
   "metadata": {},
   "outputs": [
    {
     "data": {
      "text/plain": [
       "C1\n",
       "1002    0.216194\n",
       "1012    0.182273\n",
       "1005    0.168642\n",
       "1010    0.095858\n",
       "1008    0.054545\n",
       "1007    0.026726\n",
       "1001    0.016000\n",
       "Name: click, dtype: float64"
      ]
     },
     "execution_count": 26,
     "metadata": {},
     "output_type": "execute_result"
    }
   ],
   "source": [
    "train.groupby('C1').mean()['click'].sort_values(ascending=False)"
   ]
  },
  {
   "cell_type": "markdown",
   "metadata": {},
   "source": [
    "1002 and 1005 seem to have two of the highest click percentage with 1008 trailing not too far behind but this dataset only has 65 values."
   ]
  },
  {
   "cell_type": "code",
   "execution_count": 27,
   "metadata": {},
   "outputs": [],
   "source": [
    "# C1 data\n",
    "c1_df = train[['C1', 'click']].groupby('C1').count().reset_index()\n",
    "c1_df = c1_df.rename(columns={'click': 'Impressions'})\n",
    "c1_df['clicks'] = ctr_df[['C1', 'click']].groupby('C1').count().reset_index()['click']\n",
    "\n",
    "# Calculate CTR\n",
    "c1_df['CTR'] = c1_df['clicks'] / c1_df['Impressions'] * 100"
   ]
  },
  {
   "cell_type": "code",
   "execution_count": 28,
   "metadata": {},
   "outputs": [
    {
     "data": {
      "image/png": "[encoded data removed]",
      "text/plain": [
       "<Figure size 1080x504 with 1 Axes>"
      ]
     },
     "metadata": {
      "needs_background": "light"
     },
     "output_type": "display_data"
    }
   ],
   "source": [
    "# Set figure size\n",
    "plt.figure(figsize=(15,7))\n",
    "\n",
    "# Barplot\n",
    "sns.barplot(y='CTR',\n",
    "            x='C1',\n",
    "            data=c1_df)\n",
    "\n",
    "# Set plot features\n",
    "plt.title('C1 CTR')\n",
    "plt.show()"
   ]
  },
  {
   "cell_type": "code",
   "execution_count": 29,
   "metadata": {},
   "outputs": [
    {
     "data": {
      "text/plain": [
       "C1              1006.428571\n",
       "Impressions    71428.571429\n",
       "clicks         12102.714286\n",
       "CTR               10.860558\n",
       "dtype: float64"
      ]
     },
     "execution_count": 29,
     "metadata": {},
     "output_type": "execute_result"
    }
   ],
   "source": [
    "c1_df.mean()"
   ]
  },
  {
   "cell_type": "code",
   "execution_count": 30,
   "metadata": {},
   "outputs": [
    {
     "data": {
      "text/plain": [
       "count     7.000000\n",
       "mean     10.860558\n",
       "std       8.059332\n",
       "min       1.600000\n",
       "25%       4.063576\n",
       "50%       9.585788\n",
       "75%      17.545765\n",
       "max      21.619439\n",
       "Name: CTR, dtype: float64"
      ]
     },
     "execution_count": 30,
     "metadata": {},
     "output_type": "execute_result"
    }
   ],
   "source": [
    "c1_df.CTR.describe()"
   ]
  },
  {
   "cell_type": "markdown",
   "metadata": {},
   "source": [
    "### Banner Position"
   ]
  },
  {
   "cell_type": "code",
   "execution_count": 31,
   "metadata": {},
   "outputs": [
    {
     "data": {
      "text/plain": [
       "0    0.719270\n",
       "1    0.278892\n",
       "7    0.001164\n",
       "2    0.000326\n",
       "4    0.000188\n",
       "5    0.000110\n",
       "3    0.000050\n",
       "Name: banner_pos, dtype: float64"
      ]
     },
     "execution_count": 31,
     "metadata": {},
     "output_type": "execute_result"
    }
   ],
   "source": [
    "train.banner_pos.value_counts(normalize=True)"
   ]
  },
  {
   "cell_type": "code",
   "execution_count": 32,
   "metadata": {},
   "outputs": [
    {
     "data": {
      "text/plain": [
       "0    359635\n",
       "1    139446\n",
       "7       582\n",
       "2       163\n",
       "4        94\n",
       "5        55\n",
       "3        25\n",
       "Name: banner_pos, dtype: int64"
      ]
     },
     "execution_count": 32,
     "metadata": {},
     "output_type": "execute_result"
    }
   ],
   "source": [
    "train.banner_pos.value_counts()"
   ]
  },
  {
   "cell_type": "code",
   "execution_count": 33,
   "metadata": {},
   "outputs": [
    {
     "data": {
      "image/png": "[encoded data removed]",
      "text/plain": [
       "<Figure size 1080x360 with 1 Axes>"
      ]
     },
     "metadata": {
      "needs_background": "light"
     },
     "output_type": "display_data"
    }
   ],
   "source": [
    "train.groupby(['banner_pos', 'click']).size().unstack().plot(kind='bar', figsize=(15,5))\n",
    "                                                             \n",
    "# Set plot features\n",
    "plt.title('Banner Position Histogram')\n",
    "plt.show()"
   ]
  },
  {
   "cell_type": "code",
   "execution_count": 34,
   "metadata": {},
   "outputs": [],
   "source": [
    "# Banner data\n",
    "banner_df = train[['banner_pos', 'click']].groupby('banner_pos').count().reset_index()\n",
    "banner_df = banner_df.rename(columns={'click': 'Impressions'})\n",
    "banner_df['clicks'] = ctr_df[['banner_pos', 'click']].groupby('banner_pos').count().reset_index()['click']\n",
    "\n",
    "# Calculate CTR\n",
    "banner_df['CTR'] = banner_df['clicks'] / banner_df['Impressions'] * 100"
   ]
  },
  {
   "cell_type": "code",
   "execution_count": 35,
   "metadata": {},
   "outputs": [
    {
     "data": {
      "text/plain": [
       "[7, 3, 4, 1, 0, 2, 5]"
      ]
     },
     "execution_count": 35,
     "metadata": {},
     "output_type": "execute_result"
    }
   ],
   "source": [
    "sort_banners = banner_df.sort_values(by='CTR', ascending=False)['banner_pos'].tolist()\n",
    "sort_banners"
   ]
  },
  {
   "cell_type": "code",
   "execution_count": 36,
   "metadata": {},
   "outputs": [
    {
     "data": {
      "image/png": "[encoded data removed]",
      "text/plain": [
       "<Figure size 1080x504 with 1 Axes>"
      ]
     },
     "metadata": {
      "needs_background": "light"
     },
     "output_type": "display_data"
    }
   ],
   "source": [
    "# Set figure size\n",
    "plt.figure(figsize=(15,7))\n",
    "\n",
    "# Barplot\n",
    "sns.barplot(y='CTR',\n",
    "            x='banner_pos',\n",
    "            data=banner_df,\n",
    "            order=sort_banners\n",
    "           )\n",
    "\n",
    "# Set plot features\n",
    "plt.title('Banner Position CTR')\n",
    "plt.show()"
   ]
  },
  {
   "cell_type": "code",
   "execution_count": 37,
   "metadata": {},
   "outputs": [
    {
     "data": {
      "text/plain": [
       "count     7.000000\n",
       "mean     16.897453\n",
       "std       8.158962\n",
       "min       5.454545\n",
       "25%      12.502384\n",
       "50%      18.261549\n",
       "75%      19.574468\n",
       "max      30.412371\n",
       "Name: CTR, dtype: float64"
      ]
     },
     "execution_count": 37,
     "metadata": {},
     "output_type": "execute_result"
    }
   ],
   "source": [
    "banner_df.CTR.describe()"
   ]
  },
  {
   "cell_type": "markdown",
   "metadata": {},
   "source": [
    "### Site ID"
   ]
  },
  {
   "cell_type": "code",
   "execution_count": 38,
   "metadata": {},
   "outputs": [
    {
     "data": {
      "text/plain": [
       "85f751fd    0.361230\n",
       "1fbe01fe    0.160512\n",
       "e151e245    0.065386\n",
       "d9750ee7    0.023590\n",
       "5b08c53b    0.022506\n",
       "5b4d2eda    0.019156\n",
       "856e6d3f    0.018842\n",
       "a7853007    0.011572\n",
       "b7e9786d    0.008962\n",
       "6399eda6    0.008536\n",
       "Name: site_id, dtype: float64"
      ]
     },
     "execution_count": 38,
     "metadata": {},
     "output_type": "execute_result"
    }
   ],
   "source": [
    "train.site_id.value_counts(normalize=True).head(10)"
   ]
  },
  {
   "cell_type": "code",
   "execution_count": 39,
   "metadata": {},
   "outputs": [
    {
     "data": {
      "image/png": "[encoded data removed]",
      "text/plain": [
       "<Figure size 1080x360 with 1 Axes>"
      ]
     },
     "metadata": {
      "needs_background": "light"
     },
     "output_type": "display_data"
    }
   ],
   "source": [
    "# Top 10\n",
    "top_10_sites = train[(train.site_id.isin((train.site_id.value_counts()/len(train))[0:10].index))]\n",
    "top_10_sites_click = top_10_sites[top_10_sites['click']==1]\n",
    "top_10_sites.groupby(['site_id', 'click']).size().unstack().plot(kind='bar',\n",
    "                                                                 figsize=(15,5),\n",
    "                                                                 title='Top 10 Site IDs')\n",
    "plt.show()"
   ]
  },
  {
   "cell_type": "code",
   "execution_count": 40,
   "metadata": {},
   "outputs": [
    {
     "data": {
      "image/png": "[encoded data removed]",
      "text/plain": [
       "<Figure size 1080x360 with 1 Axes>"
      ]
     },
     "metadata": {
      "needs_background": "light"
     },
     "output_type": "display_data"
    }
   ],
   "source": [
    "# Site data\n",
    "site_df = top_10_sites[['site_id','click']].groupby(['site_id']).count().reset_index()\n",
    "site_df = site_df.rename(columns={'click': 'impressions'})\n",
    "site_df['clicks'] = ctr_df[['site_id','click']].groupby(['site_id']).count().reset_index()['click']\n",
    "site_df['CTR'] = site_df['clicks'] / site_df['impressions'] * 100\n",
    "\n",
    "# Sort\n",
    "sort_site = site_df.sort_values(by='CTR',ascending=False)['site_id'].tolist()\n",
    "\n",
    "# Set plot features\n",
    "plt.figure(figsize=(15,5))\n",
    "sns.barplot(y='CTR', x='site_id', data=site_df, order=sort_site)\n",
    "plt.title('CTR by Top 10 Site IDs by Volume')\n",
    "plt.show()"
   ]
  },
  {
   "cell_type": "markdown",
   "metadata": {},
   "source": [
    "### Site Domain"
   ]
  },
  {
   "cell_type": "code",
   "execution_count": 41,
   "metadata": {},
   "outputs": [
    {
     "data": {
      "text/plain": [
       "c4e18dd6    0.374224\n",
       "f3845767    0.160512\n",
       "7e091613    0.082488\n",
       "7687a86e    0.031916\n",
       "98572c79    0.024392\n",
       "16a36ef3    0.021098\n",
       "58a89a43    0.018842\n",
       "9d54950b    0.009366\n",
       "b12b9f85    0.009104\n",
       "17d996e6    0.008626\n",
       "Name: site_domain, dtype: float64"
      ]
     },
     "execution_count": 41,
     "metadata": {},
     "output_type": "execute_result"
    }
   ],
   "source": [
    "train.site_domain.value_counts(normalize=True).head(10)"
   ]
  },
  {
   "cell_type": "code",
   "execution_count": 42,
   "metadata": {},
   "outputs": [
    {
     "data": {
      "image/png": "[encoded data removed]",
      "text/plain": [
       "<Figure size 1080x360 with 1 Axes>"
      ]
     },
     "metadata": {
      "needs_background": "light"
     },
     "output_type": "display_data"
    }
   ],
   "source": [
    "# Top 10\n",
    "top_10_domains = train[(train.site_domain.isin((train.site_domain.value_counts()/len(train))[0:10].index))]\n",
    "top_10_domains_click = top_10_domains[top_10_domains['click']==1]\n",
    "top_10_domains.groupby(['site_domain', 'click']).size().unstack().plot(kind='bar',\n",
    "                                                                 figsize=(15,5),\n",
    "                                                                 title='Top 10 Site IDs')\n",
    "plt.show()"
   ]
  },
  {
   "cell_type": "code",
   "execution_count": 43,
   "metadata": {},
   "outputs": [
    {
     "data": {
      "image/png": "[encoded data removed]",
      "text/plain": [
       "<Figure size 1080x360 with 1 Axes>"
      ]
     },
     "metadata": {
      "needs_background": "light"
     },
     "output_type": "display_data"
    }
   ],
   "source": [
    "# Site data\n",
    "domain_df = top_10_domains[['site_domain','click']].groupby(['site_domain']).count().reset_index()\n",
    "domain_df = domain_df.rename(columns={'click': 'Impressions'})\n",
    "domain_df['clicks'] = ctr_df[['site_domain', 'click']].groupby(['site_domain']).count().reset_index()['click']\n",
    "domain_df['CTR'] = domain_df['clicks'] / domain_df['Impressions'] * 100\n",
    "\n",
    "# Sort\n",
    "sort_domain = domain_df.sort_values(by='CTR',ascending=False)['site_domain'].tolist()\n",
    "\n",
    "# Set plot features\n",
    "plt.figure(figsize=(15,5))\n",
    "sns.barplot(y='CTR', x='site_domain', data=domain_df, order=sort_domain)\n",
    "plt.title('CTR by Top 10 Site Domains by Volume')\n",
    "plt.show()"
   ]
  },
  {
   "cell_type": "markdown",
   "metadata": {},
   "source": [
    "### Site Category"
   ]
  },
  {
   "cell_type": "code",
   "execution_count": 44,
   "metadata": {},
   "outputs": [
    {
     "data": {
      "text/plain": [
       "50e219e0    0.408818\n",
       "f028772b    0.313288\n",
       "28905ebd    0.182496\n",
       "3e814130    0.075402\n",
       "f66779e6    0.006192\n",
       "75fa27f6    0.004046\n",
       "335d28a8    0.003420\n",
       "76b2941d    0.002700\n",
       "c0dd3be3    0.001032\n",
       "72722551    0.000682\n",
       "dedf689d    0.000602\n",
       "70fb0e29    0.000570\n",
       "0569f928    0.000392\n",
       "8fd0aea4    0.000172\n",
       "a818d37a    0.000062\n",
       "42a36e14    0.000048\n",
       "bcf865d9    0.000026\n",
       "9ccfa2ea    0.000020\n",
       "e787de0e    0.000020\n",
       "5378d028    0.000010\n",
       "c706e647    0.000002\n",
       "Name: site_category, dtype: float64"
      ]
     },
     "execution_count": 44,
     "metadata": {},
     "output_type": "execute_result"
    }
   ],
   "source": [
    "train.site_category.value_counts(normalize=True)"
   ]
  },
  {
   "cell_type": "code",
   "execution_count": 45,
   "metadata": {},
   "outputs": [
    {
     "data": {
      "image/png": "[encoded data removed]",
      "text/plain": [
       "<Figure size 1080x360 with 1 Axes>"
      ]
     },
     "metadata": {
      "needs_background": "light"
     },
     "output_type": "display_data"
    }
   ],
   "source": [
    "# Top 10\n",
    "top_10_category = train[(train.site_category.isin((train.site_category.value_counts()/len(train))[0:10].index))]\n",
    "top_10_category_click = top_10_category[top_10_category['click']==1]\n",
    "top_10_category.groupby(['site_category', 'click']).size().unstack().plot(kind='bar',\n",
    "                                                                          figsize=(15,5),\n",
    "                                                                          title='Top 10 Site Categories')\n",
    "plt.show()"
   ]
  },
  {
   "cell_type": "code",
   "execution_count": 46,
   "metadata": {},
   "outputs": [
    {
     "data": {
      "text/html": [
       "<div>\n",
       "<style scoped>\n",
       "    .dataframe tbody tr th:only-of-type {\n",
       "        vertical-align: middle;\n",
       "    }\n",
       "\n",
       "    .dataframe tbody tr th {\n",
       "        vertical-align: top;\n",
       "    }\n",
       "\n",
       "    .dataframe thead th {\n",
       "        text-align: right;\n",
       "    }\n",
       "</style>\n",
       "<table border=\"1\" class=\"dataframe\">\n",
       "  <thead>\n",
       "    <tr style=\"text-align: right;\">\n",
       "      <th>click</th>\n",
       "      <th>site_category</th>\n",
       "      <th>Impressions</th>\n",
       "      <th>Clicks</th>\n",
       "      <th>CTR</th>\n",
       "    </tr>\n",
       "  </thead>\n",
       "  <tbody>\n",
       "    <tr>\n",
       "      <th>0</th>\n",
       "      <td>28905ebd</td>\n",
       "      <td>72405</td>\n",
       "      <td>18843</td>\n",
       "      <td>0.206503</td>\n",
       "    </tr>\n",
       "    <tr>\n",
       "      <th>1</th>\n",
       "      <td>335d28a8</td>\n",
       "      <td>1530</td>\n",
       "      <td>180</td>\n",
       "      <td>0.105263</td>\n",
       "    </tr>\n",
       "    <tr>\n",
       "      <th>2</th>\n",
       "      <td>3e814130</td>\n",
       "      <td>27076</td>\n",
       "      <td>10625</td>\n",
       "      <td>0.281823</td>\n",
       "    </tr>\n",
       "    <tr>\n",
       "      <th>3</th>\n",
       "      <td>50e219e0</td>\n",
       "      <td>177994</td>\n",
       "      <td>26415</td>\n",
       "      <td>0.129226</td>\n",
       "    </tr>\n",
       "    <tr>\n",
       "      <th>4</th>\n",
       "      <td>72722551</td>\n",
       "      <td>319</td>\n",
       "      <td>22</td>\n",
       "      <td>0.064516</td>\n",
       "    </tr>\n",
       "    <tr>\n",
       "      <th>5</th>\n",
       "      <td>75fa27f6</td>\n",
       "      <td>1807</td>\n",
       "      <td>216</td>\n",
       "      <td>0.106772</td>\n",
       "    </tr>\n",
       "    <tr>\n",
       "      <th>6</th>\n",
       "      <td>76b2941d</td>\n",
       "      <td>1320</td>\n",
       "      <td>30</td>\n",
       "      <td>0.022222</td>\n",
       "    </tr>\n",
       "    <tr>\n",
       "      <th>7</th>\n",
       "      <td>c0dd3be3</td>\n",
       "      <td>468</td>\n",
       "      <td>48</td>\n",
       "      <td>0.093023</td>\n",
       "    </tr>\n",
       "    <tr>\n",
       "      <th>8</th>\n",
       "      <td>f028772b</td>\n",
       "      <td>128654</td>\n",
       "      <td>27990</td>\n",
       "      <td>0.178685</td>\n",
       "    </tr>\n",
       "    <tr>\n",
       "      <th>9</th>\n",
       "      <td>f66779e6</td>\n",
       "      <td>2979</td>\n",
       "      <td>117</td>\n",
       "      <td>0.037791</td>\n",
       "    </tr>\n",
       "  </tbody>\n",
       "</table>\n",
       "</div>"
      ],
      "text/plain": [
       "click site_category  Impressions  Clicks       CTR\n",
       "0          28905ebd        72405   18843  0.206503\n",
       "1          335d28a8         1530     180  0.105263\n",
       "2          3e814130        27076   10625  0.281823\n",
       "3          50e219e0       177994   26415  0.129226\n",
       "4          72722551          319      22  0.064516\n",
       "5          75fa27f6         1807     216  0.106772\n",
       "6          76b2941d         1320      30  0.022222\n",
       "7          c0dd3be3          468      48  0.093023\n",
       "8          f028772b       128654   27990  0.178685\n",
       "9          f66779e6         2979     117  0.037791"
      ]
     },
     "execution_count": 46,
     "metadata": {},
     "output_type": "execute_result"
    }
   ],
   "source": [
    "top_10_cat = top_10_category.groupby(['site_category', 'click']).size().unstack().reset_index()\n",
    "top_10_cat = top_10_cat.rename(columns={0: 'Impressions', 1: 'Clicks'})\n",
    "top_10_cat['CTR'] = top_10_cat['Clicks'] / (top_10_cat['Clicks'] + top_10_cat['Impressions'])\n",
    "top_10_cat"
   ]
  },
  {
   "cell_type": "code",
   "execution_count": 47,
   "metadata": {},
   "outputs": [
    {
     "data": {
      "image/png": "[encoded data removed]",
      "text/plain": [
       "<Figure size 1080x360 with 1 Axes>"
      ]
     },
     "metadata": {
      "needs_background": "light"
     },
     "output_type": "display_data"
    }
   ],
   "source": [
    "# Sort\n",
    "sort_category = top_10_cat.sort_values(by='CTR',ascending=False)['site_category'].tolist()\n",
    "\n",
    "# Set plot features\n",
    "plt.figure(figsize=(15,5))\n",
    "sns.barplot(y='CTR', x='site_category', data=top_10_cat, order=sort_category)\n",
    "plt.title('CTR by Top 10 Site Categories by Volume')\n",
    "plt.show()"
   ]
  },
  {
   "cell_type": "markdown",
   "metadata": {},
   "source": [
    "### App ID"
   ]
  },
  {
   "cell_type": "code",
   "execution_count": 48,
   "metadata": {},
   "outputs": [
    {
     "data": {
      "text/plain": [
       "ecad2386    0.638770\n",
       "92f5800b    0.038612\n",
       "e2fcccd2    0.027904\n",
       "9c13b419    0.018808\n",
       "febd1138    0.018688\n",
       "7358e05e    0.015176\n",
       "a5184c22    0.012412\n",
       "d36838b1    0.011052\n",
       "685d1c4c    0.009910\n",
       "54c5d545    0.009732\n",
       "Name: app_id, dtype: float64"
      ]
     },
     "execution_count": 48,
     "metadata": {},
     "output_type": "execute_result"
    }
   ],
   "source": [
    "train.app_id.value_counts(normalize=True).head(10)"
   ]
  },
  {
   "cell_type": "code",
   "execution_count": 49,
   "metadata": {},
   "outputs": [
    {
     "data": {
      "image/png": "[encoded data removed]",
      "text/plain": [
       "<Figure size 1080x360 with 1 Axes>"
      ]
     },
     "metadata": {
      "needs_background": "light"
     },
     "output_type": "display_data"
    }
   ],
   "source": [
    "# Top 10\n",
    "top_10_appid = train[(train.app_id.isin((train.app_id.value_counts()/len(train))[0:10].index))]\n",
    "top_10_appid_click = top_10_appid[top_10_appid['click']==1]\n",
    "top_10_appid.groupby(['app_id', 'click']).size().unstack().plot(kind='bar',\n",
    "                                                                figsize=(15,5),\n",
    "                                                                title='Top 10 App IDs')\n",
    "plt.show()"
   ]
  },
  {
   "cell_type": "code",
   "execution_count": 50,
   "metadata": {},
   "outputs": [
    {
     "data": {
      "text/html": [
       "<div>\n",
       "<style scoped>\n",
       "    .dataframe tbody tr th:only-of-type {\n",
       "        vertical-align: middle;\n",
       "    }\n",
       "\n",
       "    .dataframe tbody tr th {\n",
       "        vertical-align: top;\n",
       "    }\n",
       "\n",
       "    .dataframe thead th {\n",
       "        text-align: right;\n",
       "    }\n",
       "</style>\n",
       "<table border=\"1\" class=\"dataframe\">\n",
       "  <thead>\n",
       "    <tr style=\"text-align: right;\">\n",
       "      <th>click</th>\n",
       "      <th>app_id</th>\n",
       "      <th>Impressions</th>\n",
       "      <th>Clicks</th>\n",
       "      <th>CTR</th>\n",
       "    </tr>\n",
       "  </thead>\n",
       "  <tbody>\n",
       "    <tr>\n",
       "      <th>0</th>\n",
       "      <td>54c5d545</td>\n",
       "      <td>4197</td>\n",
       "      <td>669</td>\n",
       "      <td>0.137485</td>\n",
       "    </tr>\n",
       "    <tr>\n",
       "      <th>1</th>\n",
       "      <td>685d1c4c</td>\n",
       "      <td>4603</td>\n",
       "      <td>352</td>\n",
       "      <td>0.071039</td>\n",
       "    </tr>\n",
       "    <tr>\n",
       "      <th>2</th>\n",
       "      <td>7358e05e</td>\n",
       "      <td>6224</td>\n",
       "      <td>1364</td>\n",
       "      <td>0.179758</td>\n",
       "    </tr>\n",
       "    <tr>\n",
       "      <th>3</th>\n",
       "      <td>92f5800b</td>\n",
       "      <td>18918</td>\n",
       "      <td>388</td>\n",
       "      <td>0.020097</td>\n",
       "    </tr>\n",
       "    <tr>\n",
       "      <th>4</th>\n",
       "      <td>9c13b419</td>\n",
       "      <td>6525</td>\n",
       "      <td>2879</td>\n",
       "      <td>0.306146</td>\n",
       "    </tr>\n",
       "    <tr>\n",
       "      <th>5</th>\n",
       "      <td>a5184c22</td>\n",
       "      <td>4679</td>\n",
       "      <td>1527</td>\n",
       "      <td>0.246052</td>\n",
       "    </tr>\n",
       "    <tr>\n",
       "      <th>6</th>\n",
       "      <td>d36838b1</td>\n",
       "      <td>5130</td>\n",
       "      <td>396</td>\n",
       "      <td>0.071661</td>\n",
       "    </tr>\n",
       "    <tr>\n",
       "      <th>7</th>\n",
       "      <td>e2fcccd2</td>\n",
       "      <td>11243</td>\n",
       "      <td>2709</td>\n",
       "      <td>0.194166</td>\n",
       "    </tr>\n",
       "    <tr>\n",
       "      <th>8</th>\n",
       "      <td>ecad2386</td>\n",
       "      <td>256180</td>\n",
       "      <td>63205</td>\n",
       "      <td>0.197896</td>\n",
       "    </tr>\n",
       "    <tr>\n",
       "      <th>9</th>\n",
       "      <td>febd1138</td>\n",
       "      <td>8910</td>\n",
       "      <td>434</td>\n",
       "      <td>0.046447</td>\n",
       "    </tr>\n",
       "  </tbody>\n",
       "</table>\n",
       "</div>"
      ],
      "text/plain": [
       "click    app_id  Impressions  Clicks       CTR\n",
       "0      54c5d545         4197     669  0.137485\n",
       "1      685d1c4c         4603     352  0.071039\n",
       "2      7358e05e         6224    1364  0.179758\n",
       "3      92f5800b        18918     388  0.020097\n",
       "4      9c13b419         6525    2879  0.306146\n",
       "5      a5184c22         4679    1527  0.246052\n",
       "6      d36838b1         5130     396  0.071661\n",
       "7      e2fcccd2        11243    2709  0.194166\n",
       "8      ecad2386       256180   63205  0.197896\n",
       "9      febd1138         8910     434  0.046447"
      ]
     },
     "execution_count": 50,
     "metadata": {},
     "output_type": "execute_result"
    }
   ],
   "source": [
    "top_10_appid = top_10_appid.groupby(['app_id', 'click']).size().unstack().reset_index()\n",
    "top_10_appid = top_10_appid.rename(columns={0: 'Impressions', 1: 'Clicks'})\n",
    "top_10_appid['CTR'] = top_10_appid['Clicks'] / (top_10_appid['Clicks'] + top_10_appid['Impressions'])\n",
    "top_10_appid"
   ]
  },
  {
   "cell_type": "code",
   "execution_count": 51,
   "metadata": {},
   "outputs": [
    {
     "data": {
      "image/png": "[encoded data removed]",
      "text/plain": [
       "<Figure size 1080x360 with 1 Axes>"
      ]
     },
     "metadata": {
      "needs_background": "light"
     },
     "output_type": "display_data"
    }
   ],
   "source": [
    "# Sort\n",
    "sort_appid = top_10_appid.sort_values(by='CTR',ascending=False)['app_id'].tolist()\n",
    "\n",
    "# Set plot features\n",
    "plt.figure(figsize=(15,5))\n",
    "sns.barplot(y='CTR', x='app_id', data=top_10_appid, order=sort_appid)\n",
    "plt.title('CTR by Top 10 App IDs by Volume')\n",
    "plt.show()"
   ]
  },
  {
   "cell_type": "markdown",
   "metadata": {},
   "source": [
    "### App Category"
   ]
  },
  {
   "cell_type": "code",
   "execution_count": 52,
   "metadata": {},
   "outputs": [
    {
     "name": "stdout",
     "output_type": "stream",
     "text": [
      "Impressions by App Category\n",
      "----------------------------------------\n",
      "07d7df22    0.646960\n",
      "0f2161f8    0.236730\n",
      "cef3e649    0.042894\n",
      "8ded1f7a    0.036084\n",
      "f95efa07    0.028224\n",
      "d1327cf5    0.003168\n",
      "09481d60    0.001428\n",
      "dc97ec06    0.001352\n",
      "75d80bbe    0.001018\n",
      "fc6fa53d    0.000590\n",
      "4ce2e9fc    0.000498\n",
      "879c24eb    0.000304\n",
      "a3c42688    0.000250\n",
      "4681bb9d    0.000158\n",
      "0f9a328c    0.000134\n",
      "2281a340    0.000072\n",
      "a86a3e89    0.000050\n",
      "8df2e842    0.000042\n",
      "a7fd01ec    0.000012\n",
      "2fc4f2aa    0.000008\n",
      "0bfbc358    0.000006\n",
      "79f0b860    0.000006\n",
      "18b1e0be    0.000004\n",
      "7113d72a    0.000004\n",
      "0d82db25    0.000002\n",
      "4b7ade46    0.000002\n",
      "Name: app_category, dtype: float64\n"
     ]
    }
   ],
   "source": [
    "print('Impressions by App Category')\n",
    "print('-'*40)\n",
    "print((train.app_category.value_counts()/len(train)))"
   ]
  },
  {
   "cell_type": "code",
   "execution_count": 53,
   "metadata": {},
   "outputs": [
    {
     "data": {
      "image/png": "[encoded data removed]",
      "text/plain": [
       "<Figure size 1080x360 with 1 Axes>"
      ]
     },
     "metadata": {
      "needs_background": "light"
     },
     "output_type": "display_data"
    },
    {
     "name": "stdout",
     "output_type": "stream",
     "text": [
      "--------------------------------------------------\n",
      "click app_category  Impressions  Clicks       CTR\n",
      "0         07d7df22       323480   64239  0.165684\n",
      "1         09481d60          714     107  0.130329\n",
      "2         0f2161f8       118365   12925  0.098446\n",
      "3         75d80bbe          509      45  0.081227\n",
      "4         8ded1f7a        18042    1531  0.078220\n",
      "5         cef3e649        21447    1909  0.081735\n",
      "6         d1327cf5         1584     182  0.103058\n",
      "7         dc97ec06          676     105  0.134443\n",
      "8         f95efa07        14112    3565  0.201674\n",
      "9         fc6fa53d          295      15  0.048387\n",
      "--------------------------------------------------\n"
     ]
    },
    {
     "data": {
      "image/png": "[encoded data removed]",
      "text/plain": [
       "<Figure size 1080x360 with 1 Axes>"
      ]
     },
     "metadata": {
      "needs_background": "light"
     },
     "output_type": "display_data"
    }
   ],
   "source": [
    "# Top 10\n",
    "top_10_app_cat = train[(train.app_category.isin((train.app_category.value_counts()/len(train))[0:10].index))]\n",
    "top_10_app_cat_click = top_10_app_cat[top_10_app_cat['click']==1]\n",
    "top_10_app_cat.groupby(['app_category', 'click']).size().unstack().plot(kind='bar',\n",
    "                                                                        figsize=(15,5),\n",
    "                                                                        title='Top 10 App Categories')\n",
    "plt.show()\n",
    "\n",
    "# CTR\n",
    "top_10_app_cat = top_10_app_cat.groupby(['app_category', 'click']).size().unstack().reset_index()\n",
    "top_10_app_cat = top_10_app_cat.rename(columns={0: 'Impressions', 1: 'Clicks'})\n",
    "top_10_app_cat['Impressions'] = (top_10_app_cat['Clicks'] + top_10_app_cat['Impressions'])\n",
    "top_10_app_cat['CTR'] = top_10_app_cat['Clicks'] / (top_10_app_cat['Clicks'] + top_10_app_cat['Impressions'])\n",
    "\n",
    "print('-'*50)\n",
    "print(top_10_app_cat)\n",
    "print('-'*50)\n",
    "\n",
    "# Sort and plot CTR\n",
    "sort_appcat = top_10_app_cat.sort_values(by='CTR',ascending=False)['app_category'].tolist()\n",
    "\n",
    "# Set plot features\n",
    "plt.figure(figsize=(15,5))\n",
    "sns.barplot(y='CTR', x='app_category', data=top_10_app_cat, order=sort_appcat)\n",
    "plt.title('CTR by Top 10 App Categories')\n",
    "plt.show()"
   ]
  },
  {
   "cell_type": "markdown",
   "metadata": {},
   "source": [
    "### Device Features"
   ]
  },
  {
   "cell_type": "code",
   "execution_count": 54,
   "metadata": {},
   "outputs": [
    {
     "name": "stdout",
     "output_type": "stream",
     "text": [
      "There are 79227 unique device IDs in the data set.\n",
      "There are 314269 unique device IPs in the data set.\n",
      "There are 5 unique device types in the data set.\n",
      "There are 4581 unique device models in the data set.\n",
      "There are 4 unique device connection types in the data set.\n"
     ]
    }
   ],
   "source": [
    "print('There are {} unique device IDs in the data set.'.format(train.device_id.nunique()))\n",
    "print('There are {} unique device IPs in the data set.'.format(train.device_ip.nunique()))\n",
    "print('There are {} unique device types in the data set.'.format(train.device_type.nunique()))\n",
    "print('There are {} unique device models in the data set.'.format(train.device_model.nunique()))\n",
    "print('There are {} unique device connection types in the data set.'.format(train.device_conn_type.nunique()))"
   ]
  },
  {
   "cell_type": "markdown",
   "metadata": {},
   "source": [
    "### Device ID"
   ]
  },
  {
   "cell_type": "code",
   "execution_count": 55,
   "metadata": {},
   "outputs": [
    {
     "name": "stdout",
     "output_type": "stream",
     "text": [
      "The top 10 devices that have the most impressions.\n",
      "--------------------------------------------------\n",
      "a99f214a    0.825026\n",
      "c357dbff    0.000526\n",
      "0f7c61dc    0.000496\n",
      "936e92fb    0.000372\n",
      "afeffc18    0.000256\n",
      "28dc8687    0.000106\n",
      "3cdb4052    0.000102\n",
      "987552d1    0.000102\n",
      "b09da1c4    0.000098\n",
      "d857ffbb    0.000092\n",
      "Name: device_id, dtype: float64\n"
     ]
    }
   ],
   "source": [
    "print('The top 10 devices that have the most impressions.')\n",
    "print('-'*50)\n",
    "print((train.device_id.value_counts()/len(train))[0:10])"
   ]
  },
  {
   "cell_type": "code",
   "execution_count": 56,
   "metadata": {},
   "outputs": [
    {
     "data": {
      "image/png": "[encoded data removed]",
      "text/plain": [
       "<Figure size 1080x360 with 1 Axes>"
      ]
     },
     "metadata": {
      "needs_background": "light"
     },
     "output_type": "display_data"
    }
   ],
   "source": [
    "# Top 10\n",
    "top_10_device = train[(train.device_id.isin((train.device_id.value_counts()/len(train))[0:10].index))]\n",
    "top_10_device_click = top_10_device[top_10_device['click']==1]\n",
    "top_10_device.groupby(['device_id', 'click']).size().unstack().plot(kind='bar',\n",
    "                                                                    figsize=(15,5),\n",
    "                                                                    title='Top 10 Devices')\n",
    "plt.show()"
   ]
  },
  {
   "cell_type": "code",
   "execution_count": 57,
   "metadata": {},
   "outputs": [
    {
     "data": {
      "text/html": [
       "<div>\n",
       "<style scoped>\n",
       "    .dataframe tbody tr th:only-of-type {\n",
       "        vertical-align: middle;\n",
       "    }\n",
       "\n",
       "    .dataframe tbody tr th {\n",
       "        vertical-align: top;\n",
       "    }\n",
       "\n",
       "    .dataframe thead th {\n",
       "        text-align: right;\n",
       "    }\n",
       "</style>\n",
       "<table border=\"1\" class=\"dataframe\">\n",
       "  <thead>\n",
       "    <tr style=\"text-align: right;\">\n",
       "      <th>click</th>\n",
       "      <th>device_id</th>\n",
       "      <th>Impressions</th>\n",
       "      <th>Clicks</th>\n",
       "      <th>CTR</th>\n",
       "    </tr>\n",
       "  </thead>\n",
       "  <tbody>\n",
       "    <tr>\n",
       "      <th>0</th>\n",
       "      <td>0f7c61dc</td>\n",
       "      <td>248.0</td>\n",
       "      <td>184.0</td>\n",
       "      <td>0.425926</td>\n",
       "    </tr>\n",
       "    <tr>\n",
       "      <th>1</th>\n",
       "      <td>28dc8687</td>\n",
       "      <td>NaN</td>\n",
       "      <td>NaN</td>\n",
       "      <td>NaN</td>\n",
       "    </tr>\n",
       "    <tr>\n",
       "      <th>2</th>\n",
       "      <td>3cdb4052</td>\n",
       "      <td>51.0</td>\n",
       "      <td>39.0</td>\n",
       "      <td>0.433333</td>\n",
       "    </tr>\n",
       "    <tr>\n",
       "      <th>3</th>\n",
       "      <td>936e92fb</td>\n",
       "      <td>186.0</td>\n",
       "      <td>7.0</td>\n",
       "      <td>0.036269</td>\n",
       "    </tr>\n",
       "    <tr>\n",
       "      <th>4</th>\n",
       "      <td>987552d1</td>\n",
       "      <td>NaN</td>\n",
       "      <td>NaN</td>\n",
       "      <td>NaN</td>\n",
       "    </tr>\n",
       "    <tr>\n",
       "      <th>5</th>\n",
       "      <td>a99f214a</td>\n",
       "      <td>412513.0</td>\n",
       "      <td>71600.0</td>\n",
       "      <td>0.147899</td>\n",
       "    </tr>\n",
       "    <tr>\n",
       "      <th>6</th>\n",
       "      <td>afeffc18</td>\n",
       "      <td>128.0</td>\n",
       "      <td>29.0</td>\n",
       "      <td>0.184713</td>\n",
       "    </tr>\n",
       "    <tr>\n",
       "      <th>7</th>\n",
       "      <td>b09da1c4</td>\n",
       "      <td>49.0</td>\n",
       "      <td>8.0</td>\n",
       "      <td>0.140351</td>\n",
       "    </tr>\n",
       "    <tr>\n",
       "      <th>8</th>\n",
       "      <td>c357dbff</td>\n",
       "      <td>263.0</td>\n",
       "      <td>173.0</td>\n",
       "      <td>0.396789</td>\n",
       "    </tr>\n",
       "    <tr>\n",
       "      <th>9</th>\n",
       "      <td>d857ffbb</td>\n",
       "      <td>46.0</td>\n",
       "      <td>12.0</td>\n",
       "      <td>0.206897</td>\n",
       "    </tr>\n",
       "  </tbody>\n",
       "</table>\n",
       "</div>"
      ],
      "text/plain": [
       "click device_id  Impressions   Clicks       CTR\n",
       "0      0f7c61dc        248.0    184.0  0.425926\n",
       "1      28dc8687          NaN      NaN       NaN\n",
       "2      3cdb4052         51.0     39.0  0.433333\n",
       "3      936e92fb        186.0      7.0  0.036269\n",
       "4      987552d1          NaN      NaN       NaN\n",
       "5      a99f214a     412513.0  71600.0  0.147899\n",
       "6      afeffc18        128.0     29.0  0.184713\n",
       "7      b09da1c4         49.0      8.0  0.140351\n",
       "8      c357dbff        263.0    173.0  0.396789\n",
       "9      d857ffbb         46.0     12.0  0.206897"
      ]
     },
     "execution_count": 57,
     "metadata": {},
     "output_type": "execute_result"
    }
   ],
   "source": [
    "top_10_device = top_10_device.groupby(['device_id', 'click']).size().unstack().reset_index()\n",
    "top_10_device = top_10_device.rename(columns={0: 'Impressions', 1: 'Clicks'})\n",
    "top_10_device['Impressions'] = (top_10_device['Clicks'] + top_10_device['Impressions'])\n",
    "top_10_device['CTR'] = top_10_device['Clicks'] / (top_10_device['Clicks'] + top_10_device['Impressions'])\n",
    "top_10_device"
   ]
  },
  {
   "cell_type": "code",
   "execution_count": 58,
   "metadata": {},
   "outputs": [
    {
     "data": {
      "image/png": "[encoded data removed]",
      "text/plain": [
       "<Figure size 1080x360 with 1 Axes>"
      ]
     },
     "metadata": {
      "needs_background": "light"
     },
     "output_type": "display_data"
    }
   ],
   "source": [
    "# Sort\n",
    "sort_deviceid = top_10_device.sort_values(by='CTR',ascending=False)['device_id'].tolist()\n",
    "\n",
    "# Set plot features\n",
    "plt.figure(figsize=(15,5))\n",
    "sns.barplot(y='CTR', x='device_id', data=top_10_device, order=sort_deviceid)\n",
    "plt.title('CTR by Top 10 Device IDs by Volume')\n",
    "plt.show()"
   ]
  },
  {
   "cell_type": "code",
   "execution_count": 59,
   "metadata": {
    "scrolled": true
   },
   "outputs": [
    {
     "data": {
      "text/plain": [
       "28dc8687    53\n",
       "Name: device_id, dtype: int64"
      ]
     },
     "execution_count": 59,
     "metadata": {},
     "output_type": "execute_result"
    }
   ],
   "source": [
    "train[train.device_id=='28dc8687'].device_id.value_counts()"
   ]
  },
  {
   "cell_type": "markdown",
   "metadata": {},
   "source": [
    "### Device Type"
   ]
  },
  {
   "cell_type": "code",
   "execution_count": 60,
   "metadata": {},
   "outputs": [
    {
     "name": "stdout",
     "output_type": "stream",
     "text": [
      "Impressions by Device Types\n",
      "----------------------------------------\n",
      "1    0.922768\n",
      "0    0.054488\n",
      "4    0.019410\n",
      "5    0.003332\n",
      "2    0.000002\n",
      "Name: device_type, dtype: float64\n"
     ]
    }
   ],
   "source": [
    "print('Impressions by Device Types')\n",
    "print('-'*40)\n",
    "print((train.device_type.value_counts()/len(train)))"
   ]
  },
  {
   "cell_type": "code",
   "execution_count": 61,
   "metadata": {},
   "outputs": [
    {
     "data": {
      "image/png": "[encoded data removed]",
      "text/plain": [
       "<Figure size 1080x360 with 1 Axes>"
      ]
     },
     "metadata": {
      "needs_background": "light"
     },
     "output_type": "display_data"
    },
    {
     "name": "stdout",
     "output_type": "stream",
     "text": [
      "--------------------------------------------------\n",
      "click  device_type  Impressions   Clicks       CTR\n",
      "0                0      27244.0   5890.0  0.177763\n",
      "1                1     461384.0  77739.0  0.144195\n",
      "2                2          NaN      NaN       NaN\n",
      "3                4       9705.0    951.0  0.089245\n",
      "4                5       1666.0    139.0  0.077008\n",
      "--------------------------------------------------\n"
     ]
    },
    {
     "data": {
      "image/png": "[encoded data removed]",
      "text/plain": [
       "<Figure size 1080x360 with 1 Axes>"
      ]
     },
     "metadata": {
      "needs_background": "light"
     },
     "output_type": "display_data"
    }
   ],
   "source": [
    "# Top 10\n",
    "top_10_dev_type = train[(train.device_type.isin((train.device_type.value_counts()/len(train))[0:10].index))]\n",
    "top_10_dev_type_click = top_10_dev_type[top_10_dev_type['click']==1]\n",
    "top_10_dev_type.groupby(['device_type', 'click']).size().unstack().plot(kind='bar',\n",
    "                                                                        figsize=(15,5),\n",
    "                                                                        title='Top 10 Device Types')\n",
    "plt.show()\n",
    "\n",
    "# CTR\n",
    "top_10_dev_type = top_10_dev_type.groupby(['device_type', 'click']).size().unstack().reset_index()\n",
    "top_10_dev_type = top_10_dev_type.rename(columns={0: 'Impressions', 1: 'Clicks'})\n",
    "top_10_dev_type['Impressions'] = (top_10_dev_type['Clicks'] + top_10_dev_type['Impressions'])\n",
    "top_10_dev_type['CTR'] = top_10_dev_type['Clicks'] / (top_10_dev_type['Clicks'] + top_10_dev_type['Impressions'])\n",
    "\n",
    "print('-'*50)\n",
    "print(top_10_dev_type)\n",
    "print('-'*50)\n",
    "\n",
    "# Sort and plot CTR\n",
    "sort_devicetype = top_10_dev_type.sort_values(by='CTR',ascending=False)['device_type'].tolist()\n",
    "\n",
    "# Set plot features\n",
    "plt.figure(figsize=(15,5))\n",
    "sns.barplot(y='CTR', x='device_type', data=top_10_dev_type, order=sort_devicetype)\n",
    "plt.title('CTR by Top 10 Device Types')\n",
    "plt.show()"
   ]
  },
  {
   "cell_type": "markdown",
   "metadata": {},
   "source": [
    "### C14-C21"
   ]
  },
  {
   "cell_type": "code",
   "execution_count": 62,
   "metadata": {},
   "outputs": [
    {
     "name": "stdout",
     "output_type": "stream",
     "text": [
      "There are 2119 unique C14 values in the dataset.\n",
      "There are 8 unique C15 values in the dataset.\n",
      "There are 9 unique C16 values in the dataset.\n",
      "There are 416 unique C17 values in the dataset.\n",
      "There are 4 unique C18 values in the dataset.\n",
      "There are 66 unique C19 values in the dataset.\n",
      "There are 162 unique C20 values in the dataset.\n"
     ]
    }
   ],
   "source": [
    "print('There are {} unique C14 values in the dataset.'.format(train.C14.nunique()))\n",
    "print('There are {} unique C15 values in the dataset.'.format(train.C15.nunique()))\n",
    "print('There are {} unique C16 values in the dataset.'.format(train.C16.nunique()))\n",
    "print('There are {} unique C17 values in the dataset.'.format(train.C17.nunique()))\n",
    "print('There are {} unique C18 values in the dataset.'.format(train.C18.nunique()))\n",
    "print('There are {} unique C19 values in the dataset.'.format(train.C19.nunique()))\n",
    "print('There are {} unique C20 values in the dataset.'.format(train.C20.nunique()))"
   ]
  },
  {
   "cell_type": "markdown",
   "metadata": {},
   "source": [
    "### Correlation"
   ]
  },
  {
   "cell_type": "code",
   "execution_count": 63,
   "metadata": {},
   "outputs": [
    {
     "data": {
      "image/png": "[encoded data removed]",
      "text/plain": [
       "<Figure size 1080x1080 with 2 Axes>"
      ]
     },
     "metadata": {
      "needs_background": "light"
     },
     "output_type": "display_data"
    }
   ],
   "source": [
    "C_list = ['C' + str(x) for x in range(14,22)]\n",
    "cols = ['click'] + C_list\n",
    "\n",
    "# Plot\n",
    "plt.figure(figsize=(15,15))\n",
    "sns.heatmap(train[cols].corr(),\n",
    "            cmap='RdBu_r',\n",
    "            annot=True,\n",
    "            center=0.0\n",
    "           )\n",
    "\n",
    "# Plot features\n",
    "plt.title('C14 - C22')\n",
    "plt.show()"
   ]
  },
  {
   "cell_type": "markdown",
   "metadata": {},
   "source": [
    "C17 has almost a near perfect correlation with C14. Most likely we can do additional tests to remove one of them to reduce multicollinearity."
   ]
  },
  {
   "cell_type": "markdown",
   "metadata": {},
   "source": [
    "### C17 - Device Type"
   ]
  },
  {
   "cell_type": "code",
   "execution_count": 64,
   "metadata": {},
   "outputs": [
    {
     "data": {
      "image/png": "[encoded data removed]",
      "text/plain": [
       "<Figure size 1440x576 with 1 Axes>"
      ]
     },
     "metadata": {
      "needs_background": "light"
     },
     "output_type": "display_data"
    }
   ],
   "source": [
    "# Set figure size\n",
    "plt.figure(figsize=(20, 8))\n",
    "\n",
    "# Plot\n",
    "sns.boxplot(x='device_type',\n",
    "            y='C17',\n",
    "            hue='click',\n",
    "            data=train)\n",
    "\n",
    "# Set plot features\n",
    "plt.title('C17 Per Device Type', fontsize=15)\n",
    "plt.xlabel('Device Type', fontsize=15)\n",
    "plt.ylabel('C17', fontsize=15)\n",
    "plt.xticks(fontsize=13)\n",
    "plt.show()"
   ]
  },
  {
   "cell_type": "markdown",
   "metadata": {},
   "source": [
    "C17 looks evenly distributed across device type."
   ]
  },
  {
   "cell_type": "code",
   "execution_count": 65,
   "metadata": {},
   "outputs": [
    {
     "data": {
      "image/png": "[encoded data removed]",
      "text/plain": [
       "<Figure size 1440x576 with 1 Axes>"
      ]
     },
     "metadata": {
      "needs_background": "light"
     },
     "output_type": "display_data"
    }
   ],
   "source": [
    "# Set figure size\n",
    "plt.figure(figsize=(20, 8))\n",
    "\n",
    "# Plot\n",
    "sns.boxplot(x='device_type',\n",
    "            y='C17',\n",
    "            hue='click',\n",
    "            data=train)\n",
    "\n",
    "# Set plot features\n",
    "plt.title('C17 Per Device Type', fontsize=15)\n",
    "plt.xlabel('Device Type', fontsize=15)\n",
    "plt.ylabel('C17', fontsize=15)\n",
    "plt.xticks(fontsize=13)\n",
    "plt.show()"
   ]
  },
  {
   "cell_type": "markdown",
   "metadata": {},
   "source": [
    "### C14 - Device Type"
   ]
  },
  {
   "cell_type": "code",
   "execution_count": 66,
   "metadata": {},
   "outputs": [
    {
     "data": {
      "image/png": "[encoded data removed]",
      "text/plain": [
       "<Figure size 1440x576 with 1 Axes>"
      ]
     },
     "metadata": {
      "needs_background": "light"
     },
     "output_type": "display_data"
    }
   ],
   "source": [
    "# Set figure size\n",
    "plt.figure(figsize=(20, 8))\n",
    "\n",
    "# Plot\n",
    "sns.boxplot(x='device_type',\n",
    "            y='C14',\n",
    "            hue='click',\n",
    "            data=train)\n",
    "\n",
    "# Set plot features\n",
    "plt.title('C14 Per Device Type', fontsize=15)\n",
    "plt.xlabel('Device Type', fontsize=15)\n",
    "plt.ylabel('C14', fontsize=15)\n",
    "plt.xticks(fontsize=13)\n",
    "plt.show()"
   ]
  },
  {
   "cell_type": "markdown",
   "metadata": {},
   "source": [
    "### NAN Search\n",
    "Search all of the columns to determine which columns are related by the number of NANs. For example, if there is 500 of the same NA rows in 2 columns, matching at various rows then most likely they are related based on this assumption. There are also be groups of Cs with similar NAN structure."
   ]
  },
  {
   "cell_type": "code",
   "execution_count": 67,
   "metadata": {},
   "outputs": [
    {
     "name": "stdout",
     "output_type": "stream",
     "text": [
      "##### NAN Count = 0\n",
      "['id', 'click', 'hour', 'C1', 'banner_pos', 'site_id', 'site_domain', 'site_category', 'app_id', 'app_domain', 'app_category', 'device_id', 'device_ip', 'device_model', 'device_type', 'device_conn_type', 'C14', 'C15', 'C16', 'C17', 'C18', 'C19', 'C20', 'C21', 'hour_of_day', 'day_of_week']\n"
     ]
    }
   ],
   "source": [
    "# Get NANs\n",
    "nans_df = train.isna()\n",
    "nans_df.head()\n",
    "\n",
    "nans_groups = {}\n",
    "\n",
    "i_cols = ['C'+str(i) for i in range(14, 22)]\n",
    "\n",
    "# Loop\n",
    "for col in train.columns:\n",
    "    c_group = nans_df[col].sum()\n",
    "    try:\n",
    "        nans_groups[c_group].append(col)\n",
    "    except:\n",
    "        nans_groups[c_group]=[col]\n",
    "        \n",
    "for k, v in nans_groups.items():\n",
    "    print('##### NAN Count =', k)\n",
    "    print(v)"
   ]
  },
  {
   "cell_type": "markdown",
   "metadata": {},
   "source": [
    "### C14 - C17 Distribution"
   ]
  },
  {
   "cell_type": "code",
   "execution_count": 68,
   "metadata": {},
   "outputs": [
    {
     "data": {
      "text/html": [
       "<div>\n",
       "<style scoped>\n",
       "    .dataframe tbody tr th:only-of-type {\n",
       "        vertical-align: middle;\n",
       "    }\n",
       "\n",
       "    .dataframe tbody tr th {\n",
       "        vertical-align: top;\n",
       "    }\n",
       "\n",
       "    .dataframe thead th {\n",
       "        text-align: right;\n",
       "    }\n",
       "</style>\n",
       "<table border=\"1\" class=\"dataframe\">\n",
       "  <thead>\n",
       "    <tr style=\"text-align: right;\">\n",
       "      <th></th>\n",
       "      <th>C14</th>\n",
       "      <th>C17</th>\n",
       "    </tr>\n",
       "  </thead>\n",
       "  <tbody>\n",
       "    <tr>\n",
       "      <th>count</th>\n",
       "      <td>500000.000000</td>\n",
       "      <td>500000.000000</td>\n",
       "    </tr>\n",
       "    <tr>\n",
       "      <th>mean</th>\n",
       "      <td>18840.588318</td>\n",
       "      <td>2112.421310</td>\n",
       "    </tr>\n",
       "    <tr>\n",
       "      <th>std</th>\n",
       "      <td>4967.234784</td>\n",
       "      <td>610.143239</td>\n",
       "    </tr>\n",
       "    <tr>\n",
       "      <th>min</th>\n",
       "      <td>375.000000</td>\n",
       "      <td>112.000000</td>\n",
       "    </tr>\n",
       "    <tr>\n",
       "      <th>25%</th>\n",
       "      <td>16920.000000</td>\n",
       "      <td>1863.000000</td>\n",
       "    </tr>\n",
       "    <tr>\n",
       "      <th>50%</th>\n",
       "      <td>20346.000000</td>\n",
       "      <td>2323.000000</td>\n",
       "    </tr>\n",
       "    <tr>\n",
       "      <th>75%</th>\n",
       "      <td>21894.000000</td>\n",
       "      <td>2526.000000</td>\n",
       "    </tr>\n",
       "    <tr>\n",
       "      <th>max</th>\n",
       "      <td>24043.000000</td>\n",
       "      <td>2757.000000</td>\n",
       "    </tr>\n",
       "  </tbody>\n",
       "</table>\n",
       "</div>"
      ],
      "text/plain": [
       "                 C14            C17\n",
       "count  500000.000000  500000.000000\n",
       "mean    18840.588318    2112.421310\n",
       "std      4967.234784     610.143239\n",
       "min       375.000000     112.000000\n",
       "25%     16920.000000    1863.000000\n",
       "50%     20346.000000    2323.000000\n",
       "75%     21894.000000    2526.000000\n",
       "max     24043.000000    2757.000000"
      ]
     },
     "execution_count": 68,
     "metadata": {},
     "output_type": "execute_result"
    }
   ],
   "source": [
    "train[['C14', 'C17']].describe()"
   ]
  },
  {
   "cell_type": "markdown",
   "metadata": {},
   "source": [
    "### C14 C17 Histogram"
   ]
  },
  {
   "cell_type": "code",
   "execution_count": 69,
   "metadata": {},
   "outputs": [
    {
     "data": {
      "image/png": "[encoded data removed]",
      "text/plain": [
       "<Figure size 1080x360 with 2 Axes>"
      ]
     },
     "metadata": {
      "needs_background": "light"
     },
     "output_type": "display_data"
    }
   ],
   "source": [
    "ax = train[['C14', 'C17']].hist(bins=20, figsize=(15,5), grid=False)\n",
    "plt.show()"
   ]
  },
  {
   "cell_type": "markdown",
   "metadata": {},
   "source": [
    "Distribution looks fairly similar but there is a larger spread with C14 so I am leaning towards that feature at the moment because there are more information that can be derived from it (assumption)."
   ]
  },
  {
   "cell_type": "markdown",
   "metadata": {},
   "source": [
    "### Statistical Test - C14"
   ]
  },
  {
   "cell_type": "code",
   "execution_count": 70,
   "metadata": {},
   "outputs": [
    {
     "name": "stdout",
     "output_type": "stream",
     "text": [
      "The mean for the click population is: 18971.86847941514.\n",
      "The mean for the users that did not click is: 18840.588318.\n"
     ]
    }
   ],
   "source": [
    "# Get means for both groups\n",
    "click_yes = train['C14'].mean()\n",
    "click_no = train[train['click']==0]['C14'].mean()\n",
    "\n",
    "print('The mean for the click population is: {}.'.format(str(click_no)))\n",
    "print('The mean for the users that did not click is: {}.'.format(str(click_yes)))"
   ]
  },
  {
   "cell_type": "code",
   "execution_count": 71,
   "metadata": {},
   "outputs": [
    {
     "data": {
      "text/plain": [
       "Ttest_1sampResult(statistic=17.228591057897248, pvalue=1.70934327255773e-66)"
      ]
     },
     "execution_count": 71,
     "metadata": {},
     "output_type": "execute_result"
    }
   ],
   "source": [
    "# Conduct t-test at 95% confidence level\n",
    "stats.ttest_1samp(a=train[train.click==0]['C14'],\n",
    "                  popmean=click_yes\n",
    "                 )"
   ]
  },
  {
   "cell_type": "markdown",
   "metadata": {},
   "source": [
    "### Statistical Test - C17"
   ]
  },
  {
   "cell_type": "code",
   "execution_count": 72,
   "metadata": {},
   "outputs": [
    {
     "name": "stdout",
     "output_type": "stream",
     "text": [
      "The mean for the click population is: 2127.3320474570232.\n",
      "The mean for the users that did not click is: 2112.42131.\n"
     ]
    },
    {
     "data": {
      "text/plain": [
       "Ttest_1sampResult(statistic=15.903302897578495, pvalue=6.24880985612409e-57)"
      ]
     },
     "execution_count": 72,
     "metadata": {},
     "output_type": "execute_result"
    }
   ],
   "source": [
    "# Get means for both groups\n",
    "click_yes = train['C17'].mean()\n",
    "click_no = train[train['click']==0]['C17'].mean()\n",
    "\n",
    "print('The mean for the click population is: {}.'.format(str(click_no)))\n",
    "print('The mean for the users that did not click is: {}.'.format(str(click_yes)))\n",
    "\n",
    "# Conduct t-test at 95% confidence level\n",
    "stats.ttest_1samp(a=train[train.click==0]['C17'],\n",
    "                  popmean=click_yes\n",
    "                 )"
   ]
  },
  {
   "cell_type": "markdown",
   "metadata": {},
   "source": [
    "After a 1 sample independent t-test of both features, the feature with the lower p-value will be chosen. The test statistical is 17.69 vs. 16.29 and p-value is 5e-70 vs. 1e-59. The test statistic tells us how much the sample mean deviates from the null hypothesis (no difference). If the t-statistic lies outside the quantiles of the t-distribution corresponding to our confidence to our confidence level and degree of freedom, we reject the null hypothesis.\n",
    "\n",
    "Since the p-value is so low on both and C14 is lower, it looks like there are some significant difference between clicks and C14/C17 features.\n",
    "\n",
    "With this additional confirmation after looking at the distribution, correlation, and statistical testing, C14 will be used in the model instead of C17 to avoid any multicollinearity issues."
   ]
  },
  {
   "cell_type": "code",
   "execution_count": 73,
   "metadata": {},
   "outputs": [],
   "source": [
    "# Drop\n",
    "train = train.drop(['C17'], axis=1)"
   ]
  },
  {
   "cell_type": "code",
   "execution_count": 74,
   "metadata": {},
   "outputs": [
    {
     "name": "stdout",
     "output_type": "stream",
     "text": [
      "id : 499967\n",
      "click : 2\n",
      "hour : 240\n",
      "C1 : 7\n",
      "banner_pos : 7\n",
      "site_id : 2278\n",
      "site_domain : 2303\n",
      "site_category : 21\n",
      "app_id : 2467\n",
      "app_domain : 167\n",
      "app_category : 26\n",
      "device_id : 79227\n",
      "device_ip : 314269\n",
      "device_model : 4581\n",
      "device_type : 5\n",
      "device_conn_type : 4\n",
      "C14 : 2119\n",
      "C15 : 8\n",
      "C16 : 9\n",
      "C18 : 4\n",
      "C19 : 66\n",
      "C20 : 162\n",
      "C21 : 60\n",
      "hour_of_day : 24\n",
      "day_of_week : 7\n"
     ]
    }
   ],
   "source": [
    "for col in train:\n",
    "    print(col, ':', train[col].nunique())"
   ]
  },
  {
   "cell_type": "code",
   "execution_count": 75,
   "metadata": {},
   "outputs": [
    {
     "data": {
      "text/html": [
       "<div>\n",
       "<style scoped>\n",
       "    .dataframe tbody tr th:only-of-type {\n",
       "        vertical-align: middle;\n",
       "    }\n",
       "\n",
       "    .dataframe tbody tr th {\n",
       "        vertical-align: top;\n",
       "    }\n",
       "\n",
       "    .dataframe thead th {\n",
       "        text-align: right;\n",
       "    }\n",
       "</style>\n",
       "<table border=\"1\" class=\"dataframe\">\n",
       "  <thead>\n",
       "    <tr style=\"text-align: right;\">\n",
       "      <th></th>\n",
       "      <th>id</th>\n",
       "      <th>click</th>\n",
       "      <th>hour</th>\n",
       "      <th>C1</th>\n",
       "      <th>banner_pos</th>\n",
       "      <th>site_id</th>\n",
       "      <th>site_domain</th>\n",
       "      <th>site_category</th>\n",
       "      <th>app_id</th>\n",
       "      <th>app_domain</th>\n",
       "      <th>...</th>\n",
       "      <th>device_conn_type</th>\n",
       "      <th>C14</th>\n",
       "      <th>C15</th>\n",
       "      <th>C16</th>\n",
       "      <th>C18</th>\n",
       "      <th>C19</th>\n",
       "      <th>C20</th>\n",
       "      <th>C21</th>\n",
       "      <th>hour_of_day</th>\n",
       "      <th>day_of_week</th>\n",
       "    </tr>\n",
       "  </thead>\n",
       "  <tbody>\n",
       "    <tr>\n",
       "      <th>0</th>\n",
       "      <td>1275849718</td>\n",
       "      <td>0</td>\n",
       "      <td>2014-10-21</td>\n",
       "      <td>1005</td>\n",
       "      <td>0</td>\n",
       "      <td>5b08c53b</td>\n",
       "      <td>7687a86e</td>\n",
       "      <td>3e814130</td>\n",
       "      <td>ecad2386</td>\n",
       "      <td>7801e8d9</td>\n",
       "      <td>...</td>\n",
       "      <td>0</td>\n",
       "      <td>17654</td>\n",
       "      <td>300</td>\n",
       "      <td>250</td>\n",
       "      <td>2</td>\n",
       "      <td>39</td>\n",
       "      <td>-1</td>\n",
       "      <td>33</td>\n",
       "      <td>0</td>\n",
       "      <td>Tuesday</td>\n",
       "    </tr>\n",
       "    <tr>\n",
       "      <th>1</th>\n",
       "      <td>586388666</td>\n",
       "      <td>0</td>\n",
       "      <td>2014-10-21</td>\n",
       "      <td>1005</td>\n",
       "      <td>0</td>\n",
       "      <td>85f751fd</td>\n",
       "      <td>c4e18dd6</td>\n",
       "      <td>50e219e0</td>\n",
       "      <td>e2fcccd2</td>\n",
       "      <td>5c5a694b</td>\n",
       "      <td>...</td>\n",
       "      <td>0</td>\n",
       "      <td>4687</td>\n",
       "      <td>320</td>\n",
       "      <td>50</td>\n",
       "      <td>2</td>\n",
       "      <td>39</td>\n",
       "      <td>100148</td>\n",
       "      <td>32</td>\n",
       "      <td>0</td>\n",
       "      <td>Tuesday</td>\n",
       "    </tr>\n",
       "    <tr>\n",
       "      <th>2</th>\n",
       "      <td>762526870</td>\n",
       "      <td>0</td>\n",
       "      <td>2014-10-21</td>\n",
       "      <td>1010</td>\n",
       "      <td>1</td>\n",
       "      <td>85f751fd</td>\n",
       "      <td>c4e18dd6</td>\n",
       "      <td>50e219e0</td>\n",
       "      <td>ffc6ffd0</td>\n",
       "      <td>7801e8d9</td>\n",
       "      <td>...</td>\n",
       "      <td>0</td>\n",
       "      <td>21665</td>\n",
       "      <td>320</td>\n",
       "      <td>50</td>\n",
       "      <td>3</td>\n",
       "      <td>35</td>\n",
       "      <td>100050</td>\n",
       "      <td>117</td>\n",
       "      <td>0</td>\n",
       "      <td>Tuesday</td>\n",
       "    </tr>\n",
       "    <tr>\n",
       "      <th>3</th>\n",
       "      <td>-1928484824</td>\n",
       "      <td>0</td>\n",
       "      <td>2014-10-21</td>\n",
       "      <td>1005</td>\n",
       "      <td>0</td>\n",
       "      <td>1fbe01fe</td>\n",
       "      <td>f3845767</td>\n",
       "      <td>28905ebd</td>\n",
       "      <td>ecad2386</td>\n",
       "      <td>7801e8d9</td>\n",
       "      <td>...</td>\n",
       "      <td>0</td>\n",
       "      <td>15704</td>\n",
       "      <td>320</td>\n",
       "      <td>50</td>\n",
       "      <td>0</td>\n",
       "      <td>35</td>\n",
       "      <td>-1</td>\n",
       "      <td>79</td>\n",
       "      <td>0</td>\n",
       "      <td>Tuesday</td>\n",
       "    </tr>\n",
       "    <tr>\n",
       "      <th>4</th>\n",
       "      <td>-1368186722</td>\n",
       "      <td>1</td>\n",
       "      <td>2014-10-21</td>\n",
       "      <td>1005</td>\n",
       "      <td>0</td>\n",
       "      <td>1fbe01fe</td>\n",
       "      <td>f3845767</td>\n",
       "      <td>28905ebd</td>\n",
       "      <td>ecad2386</td>\n",
       "      <td>7801e8d9</td>\n",
       "      <td>...</td>\n",
       "      <td>0</td>\n",
       "      <td>15708</td>\n",
       "      <td>320</td>\n",
       "      <td>50</td>\n",
       "      <td>0</td>\n",
       "      <td>35</td>\n",
       "      <td>100084</td>\n",
       "      <td>79</td>\n",
       "      <td>0</td>\n",
       "      <td>Tuesday</td>\n",
       "    </tr>\n",
       "  </tbody>\n",
       "</table>\n",
       "<p>5 rows × 25 columns</p>\n",
       "</div>"
      ],
      "text/plain": [
       "           id  click       hour    C1  banner_pos   site_id site_domain  \\\n",
       "0  1275849718      0 2014-10-21  1005           0  5b08c53b    7687a86e   \n",
       "1   586388666      0 2014-10-21  1005           0  85f751fd    c4e18dd6   \n",
       "2   762526870      0 2014-10-21  1010           1  85f751fd    c4e18dd6   \n",
       "3 -1928484824      0 2014-10-21  1005           0  1fbe01fe    f3845767   \n",
       "4 -1368186722      1 2014-10-21  1005           0  1fbe01fe    f3845767   \n",
       "\n",
       "  site_category    app_id app_domain  ... device_conn_type    C14  C15  C16  \\\n",
       "0      3e814130  ecad2386   7801e8d9  ...                0  17654  300  250   \n",
       "1      50e219e0  e2fcccd2   5c5a694b  ...                0   4687  320   50   \n",
       "2      50e219e0  ffc6ffd0   7801e8d9  ...                0  21665  320   50   \n",
       "3      28905ebd  ecad2386   7801e8d9  ...                0  15704  320   50   \n",
       "4      28905ebd  ecad2386   7801e8d9  ...                0  15708  320   50   \n",
       "\n",
       "   C18  C19     C20  C21  hour_of_day  day_of_week  \n",
       "0    2   39      -1   33            0      Tuesday  \n",
       "1    2   39  100148   32            0      Tuesday  \n",
       "2    3   35  100050  117            0      Tuesday  \n",
       "3    0   35      -1   79            0      Tuesday  \n",
       "4    0   35  100084   79            0      Tuesday  \n",
       "\n",
       "[5 rows x 25 columns]"
      ]
     },
     "execution_count": 75,
     "metadata": {},
     "output_type": "execute_result"
    }
   ],
   "source": [
    "train.head()"
   ]
  },
  {
   "cell_type": "code",
   "execution_count": 76,
   "metadata": {},
   "outputs": [],
   "source": [
    "train.drop(['hour'], axis=1, inplace=True)"
   ]
  },
  {
   "cell_type": "markdown",
   "metadata": {},
   "source": [
    "### 1. Drop high uniques for simplicity\n",
    "\n",
    "To make this analysis simple, we will go ahead and remove the features with high amount of distinct values to test a sample model."
   ]
  },
  {
   "cell_type": "code",
   "execution_count": 77,
   "metadata": {},
   "outputs": [],
   "source": [
    "high_uniques = ['site_id', 'site_domain', 'app_id', 'app_domain', 'device_id', 'device_ip', 'device_model']\n",
    "# train.drop(high_uniques, axis=1, inplace=True)"
   ]
  },
  {
   "cell_type": "markdown",
   "metadata": {},
   "source": [
    "### 2. Try converting the distinct objects into a number\n",
    "\n",
    "This method is proposed by Susan Li and it's good to retain as much information as we can since all the uniques will be easier to model since they will all be numerical values, which also helps speed and performance as long as the final result is beneficial."
   ]
  },
  {
   "cell_type": "code",
   "execution_count": 78,
   "metadata": {},
   "outputs": [],
   "source": [
    "def convert_obj_to_int(self):\n",
    "    '''Converts objects to integers\n",
    "    A hash function is a function that maps a set of objects to a set of integers. \n",
    "    When using a hash function, this mapping is performed which takes a key of arbitrary \n",
    "    length as input and outputs an integer in a specific range.\n",
    "    '''\n",
    "    object_list_columns = self.columns\n",
    "    object_list_dtypes = self.dtypes\n",
    "    new_col_suffix = '_int'\n",
    "    for index in range(0, len(object_list_columns)):\n",
    "        if object_list_dtypes[index] == object :\n",
    "            self[object_list_columns[index]+new_col_suffix] = self[object_list_columns[index]].map(lambda x: hash(x))\n",
    "            self.drop([object_list_columns[index]],inplace=True,axis=1)\n",
    "    return self"
   ]
  },
  {
   "cell_type": "code",
   "execution_count": 79,
   "metadata": {},
   "outputs": [],
   "source": [
    "train_obj = convert_obj_to_int(train)"
   ]
  },
  {
   "cell_type": "code",
   "execution_count": 80,
   "metadata": {},
   "outputs": [
    {
     "data": {
      "text/html": [
       "<div>\n",
       "<style scoped>\n",
       "    .dataframe tbody tr th:only-of-type {\n",
       "        vertical-align: middle;\n",
       "    }\n",
       "\n",
       "    .dataframe tbody tr th {\n",
       "        vertical-align: top;\n",
       "    }\n",
       "\n",
       "    .dataframe thead th {\n",
       "        text-align: right;\n",
       "    }\n",
       "</style>\n",
       "<table border=\"1\" class=\"dataframe\">\n",
       "  <thead>\n",
       "    <tr style=\"text-align: right;\">\n",
       "      <th></th>\n",
       "      <th>id</th>\n",
       "      <th>click</th>\n",
       "      <th>C1</th>\n",
       "      <th>banner_pos</th>\n",
       "      <th>device_type</th>\n",
       "      <th>device_conn_type</th>\n",
       "      <th>C14</th>\n",
       "      <th>C15</th>\n",
       "      <th>C16</th>\n",
       "      <th>C18</th>\n",
       "      <th>...</th>\n",
       "      <th>site_id_int</th>\n",
       "      <th>site_domain_int</th>\n",
       "      <th>site_category_int</th>\n",
       "      <th>app_id_int</th>\n",
       "      <th>app_domain_int</th>\n",
       "      <th>app_category_int</th>\n",
       "      <th>device_id_int</th>\n",
       "      <th>device_ip_int</th>\n",
       "      <th>device_model_int</th>\n",
       "      <th>day_of_week_int</th>\n",
       "    </tr>\n",
       "  </thead>\n",
       "  <tbody>\n",
       "    <tr>\n",
       "      <th>0</th>\n",
       "      <td>1275849718</td>\n",
       "      <td>0</td>\n",
       "      <td>1005</td>\n",
       "      <td>0</td>\n",
       "      <td>1</td>\n",
       "      <td>0</td>\n",
       "      <td>17654</td>\n",
       "      <td>300</td>\n",
       "      <td>250</td>\n",
       "      <td>2</td>\n",
       "      <td>...</td>\n",
       "      <td>-3997306678260791189</td>\n",
       "      <td>985271594061167740</td>\n",
       "      <td>-5006170455031389097</td>\n",
       "      <td>3569624624142095216</td>\n",
       "      <td>5486881615322149039</td>\n",
       "      <td>9112727393304216200</td>\n",
       "      <td>-5409865115524770807</td>\n",
       "      <td>639442322619144252</td>\n",
       "      <td>-3161250319772339712</td>\n",
       "      <td>-8516587911345908712</td>\n",
       "    </tr>\n",
       "    <tr>\n",
       "      <th>1</th>\n",
       "      <td>586388666</td>\n",
       "      <td>0</td>\n",
       "      <td>1005</td>\n",
       "      <td>0</td>\n",
       "      <td>1</td>\n",
       "      <td>0</td>\n",
       "      <td>4687</td>\n",
       "      <td>320</td>\n",
       "      <td>50</td>\n",
       "      <td>2</td>\n",
       "      <td>...</td>\n",
       "      <td>-3104077196248303490</td>\n",
       "      <td>-1713271975532789073</td>\n",
       "      <td>4133374375012986645</td>\n",
       "      <td>3711088384477536498</td>\n",
       "      <td>-4536136153828847741</td>\n",
       "      <td>8780151010178048173</td>\n",
       "      <td>-5409865115524770807</td>\n",
       "      <td>6377989977688269182</td>\n",
       "      <td>7570313751369918355</td>\n",
       "      <td>-8516587911345908712</td>\n",
       "    </tr>\n",
       "    <tr>\n",
       "      <th>2</th>\n",
       "      <td>762526870</td>\n",
       "      <td>0</td>\n",
       "      <td>1010</td>\n",
       "      <td>1</td>\n",
       "      <td>4</td>\n",
       "      <td>0</td>\n",
       "      <td>21665</td>\n",
       "      <td>320</td>\n",
       "      <td>50</td>\n",
       "      <td>3</td>\n",
       "      <td>...</td>\n",
       "      <td>-3104077196248303490</td>\n",
       "      <td>-1713271975532789073</td>\n",
       "      <td>4133374375012986645</td>\n",
       "      <td>-7909322312606508772</td>\n",
       "      <td>5486881615322149039</td>\n",
       "      <td>8780151010178048173</td>\n",
       "      <td>-6910601243676970909</td>\n",
       "      <td>8453180855881554275</td>\n",
       "      <td>559612316064008307</td>\n",
       "      <td>-8516587911345908712</td>\n",
       "    </tr>\n",
       "    <tr>\n",
       "      <th>3</th>\n",
       "      <td>-1928484824</td>\n",
       "      <td>0</td>\n",
       "      <td>1005</td>\n",
       "      <td>0</td>\n",
       "      <td>1</td>\n",
       "      <td>0</td>\n",
       "      <td>15704</td>\n",
       "      <td>320</td>\n",
       "      <td>50</td>\n",
       "      <td>0</td>\n",
       "      <td>...</td>\n",
       "      <td>-7613066818148367506</td>\n",
       "      <td>4089214655931957738</td>\n",
       "      <td>-1557492131701253240</td>\n",
       "      <td>3569624624142095216</td>\n",
       "      <td>5486881615322149039</td>\n",
       "      <td>9112727393304216200</td>\n",
       "      <td>-5409865115524770807</td>\n",
       "      <td>-2131247152131854894</td>\n",
       "      <td>6888237370495243028</td>\n",
       "      <td>-8516587911345908712</td>\n",
       "    </tr>\n",
       "    <tr>\n",
       "      <th>4</th>\n",
       "      <td>-1368186722</td>\n",
       "      <td>1</td>\n",
       "      <td>1005</td>\n",
       "      <td>0</td>\n",
       "      <td>1</td>\n",
       "      <td>0</td>\n",
       "      <td>15708</td>\n",
       "      <td>320</td>\n",
       "      <td>50</td>\n",
       "      <td>0</td>\n",
       "      <td>...</td>\n",
       "      <td>-7613066818148367506</td>\n",
       "      <td>4089214655931957738</td>\n",
       "      <td>-1557492131701253240</td>\n",
       "      <td>3569624624142095216</td>\n",
       "      <td>5486881615322149039</td>\n",
       "      <td>9112727393304216200</td>\n",
       "      <td>-5409865115524770807</td>\n",
       "      <td>5547190128436946562</td>\n",
       "      <td>-224106564721961331</td>\n",
       "      <td>-8516587911345908712</td>\n",
       "    </tr>\n",
       "  </tbody>\n",
       "</table>\n",
       "<p>5 rows × 24 columns</p>\n",
       "</div>"
      ],
      "text/plain": [
       "           id  click    C1  banner_pos  device_type  device_conn_type    C14  \\\n",
       "0  1275849718      0  1005           0            1                 0  17654   \n",
       "1   586388666      0  1005           0            1                 0   4687   \n",
       "2   762526870      0  1010           1            4                 0  21665   \n",
       "3 -1928484824      0  1005           0            1                 0  15704   \n",
       "4 -1368186722      1  1005           0            1                 0  15708   \n",
       "\n",
       "   C15  C16  C18  ...          site_id_int      site_domain_int  \\\n",
       "0  300  250    2  ... -3997306678260791189   985271594061167740   \n",
       "1  320   50    2  ... -3104077196248303490 -1713271975532789073   \n",
       "2  320   50    3  ... -3104077196248303490 -1713271975532789073   \n",
       "3  320   50    0  ... -7613066818148367506  4089214655931957738   \n",
       "4  320   50    0  ... -7613066818148367506  4089214655931957738   \n",
       "\n",
       "     site_category_int           app_id_int       app_domain_int  \\\n",
       "0 -5006170455031389097  3569624624142095216  5486881615322149039   \n",
       "1  4133374375012986645  3711088384477536498 -4536136153828847741   \n",
       "2  4133374375012986645 -7909322312606508772  5486881615322149039   \n",
       "3 -1557492131701253240  3569624624142095216  5486881615322149039   \n",
       "4 -1557492131701253240  3569624624142095216  5486881615322149039   \n",
       "\n",
       "      app_category_int        device_id_int        device_ip_int  \\\n",
       "0  9112727393304216200 -5409865115524770807   639442322619144252   \n",
       "1  8780151010178048173 -5409865115524770807  6377989977688269182   \n",
       "2  8780151010178048173 -6910601243676970909  8453180855881554275   \n",
       "3  9112727393304216200 -5409865115524770807 -2131247152131854894   \n",
       "4  9112727393304216200 -5409865115524770807  5547190128436946562   \n",
       "\n",
       "      device_model_int      day_of_week_int  \n",
       "0 -3161250319772339712 -8516587911345908712  \n",
       "1  7570313751369918355 -8516587911345908712  \n",
       "2   559612316064008307 -8516587911345908712  \n",
       "3  6888237370495243028 -8516587911345908712  \n",
       "4  -224106564721961331 -8516587911345908712  \n",
       "\n",
       "[5 rows x 24 columns]"
      ]
     },
     "execution_count": 80,
     "metadata": {},
     "output_type": "execute_result"
    }
   ],
   "source": [
    "train_obj.head()"
   ]
  },
  {
   "cell_type": "code",
   "execution_count": 81,
   "metadata": {},
   "outputs": [
    {
     "data": {
      "text/plain": [
       "id                   int32\n",
       "click                int32\n",
       "C1                   int32\n",
       "banner_pos           int32\n",
       "device_type          int32\n",
       "device_conn_type     int32\n",
       "C14                  int32\n",
       "C15                  int32\n",
       "C16                  int32\n",
       "C18                  int32\n",
       "C19                  int32\n",
       "C20                  int32\n",
       "C21                  int32\n",
       "hour_of_day          int64\n",
       "site_id_int          int64\n",
       "site_domain_int      int64\n",
       "site_category_int    int64\n",
       "app_id_int           int64\n",
       "app_domain_int       int64\n",
       "app_category_int     int64\n",
       "device_id_int        int64\n",
       "device_ip_int        int64\n",
       "device_model_int     int64\n",
       "day_of_week_int      int64\n",
       "dtype: object"
      ]
     },
     "execution_count": 81,
     "metadata": {},
     "output_type": "execute_result"
    }
   ],
   "source": [
    "train_obj.dtypes"
   ]
  },
  {
   "cell_type": "markdown",
   "metadata": {},
   "source": [
    "### Preparing to model"
   ]
  },
  {
   "cell_type": "code",
   "execution_count": 82,
   "metadata": {},
   "outputs": [],
   "source": [
    "# # Create dummy variables\n",
    "# dummy_train = pd.get_dummies(data=train)\n",
    "\n",
    "# # train.drop([''], axis=1, inplace=True)\n",
    "# # dummy_train = pd.concat([train], axis=1)"
   ]
  },
  {
   "cell_type": "code",
   "execution_count": 83,
   "metadata": {},
   "outputs": [],
   "source": [
    "ids = train_obj.id\n",
    "train_obj.drop(['id'], axis=1, inplace=True)"
   ]
  },
  {
   "cell_type": "code",
   "execution_count": 84,
   "metadata": {},
   "outputs": [
    {
     "name": "stdout",
     "output_type": "stream",
     "text": [
      "=========== Data Summary ===========\n",
      "Feature Data:  (500000, 22)\n",
      "Label Data:  (500000, 1)\n",
      "Training Data Shape: (350000, 22)\n",
      "Testing Data Shape: (150000, 22)\n",
      "Training Output Shape: (350000, 1)\n",
      "Testing Output Shape: (150000, 1)\n"
     ]
    }
   ],
   "source": [
    "print('=========== Data Summary ===========')\n",
    "# Split data\n",
    "y = train_obj[['click']]\n",
    "X = train_obj.drop(['click'], axis=1)\n",
    "\n",
    "print('Feature Data: ', X.shape)\n",
    "print('Label Data: ', y.shape)\n",
    "\n",
    "# Split into train and test datasets\n",
    "X_train, X_test, y_train, y_test = train_test_split(X, y, test_size=0.30, random_state=100)\n",
    "\n",
    "print('Training Data Shape:', X_train.shape)\n",
    "print('Testing Data Shape:', X_test.shape)\n",
    "\n",
    "print('Training Output Shape:', y_train.shape)\n",
    "print('Testing Output Shape:', y_test.shape)"
   ]
  },
  {
   "cell_type": "code",
   "execution_count": 85,
   "metadata": {},
   "outputs": [],
   "source": [
    "# # Scaler\n",
    "# scaler = RobustScaler()\n",
    "# X_train = scaler.fit_transform(X_train)\n",
    "# X_test = scaler.transform(X_test)"
   ]
  },
  {
   "cell_type": "markdown",
   "metadata": {},
   "source": [
    "### XGB"
   ]
  },
  {
   "cell_type": "code",
   "execution_count": 95,
   "metadata": {},
   "outputs": [
    {
     "name": "stdout",
     "output_type": "stream",
     "text": [
      "XGBoost Parameters\n",
      " ETA: 0.1, MAX_DEPTH: 5, SUBSAMPLE: 0.8, COLSAMPLE_BY_TREE: 0.8\n",
      " Run for 200 rounds.\n"
     ]
    }
   ],
   "source": [
    "# Param\n",
    "eta = 0.1\n",
    "max_depth = 5\n",
    "subsample = 0.8\n",
    "colsample_bytree = 0.8\n",
    "learning_rate = 0.02\n",
    "n_estimators = 5000\n",
    "\n",
    "# XGB\n",
    "clf = XGBClassifier(\n",
    "    n_estimators=5000,\n",
    "    learning_rate=learning_rate,\n",
    "    subsample=subsample,\n",
    "    colsample_bytree=colsample_bytree,\n",
    "    eval_metric='logloss',\n",
    "    tree_method='gpu_hist',\n",
    "    objective='binary:logistic',\n",
    "    booster='gbtree',\n",
    "    random_state=seed\n",
    ")  \n",
    "\n",
    "# Set params\n",
    "params = {\n",
    "    'objective': 'binary:logistic',\n",
    "    'booster' : 'gbtree',\n",
    "    'eval_metric': 'logloss',\n",
    "    'tree_method': 'gpu_hist', \n",
    "    'eta': eta,\n",
    "    'max_depth': max_depth,\n",
    "    'subsample': subsample,\n",
    "    'colsample_bytree': colsample_bytree\n",
    "#     'silent': 1,\n",
    "}\n",
    "num_boost_round = 500\n",
    "early_stopping_rounds = 200\n",
    "\n",
    "print('XGBoost Parameters\\n ETA: {}, MAX_DEPTH: {}, SUBSAMPLE: {}, COLSAMPLE_BY_TREE: {}\\n Run for {} rounds.'.format(eta, max_depth, subsample, colsample_bytree, early_stopping_rounds))"
   ]
  },
  {
   "cell_type": "code",
   "execution_count": 96,
   "metadata": {},
   "outputs": [
    {
     "name": "stdout",
     "output_type": "stream",
     "text": [
      "[0]\tvalidation_0-logloss:0.68408\n",
      "Will train until validation_0-logloss hasn't improved in 200 rounds.\n",
      "[100]\tvalidation_0-logloss:0.438469\n",
      "[200]\tvalidation_0-logloss:0.425063\n",
      "[300]\tvalidation_0-logloss:0.421186\n",
      "[400]\tvalidation_0-logloss:0.418497\n",
      "[500]\tvalidation_0-logloss:0.416367\n",
      "[600]\tvalidation_0-logloss:0.414365\n",
      "[700]\tvalidation_0-logloss:0.412781\n",
      "[800]\tvalidation_0-logloss:0.411626\n",
      "[900]\tvalidation_0-logloss:0.410637\n",
      "[1000]\tvalidation_0-logloss:0.409709\n",
      "[1100]\tvalidation_0-logloss:0.408923\n",
      "[1200]\tvalidation_0-logloss:0.408201\n",
      "[1300]\tvalidation_0-logloss:0.40752\n",
      "[1400]\tvalidation_0-logloss:0.406918\n",
      "[1500]\tvalidation_0-logloss:0.406294\n",
      "[1600]\tvalidation_0-logloss:0.405731\n",
      "[1700]\tvalidation_0-logloss:0.405233\n",
      "[1800]\tvalidation_0-logloss:0.404744\n",
      "[1900]\tvalidation_0-logloss:0.404283\n",
      "[2000]\tvalidation_0-logloss:0.40389\n",
      "[2100]\tvalidation_0-logloss:0.40349\n",
      "[2200]\tvalidation_0-logloss:0.403126\n",
      "[2300]\tvalidation_0-logloss:0.402778\n",
      "[2400]\tvalidation_0-logloss:0.402444\n",
      "[2500]\tvalidation_0-logloss:0.402162\n",
      "[2600]\tvalidation_0-logloss:0.401829\n",
      "[2700]\tvalidation_0-logloss:0.40153\n",
      "[2800]\tvalidation_0-logloss:0.401272\n",
      "[2900]\tvalidation_0-logloss:0.400991\n",
      "[3000]\tvalidation_0-logloss:0.400734\n",
      "[3100]\tvalidation_0-logloss:0.400503\n",
      "[3200]\tvalidation_0-logloss:0.400263\n",
      "[3300]\tvalidation_0-logloss:0.400033\n",
      "[3400]\tvalidation_0-logloss:0.399808\n",
      "[3500]\tvalidation_0-logloss:0.399573\n",
      "[3600]\tvalidation_0-logloss:0.399365\n",
      "[3700]\tvalidation_0-logloss:0.399156\n",
      "[3800]\tvalidation_0-logloss:0.398959\n",
      "[3900]\tvalidation_0-logloss:0.398773\n",
      "[4000]\tvalidation_0-logloss:0.398584\n",
      "[4100]\tvalidation_0-logloss:0.398389\n",
      "[4200]\tvalidation_0-logloss:0.3982\n",
      "[4300]\tvalidation_0-logloss:0.39802\n",
      "[4400]\tvalidation_0-logloss:0.397839\n",
      "[4500]\tvalidation_0-logloss:0.397671\n",
      "[4600]\tvalidation_0-logloss:0.397488\n",
      "[4700]\tvalidation_0-logloss:0.397318\n",
      "[4800]\tvalidation_0-logloss:0.397155\n",
      "[4900]\tvalidation_0-logloss:0.396996\n",
      "[4999]\tvalidation_0-logloss:0.396837\n"
     ]
    }
   ],
   "source": [
    "# Create evaluation list\n",
    "eval_list = [(X_train, y_train)]\n",
    "\n",
    "xgb_model = clf.fit(X_train, y_train,\n",
    "                    eval_set=eval_list,\n",
    "                    early_stopping_rounds=early_stopping_rounds,\n",
    "                    verbose=100\n",
    "                   )"
   ]
  },
  {
   "cell_type": "code",
   "execution_count": null,
   "metadata": {},
   "outputs": [],
   "source": []
  },
  {
   "cell_type": "code",
   "execution_count": null,
   "metadata": {},
   "outputs": [],
   "source": []
  },
  {
   "cell_type": "code",
   "execution_count": null,
   "metadata": {},
   "outputs": [],
   "source": []
  },
  {
   "cell_type": "code",
   "execution_count": null,
   "metadata": {},
   "outputs": [],
   "source": []
  }
 ],
 "metadata": {
  "kernelspec": {
   "display_name": "Python 3.6 (TensorFlow)",
   "language": "python",
   "name": "tf-test"
  },
  "language_info": {
   "codemirror_mode": {
    "name": "ipython",
    "version": 3
   },
   "file_extension": ".py",
   "mimetype": "text/x-python",
   "name": "python",
   "nbconvert_exporter": "python",
   "pygments_lexer": "ipython3",
   "version": "3.6.8"
  }
 },
 "nbformat": 4,
 "nbformat_minor": 2
}
