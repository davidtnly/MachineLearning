{
 "cells": [
  {
   "cell_type": "markdown",
   "metadata": {},
   "source": [
    "## Part 2: RFA Clustering - Customer Segmentation\n",
    "\n",
    "Part 1 was EDA/metrics in notebook 18. Notes from this notebook comes from various resources listed at the end of the notebook."
   ]
  },
  {
   "cell_type": "markdown",
   "metadata": {},
   "source": [
    "--------"
   ]
  },
  {
   "cell_type": "markdown",
   "metadata": {},
   "source": [
    "### Understanding Customer Segmentation\n",
    "\n",
    "A basic definition of this would be somewhere along the lines of \"dividing a customer base into groups of individuals with similar attributes\". \n",
    "\n",
    "### Types of Customer Segmentation\n",
    "\n",
    "There are a lot of ways to do customer segmentation. The most common ways in which a lot of businesses segment their customers are:\n",
    "\n",
    "- Demographic: gender, age, familial status, marital status, income , education, etc.\n",
    "- Geographic: location\n",
    "- Psychographic: social class, lifestyle, personality traits, spending habits, hobbies, principles, beliefs, etc.\n",
    "- Behavioral: loyalty, spending and consumption habits, product usage, readiness to purchase, etc.\n",
    "\n",
    "### Why is customer segmentation important?\n",
    "\n",
    "Customer segmentation isn’t just a suggestion – it’s a necessity.\n",
    "\n",
    "In the following section, I'll list out some benefits of customer segmentation and how a company can grow from it.\n",
    "\n",
    "- The more you know about your customer, the better you'll be able to fucos on catering to their needs. Create targeted advertisement and marketing campaigns and fine-tune to specific groups for better ROI.\n",
    "\n",
    "\n",
    "- Allows you to expand strategically, since you’ll know to move into areas populated by individuals most similar to your current customer base. By truly understanding your customers on an almost individual level, you’ll have a better idea of how your company can expand its reach.\n",
    "\n",
    "\n",
    "- When your customers trust your company, they’ll be more likely to return to you when they find themselves in a similar situation in the future. On the surface, this is because you’ve helped them out in the past, having given them exactly what they needed to __overcome a certain pain point__. By segmenting your customers into specific subsets, you gain a general idea of what else you can provide them. In doing so, you make it much more likely that they’ll return to you when they’re in need some time down the line.\n",
    "\n",
    "\n",
    "- Capitalize When The Time is Right. Segmenting your customers also allows you to know when a specific persona is most likely to be in need of your services. In other words, different types of customers will be in need of your services at different times throughout the year.\n",
    "\n",
    "\n",
    "- Price Optimization. By optimizing the price of your product, you not only ensure your customers get the most value for their dollar, but you also ensure your company generates the maximum amount of revenue possible.\n",
    "\n",
    "### Example\n",
    "\n",
    "Psychographic data deals with a variety of personality traits and characteristics. This data generally relates to each of the other categories in some way or another – but provides supplemental information that can prove to be vital to your marketing campaign.\n",
    "\n",
    "For example, while you may know a large percentage of your customer base is made up of 30-35 year old married men from California, this information doesn’t mean much until you dig deeper and discover most of them enjoy sports, action movies, and craft beer. You might also discover other traits such as political and religious affiliations, as well as their attitudes toward certain cultural or societal phenomena.\n",
    "\n",
    "Behavioral data focuses specifically on the type of customer a specific person (or type of person) is. This type of data tells you:\n",
    "\n",
    "- The time of day they tend to shop and make purchases\n",
    "- The time of year they shop and make purchases\n",
    "- The routines they go through when shopping\n",
    "- Their preferred method of shopping\n",
    "- The ways in which they use what they’ve purchased\n",
    "\n",
    "Behavioral data also takes into consideration a customer’s history with your brand. You can classify customer personas in terms of their loyalty by analyzing their:\n",
    "\n",
    "- Recent purchases\n",
    "- Number of transactions within a specific time period\n",
    "- Longevity\n",
    "- Referrals\n",
    "\n",
    "Once you’ve collected as much data about your customers as you possibly can, you’re ready to start making sense of it all and figuring out how you can use it to improve your company’s performance.\n",
    "\n",
    "- Determine Segment Sizes\n",
    "- Estimate the Value of Segments\n",
    "- Experiment with Cross-tabbing\n"
   ]
  },
  {
   "cell_type": "markdown",
   "metadata": {},
   "source": [
    "### Recency - Frequency - Montetary Value (RFM) Segmentation\n",
    "\n",
    "This example used by Karaman is a marketing technique used to determine quantitatively which customers are the best ones by examining how recently a customer has purchased (recency), how often they purchased (frequency), and how much the spends (monetary). RFM analysis is based on the marketing axiom that \"80% of your business comes from 20% of your customers.\"\n",
    "\n",
    "Typical segments:\n",
    "- Low Value: Customers who are less active than others, not very frequent buyer/visitor and generates very low - zero - maybe negative revenue.\n",
    "\n",
    "\n",
    "- Mid Value: In the middle of everything. Often using our platform (but not as much as our High Values), fairly frequent and generates moderate revenue.\n",
    "\n",
    "\n",
    "- High Value: The group we don’t want to lose. High Revenue, Frequency and low Inactivity."
   ]
  },
  {
   "cell_type": "code",
   "execution_count": null,
   "metadata": {},
   "outputs": [],
   "source": []
  },
  {
   "cell_type": "code",
   "execution_count": null,
   "metadata": {},
   "outputs": [],
   "source": []
  },
  {
   "cell_type": "code",
   "execution_count": null,
   "metadata": {},
   "outputs": [],
   "source": []
  },
  {
   "cell_type": "code",
   "execution_count": null,
   "metadata": {},
   "outputs": [],
   "source": []
  },
  {
   "cell_type": "code",
   "execution_count": null,
   "metadata": {},
   "outputs": [],
   "source": []
  },
  {
   "cell_type": "code",
   "execution_count": null,
   "metadata": {},
   "outputs": [],
   "source": []
  },
  {
   "cell_type": "markdown",
   "metadata": {},
   "source": [
    "### Resources\n",
    "\n",
    "- [Customer Segmentation](https://www.insanegrowth.com/customer-segmentation/)\n",
    "- [RFM](https://searchdatamanagement.techtarget.com/definition/RFM-analysis)"
   ]
  }
 ],
 "metadata": {
  "kernelspec": {
   "display_name": "Python 3.6 (TensorFlow)",
   "language": "python",
   "name": "tf-test"
  },
  "language_info": {
   "codemirror_mode": {
    "name": "ipython",
    "version": 3
   },
   "file_extension": ".py",
   "mimetype": "text/x-python",
   "name": "python",
   "nbconvert_exporter": "python",
   "pygments_lexer": "ipython3",
   "version": "3.6.8"
  }
 },
 "nbformat": 4,
 "nbformat_minor": 2
}
