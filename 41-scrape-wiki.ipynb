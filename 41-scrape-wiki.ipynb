{
 "cells": [
  {
   "cell_type": "code",
   "execution_count": null,
   "metadata": {},
   "outputs": [],
   "source": [
    "import pandas as pd\n",
    "data = pd.read_html(\"https://en.wikipedia.org/wiki/Super_Bowl_LIV\")\n",
    "\n",
    "print(len(data))\n",
    "\n",
    "print(data[6])\n",
    "\n",
    "print(data[4])\n",
    "\n",
    "df = data[4]\n",
    "\n",
    "df = df.drop([0, 1, 12], axis=0) #  drop rows 0, 1, and 12; axis=0 (rows)\n",
    "print(df)\n",
    "\n",
    "df.iloc[0] # iloc method is that it works by accessing the underlying index position rather than the index number or identifier that we see\n",
    "\n",
    "df.columns = list(df.iloc[0]) # rename the columns using the cell names in that row\n",
    "df\n",
    "\n",
    "df = df.drop(2, axis=0) # remove row 2\n",
    "df\n",
    "\n",
    "df = df.reset_index(drop=True)\n",
    "df\n",
    "\n",
    "# automate\n",
    "def score_table(table):\n",
    "    \"\"\"\n",
    "    Returns a pretty-printed dataframe of scoring summary\n",
    "    \"\"\"\n",
    "\n",
    "    table = table.drop(len(table)-1) # Drop last row\n",
    "    table = table.drop([0, 1]) # Drop first two rows\n",
    "    table.columns = list(table.iloc[0])\n",
    "    table = table.drop(2) \n",
    "    table = table.reset_index(drop=True)\n",
    "    return table\n",
    "\n",
    "data = pd.read_html(“https://en.wikipedia.org/wiki/Super_Bowl_LIII”)\n",
    "score_table(data[4])\n",
    "\n",
    "# test https://coronavirus.jhu.edu/data/mortality\n",
    "# https://github.com/LBBL96/Pandas-Web-Scraping-Tutorial"
   ]
  }
 ],
 "metadata": {
  "kernelspec": {
   "display_name": "Python 3.7(NLP)",
   "language": "python",
   "name": "nlp"
  },
  "language_info": {
   "codemirror_mode": {
    "name": "ipython",
    "version": 3
   },
   "file_extension": ".py",
   "mimetype": "text/x-python",
   "name": "python",
   "nbconvert_exporter": "python",
   "pygments_lexer": "ipython3",
   "version": "3.7.7"
  }
 },
 "nbformat": 4,
 "nbformat_minor": 4
}
