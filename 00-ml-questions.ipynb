{
 "cells": [
  {
   "cell_type": "markdown",
   "metadata": {},
   "source": [
    "# Questions"
   ]
  },
  {
   "cell_type": "markdown",
   "metadata": {},
   "source": [
    "---------"
   ]
  },
  {
   "cell_type": "markdown",
   "metadata": {},
   "source": [
    "### Why would you want to use dimensionality reduction techniques to transform your data before training?\n",
    "\n",
    "Dimensionality reduction can allow you to:\n",
    "\n",
    "- Remove collinearity from the feature space\n",
    "- Speed up training by reducing the number of features\n",
    "- Reduce memory usage by reducing the number of features\n",
    "- Identify underlying, latent features that impact multiple features in the original space"
   ]
  },
  {
   "cell_type": "markdown",
   "metadata": {},
   "source": [
    "### Why would you want to avoid dimensionality reduction techniques to transform your data before training?\n",
    "\n",
    "Dimensionality reduction can:\n",
    "- Add extra unnecessary computation\n",
    "- Make the model difficult to interpret if the latent features are not easy to understand\n",
    "- Add complexity to the model pipeline\n",
    "- Reduce the predictive power of the model if too much signal is lost"
   ]
  },
  {
   "cell_type": "code",
   "execution_count": null,
   "metadata": {},
   "outputs": [],
   "source": []
  }
 ],
 "metadata": {
  "kernelspec": {
   "display_name": "Python 3.6 (TensorFlow)",
   "language": "python",
   "name": "tf-test"
  },
  "language_info": {
   "codemirror_mode": {
    "name": "ipython",
    "version": 3
   },
   "file_extension": ".py",
   "mimetype": "text/x-python",
   "name": "python",
   "nbconvert_exporter": "python",
   "pygments_lexer": "ipython3",
   "version": "3.6.8"
  }
 },
 "nbformat": 4,
 "nbformat_minor": 2
}
